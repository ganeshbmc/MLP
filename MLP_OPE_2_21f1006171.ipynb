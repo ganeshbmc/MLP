{
  "nbformat": 4,
  "nbformat_minor": 0,
  "metadata": {
    "colab": {
      "name": "MLP_OPE_2_21f1006171.ipynb",
      "provenance": [],
      "collapsed_sections": [],
      "include_colab_link": true
    },
    "kernelspec": {
      "name": "python3",
      "display_name": "Python 3"
    },
    "language_info": {
      "name": "python"
    }
  },
  "cells": [
    {
      "cell_type": "markdown",
      "metadata": {
        "id": "view-in-github",
        "colab_type": "text"
      },
      "source": [
        "<a href=\"https://colab.research.google.com/github/ganeshbmc/MLP/blob/main/MLP_OPE_2_21f1006171.ipynb\" target=\"_parent\"><img src=\"https://colab.research.google.com/assets/colab-badge.svg\" alt=\"Open In Colab\"/></a>"
      ]
    },
    {
      "cell_type": "markdown",
      "source": [
        "# MLP OPPE 2 Examination"
      ],
      "metadata": {
        "id": "FsEw40SmizCI"
      }
    },
    {
      "cell_type": "code",
      "source": [
        "from google.colab import files\n",
        "uploaded = files.upload()"
      ],
      "metadata": {
        "colab": {
          "resources": {
            "http://localhost:8080/nbextensions/google.colab/files.js": {
              "data": "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",
              "ok": true,
              "headers": [
                [
                  "content-type",
                  "application/javascript"
                ]
              ],
              "status": 200,
              "status_text": ""
            }
          },
          "base_uri": "https://localhost:8080/",
          "height": 73
        },
        "id": "DnsGupol00sJ",
        "outputId": "cbd935f9-6734-4df3-b08f-75c7defd7104"
      },
      "execution_count": 101,
      "outputs": [
        {
          "output_type": "display_data",
          "data": {
            "text/plain": [
              "<IPython.core.display.HTML object>"
            ],
            "text/html": [
              "\n",
              "     <input type=\"file\" id=\"files-9f1afe80-b94d-42f0-9ebc-3b4b4d2edee0\" name=\"files[]\" multiple disabled\n",
              "        style=\"border:none\" />\n",
              "     <output id=\"result-9f1afe80-b94d-42f0-9ebc-3b4b4d2edee0\">\n",
              "      Upload widget is only available when the cell has been executed in the\n",
              "      current browser session. Please rerun this cell to enable.\n",
              "      </output>\n",
              "      <script src=\"/nbextensions/google.colab/files.js\"></script> "
            ]
          },
          "metadata": {}
        },
        {
          "output_type": "stream",
          "name": "stdout",
          "text": [
            "Saving v3.csv to v3 (1).csv\n"
          ]
        }
      ]
    },
    {
      "cell_type": "code",
      "source": [
        "import pandas as pd\n",
        "import numpy as np"
      ],
      "metadata": {
        "id": "yUsrzux_1FNJ"
      },
      "execution_count": 102,
      "outputs": []
    },
    {
      "cell_type": "code",
      "source": [
        "df = pd.read_csv('v3.csv')\n",
        "df.head()"
      ],
      "metadata": {
        "colab": {
          "base_uri": "https://localhost:8080/",
          "height": 206
        },
        "id": "CobQ5IjL1JF_",
        "outputId": "ffc724e9-c3a1-4238-ec8c-75eb806b444d"
      },
      "execution_count": 103,
      "outputs": [
        {
          "output_type": "execute_result",
          "data": {
            "text/plain": [
              "  Buying  Maint  Doors  Persons Lug_boot Safety Evaluation\n",
              "0    med    low      2        6      med    low      unacc\n",
              "1  vhigh  vhigh      4        2      med    med      unacc\n",
              "2  vhigh   high      3        4      big    med      unacc\n",
              "3   high    low      4        6      big    med        acc\n",
              "4  vhigh  vhigh      4        2      big   high      unacc"
            ],
            "text/html": [
              "\n",
              "  <div id=\"df-7d7b5958-115d-4630-a431-3c94a33bf59f\">\n",
              "    <div class=\"colab-df-container\">\n",
              "      <div>\n",
              "<style scoped>\n",
              "    .dataframe tbody tr th:only-of-type {\n",
              "        vertical-align: middle;\n",
              "    }\n",
              "\n",
              "    .dataframe tbody tr th {\n",
              "        vertical-align: top;\n",
              "    }\n",
              "\n",
              "    .dataframe thead th {\n",
              "        text-align: right;\n",
              "    }\n",
              "</style>\n",
              "<table border=\"1\" class=\"dataframe\">\n",
              "  <thead>\n",
              "    <tr style=\"text-align: right;\">\n",
              "      <th></th>\n",
              "      <th>Buying</th>\n",
              "      <th>Maint</th>\n",
              "      <th>Doors</th>\n",
              "      <th>Persons</th>\n",
              "      <th>Lug_boot</th>\n",
              "      <th>Safety</th>\n",
              "      <th>Evaluation</th>\n",
              "    </tr>\n",
              "  </thead>\n",
              "  <tbody>\n",
              "    <tr>\n",
              "      <th>0</th>\n",
              "      <td>med</td>\n",
              "      <td>low</td>\n",
              "      <td>2</td>\n",
              "      <td>6</td>\n",
              "      <td>med</td>\n",
              "      <td>low</td>\n",
              "      <td>unacc</td>\n",
              "    </tr>\n",
              "    <tr>\n",
              "      <th>1</th>\n",
              "      <td>vhigh</td>\n",
              "      <td>vhigh</td>\n",
              "      <td>4</td>\n",
              "      <td>2</td>\n",
              "      <td>med</td>\n",
              "      <td>med</td>\n",
              "      <td>unacc</td>\n",
              "    </tr>\n",
              "    <tr>\n",
              "      <th>2</th>\n",
              "      <td>vhigh</td>\n",
              "      <td>high</td>\n",
              "      <td>3</td>\n",
              "      <td>4</td>\n",
              "      <td>big</td>\n",
              "      <td>med</td>\n",
              "      <td>unacc</td>\n",
              "    </tr>\n",
              "    <tr>\n",
              "      <th>3</th>\n",
              "      <td>high</td>\n",
              "      <td>low</td>\n",
              "      <td>4</td>\n",
              "      <td>6</td>\n",
              "      <td>big</td>\n",
              "      <td>med</td>\n",
              "      <td>acc</td>\n",
              "    </tr>\n",
              "    <tr>\n",
              "      <th>4</th>\n",
              "      <td>vhigh</td>\n",
              "      <td>vhigh</td>\n",
              "      <td>4</td>\n",
              "      <td>2</td>\n",
              "      <td>big</td>\n",
              "      <td>high</td>\n",
              "      <td>unacc</td>\n",
              "    </tr>\n",
              "  </tbody>\n",
              "</table>\n",
              "</div>\n",
              "      <button class=\"colab-df-convert\" onclick=\"convertToInteractive('df-7d7b5958-115d-4630-a431-3c94a33bf59f')\"\n",
              "              title=\"Convert this dataframe to an interactive table.\"\n",
              "              style=\"display:none;\">\n",
              "        \n",
              "  <svg xmlns=\"http://www.w3.org/2000/svg\" height=\"24px\"viewBox=\"0 0 24 24\"\n",
              "       width=\"24px\">\n",
              "    <path d=\"M0 0h24v24H0V0z\" fill=\"none\"/>\n",
              "    <path d=\"M18.56 5.44l.94 2.06.94-2.06 2.06-.94-2.06-.94-.94-2.06-.94 2.06-2.06.94zm-11 1L8.5 8.5l.94-2.06 2.06-.94-2.06-.94L8.5 2.5l-.94 2.06-2.06.94zm10 10l.94 2.06.94-2.06 2.06-.94-2.06-.94-.94-2.06-.94 2.06-2.06.94z\"/><path d=\"M17.41 7.96l-1.37-1.37c-.4-.4-.92-.59-1.43-.59-.52 0-1.04.2-1.43.59L10.3 9.45l-7.72 7.72c-.78.78-.78 2.05 0 2.83L4 21.41c.39.39.9.59 1.41.59.51 0 1.02-.2 1.41-.59l7.78-7.78 2.81-2.81c.8-.78.8-2.07 0-2.86zM5.41 20L4 18.59l7.72-7.72 1.47 1.35L5.41 20z\"/>\n",
              "  </svg>\n",
              "      </button>\n",
              "      \n",
              "  <style>\n",
              "    .colab-df-container {\n",
              "      display:flex;\n",
              "      flex-wrap:wrap;\n",
              "      gap: 12px;\n",
              "    }\n",
              "\n",
              "    .colab-df-convert {\n",
              "      background-color: #E8F0FE;\n",
              "      border: none;\n",
              "      border-radius: 50%;\n",
              "      cursor: pointer;\n",
              "      display: none;\n",
              "      fill: #1967D2;\n",
              "      height: 32px;\n",
              "      padding: 0 0 0 0;\n",
              "      width: 32px;\n",
              "    }\n",
              "\n",
              "    .colab-df-convert:hover {\n",
              "      background-color: #E2EBFA;\n",
              "      box-shadow: 0px 1px 2px rgba(60, 64, 67, 0.3), 0px 1px 3px 1px rgba(60, 64, 67, 0.15);\n",
              "      fill: #174EA6;\n",
              "    }\n",
              "\n",
              "    [theme=dark] .colab-df-convert {\n",
              "      background-color: #3B4455;\n",
              "      fill: #D2E3FC;\n",
              "    }\n",
              "\n",
              "    [theme=dark] .colab-df-convert:hover {\n",
              "      background-color: #434B5C;\n",
              "      box-shadow: 0px 1px 3px 1px rgba(0, 0, 0, 0.15);\n",
              "      filter: drop-shadow(0px 1px 2px rgba(0, 0, 0, 0.3));\n",
              "      fill: #FFFFFF;\n",
              "    }\n",
              "  </style>\n",
              "\n",
              "      <script>\n",
              "        const buttonEl =\n",
              "          document.querySelector('#df-7d7b5958-115d-4630-a431-3c94a33bf59f button.colab-df-convert');\n",
              "        buttonEl.style.display =\n",
              "          google.colab.kernel.accessAllowed ? 'block' : 'none';\n",
              "\n",
              "        async function convertToInteractive(key) {\n",
              "          const element = document.querySelector('#df-7d7b5958-115d-4630-a431-3c94a33bf59f');\n",
              "          const dataTable =\n",
              "            await google.colab.kernel.invokeFunction('convertToInteractive',\n",
              "                                                     [key], {});\n",
              "          if (!dataTable) return;\n",
              "\n",
              "          const docLinkHtml = 'Like what you see? Visit the ' +\n",
              "            '<a target=\"_blank\" href=https://colab.research.google.com/notebooks/data_table.ipynb>data table notebook</a>'\n",
              "            + ' to learn more about interactive tables.';\n",
              "          element.innerHTML = '';\n",
              "          dataTable['output_type'] = 'display_data';\n",
              "          await google.colab.output.renderOutput(dataTable, element);\n",
              "          const docLink = document.createElement('div');\n",
              "          docLink.innerHTML = docLinkHtml;\n",
              "          element.appendChild(docLink);\n",
              "        }\n",
              "      </script>\n",
              "    </div>\n",
              "  </div>\n",
              "  "
            ]
          },
          "metadata": {},
          "execution_count": 103
        }
      ]
    },
    {
      "cell_type": "code",
      "source": [
        "df.shape"
      ],
      "metadata": {
        "colab": {
          "base_uri": "https://localhost:8080/"
        },
        "id": "hJ1O0CKs1PFC",
        "outputId": "f44a400d-7cda-4cdc-a83c-9286d7c55419"
      },
      "execution_count": 104,
      "outputs": [
        {
          "output_type": "execute_result",
          "data": {
            "text/plain": [
              "(1500, 7)"
            ]
          },
          "metadata": {},
          "execution_count": 104
        }
      ]
    },
    {
      "cell_type": "code",
      "source": [
        "df.info()"
      ],
      "metadata": {
        "colab": {
          "base_uri": "https://localhost:8080/"
        },
        "id": "boSkr9cH1aCP",
        "outputId": "ec3c2535-7a39-4c62-8299-79da9d5f8047"
      },
      "execution_count": 105,
      "outputs": [
        {
          "output_type": "stream",
          "name": "stdout",
          "text": [
            "<class 'pandas.core.frame.DataFrame'>\n",
            "RangeIndex: 1500 entries, 0 to 1499\n",
            "Data columns (total 7 columns):\n",
            " #   Column      Non-Null Count  Dtype \n",
            "---  ------      --------------  ----- \n",
            " 0   Buying      1493 non-null   object\n",
            " 1   Maint       1500 non-null   object\n",
            " 2   Doors       1500 non-null   int64 \n",
            " 3   Persons     1500 non-null   int64 \n",
            " 4   Lug_boot    1500 non-null   object\n",
            " 5   Safety      1500 non-null   object\n",
            " 6   Evaluation  1500 non-null   object\n",
            "dtypes: int64(2), object(5)\n",
            "memory usage: 82.2+ KB\n"
          ]
        }
      ]
    },
    {
      "cell_type": "markdown",
      "source": [
        "## Que 1"
      ],
      "metadata": {
        "id": "aD2pjlKgYfnC"
      }
    },
    {
      "cell_type": "markdown",
      "source": [
        "Ans: 'c'   \n",
        "v3 dataset"
      ],
      "metadata": {
        "id": "ZnBWAZbl14Pk"
      }
    },
    {
      "cell_type": "markdown",
      "source": [
        "## Que 2"
      ],
      "metadata": {
        "id": "NJTIVll4YoQD"
      }
    },
    {
      "cell_type": "code",
      "source": [
        "df.isna().sum()"
      ],
      "metadata": {
        "id": "24HJeUdGYhET",
        "colab": {
          "base_uri": "https://localhost:8080/"
        },
        "outputId": "17894bbc-7afb-410f-fca6-797d887d3973"
      },
      "execution_count": 106,
      "outputs": [
        {
          "output_type": "execute_result",
          "data": {
            "text/plain": [
              "Buying        7\n",
              "Maint         0\n",
              "Doors         0\n",
              "Persons       0\n",
              "Lug_boot      0\n",
              "Safety        0\n",
              "Evaluation    0\n",
              "dtype: int64"
            ]
          },
          "metadata": {},
          "execution_count": 106
        }
      ]
    },
    {
      "cell_type": "markdown",
      "source": [
        "## Que 3"
      ],
      "metadata": {
        "id": "_AjLjgtwYoeE"
      }
    },
    {
      "cell_type": "code",
      "source": [
        "df['Lug_boot'].unique()"
      ],
      "metadata": {
        "id": "eTaIyRO-YoQF",
        "colab": {
          "base_uri": "https://localhost:8080/"
        },
        "outputId": "393cb8d5-af5c-4366-edf4-3dbb84e0a39c"
      },
      "execution_count": 107,
      "outputs": [
        {
          "output_type": "execute_result",
          "data": {
            "text/plain": [
              "array(['med', 'big', 'small'], dtype=object)"
            ]
          },
          "metadata": {},
          "execution_count": 107
        }
      ]
    },
    {
      "cell_type": "markdown",
      "source": [
        "## Que 4"
      ],
      "metadata": {
        "id": "TNopt59wYozG"
      }
    },
    {
      "cell_type": "code",
      "source": [
        "df.columns"
      ],
      "metadata": {
        "colab": {
          "base_uri": "https://localhost:8080/"
        },
        "id": "qVx5Eimd2JEV",
        "outputId": "4b3d90e8-4d8f-4fc6-eaff-834db2a318d5"
      },
      "execution_count": 108,
      "outputs": [
        {
          "output_type": "execute_result",
          "data": {
            "text/plain": [
              "Index(['Buying', 'Maint', 'Doors', 'Persons', 'Lug_boot', 'Safety',\n",
              "       'Evaluation'],\n",
              "      dtype='object')"
            ]
          },
          "metadata": {},
          "execution_count": 108
        }
      ]
    },
    {
      "cell_type": "code",
      "source": [
        "X = df[['Buying', 'Maint', 'Doors', 'Persons', 'Lug_boot', 'Safety']]\n",
        "y = df['Evaluation']\n",
        "X.shape, y.shape"
      ],
      "metadata": {
        "id": "xR5eoBNJYozH",
        "colab": {
          "base_uri": "https://localhost:8080/"
        },
        "outputId": "22421046-f4a1-4a2d-d782-8aa786311972"
      },
      "execution_count": 109,
      "outputs": [
        {
          "output_type": "execute_result",
          "data": {
            "text/plain": [
              "((1500, 6), (1500,))"
            ]
          },
          "metadata": {},
          "execution_count": 109
        }
      ]
    },
    {
      "cell_type": "code",
      "source": [
        "X.head()"
      ],
      "metadata": {
        "colab": {
          "base_uri": "https://localhost:8080/",
          "height": 206
        },
        "id": "44dPHNVw2h7k",
        "outputId": "4fababc1-dc57-4b93-e034-049e01387036"
      },
      "execution_count": 110,
      "outputs": [
        {
          "output_type": "execute_result",
          "data": {
            "text/plain": [
              "  Buying  Maint  Doors  Persons Lug_boot Safety\n",
              "0    med    low      2        6      med    low\n",
              "1  vhigh  vhigh      4        2      med    med\n",
              "2  vhigh   high      3        4      big    med\n",
              "3   high    low      4        6      big    med\n",
              "4  vhigh  vhigh      4        2      big   high"
            ],
            "text/html": [
              "\n",
              "  <div id=\"df-c599ed45-e144-48ba-839b-a73692df3c33\">\n",
              "    <div class=\"colab-df-container\">\n",
              "      <div>\n",
              "<style scoped>\n",
              "    .dataframe tbody tr th:only-of-type {\n",
              "        vertical-align: middle;\n",
              "    }\n",
              "\n",
              "    .dataframe tbody tr th {\n",
              "        vertical-align: top;\n",
              "    }\n",
              "\n",
              "    .dataframe thead th {\n",
              "        text-align: right;\n",
              "    }\n",
              "</style>\n",
              "<table border=\"1\" class=\"dataframe\">\n",
              "  <thead>\n",
              "    <tr style=\"text-align: right;\">\n",
              "      <th></th>\n",
              "      <th>Buying</th>\n",
              "      <th>Maint</th>\n",
              "      <th>Doors</th>\n",
              "      <th>Persons</th>\n",
              "      <th>Lug_boot</th>\n",
              "      <th>Safety</th>\n",
              "    </tr>\n",
              "  </thead>\n",
              "  <tbody>\n",
              "    <tr>\n",
              "      <th>0</th>\n",
              "      <td>med</td>\n",
              "      <td>low</td>\n",
              "      <td>2</td>\n",
              "      <td>6</td>\n",
              "      <td>med</td>\n",
              "      <td>low</td>\n",
              "    </tr>\n",
              "    <tr>\n",
              "      <th>1</th>\n",
              "      <td>vhigh</td>\n",
              "      <td>vhigh</td>\n",
              "      <td>4</td>\n",
              "      <td>2</td>\n",
              "      <td>med</td>\n",
              "      <td>med</td>\n",
              "    </tr>\n",
              "    <tr>\n",
              "      <th>2</th>\n",
              "      <td>vhigh</td>\n",
              "      <td>high</td>\n",
              "      <td>3</td>\n",
              "      <td>4</td>\n",
              "      <td>big</td>\n",
              "      <td>med</td>\n",
              "    </tr>\n",
              "    <tr>\n",
              "      <th>3</th>\n",
              "      <td>high</td>\n",
              "      <td>low</td>\n",
              "      <td>4</td>\n",
              "      <td>6</td>\n",
              "      <td>big</td>\n",
              "      <td>med</td>\n",
              "    </tr>\n",
              "    <tr>\n",
              "      <th>4</th>\n",
              "      <td>vhigh</td>\n",
              "      <td>vhigh</td>\n",
              "      <td>4</td>\n",
              "      <td>2</td>\n",
              "      <td>big</td>\n",
              "      <td>high</td>\n",
              "    </tr>\n",
              "  </tbody>\n",
              "</table>\n",
              "</div>\n",
              "      <button class=\"colab-df-convert\" onclick=\"convertToInteractive('df-c599ed45-e144-48ba-839b-a73692df3c33')\"\n",
              "              title=\"Convert this dataframe to an interactive table.\"\n",
              "              style=\"display:none;\">\n",
              "        \n",
              "  <svg xmlns=\"http://www.w3.org/2000/svg\" height=\"24px\"viewBox=\"0 0 24 24\"\n",
              "       width=\"24px\">\n",
              "    <path d=\"M0 0h24v24H0V0z\" fill=\"none\"/>\n",
              "    <path d=\"M18.56 5.44l.94 2.06.94-2.06 2.06-.94-2.06-.94-.94-2.06-.94 2.06-2.06.94zm-11 1L8.5 8.5l.94-2.06 2.06-.94-2.06-.94L8.5 2.5l-.94 2.06-2.06.94zm10 10l.94 2.06.94-2.06 2.06-.94-2.06-.94-.94-2.06-.94 2.06-2.06.94z\"/><path d=\"M17.41 7.96l-1.37-1.37c-.4-.4-.92-.59-1.43-.59-.52 0-1.04.2-1.43.59L10.3 9.45l-7.72 7.72c-.78.78-.78 2.05 0 2.83L4 21.41c.39.39.9.59 1.41.59.51 0 1.02-.2 1.41-.59l7.78-7.78 2.81-2.81c.8-.78.8-2.07 0-2.86zM5.41 20L4 18.59l7.72-7.72 1.47 1.35L5.41 20z\"/>\n",
              "  </svg>\n",
              "      </button>\n",
              "      \n",
              "  <style>\n",
              "    .colab-df-container {\n",
              "      display:flex;\n",
              "      flex-wrap:wrap;\n",
              "      gap: 12px;\n",
              "    }\n",
              "\n",
              "    .colab-df-convert {\n",
              "      background-color: #E8F0FE;\n",
              "      border: none;\n",
              "      border-radius: 50%;\n",
              "      cursor: pointer;\n",
              "      display: none;\n",
              "      fill: #1967D2;\n",
              "      height: 32px;\n",
              "      padding: 0 0 0 0;\n",
              "      width: 32px;\n",
              "    }\n",
              "\n",
              "    .colab-df-convert:hover {\n",
              "      background-color: #E2EBFA;\n",
              "      box-shadow: 0px 1px 2px rgba(60, 64, 67, 0.3), 0px 1px 3px 1px rgba(60, 64, 67, 0.15);\n",
              "      fill: #174EA6;\n",
              "    }\n",
              "\n",
              "    [theme=dark] .colab-df-convert {\n",
              "      background-color: #3B4455;\n",
              "      fill: #D2E3FC;\n",
              "    }\n",
              "\n",
              "    [theme=dark] .colab-df-convert:hover {\n",
              "      background-color: #434B5C;\n",
              "      box-shadow: 0px 1px 3px 1px rgba(0, 0, 0, 0.15);\n",
              "      filter: drop-shadow(0px 1px 2px rgba(0, 0, 0, 0.3));\n",
              "      fill: #FFFFFF;\n",
              "    }\n",
              "  </style>\n",
              "\n",
              "      <script>\n",
              "        const buttonEl =\n",
              "          document.querySelector('#df-c599ed45-e144-48ba-839b-a73692df3c33 button.colab-df-convert');\n",
              "        buttonEl.style.display =\n",
              "          google.colab.kernel.accessAllowed ? 'block' : 'none';\n",
              "\n",
              "        async function convertToInteractive(key) {\n",
              "          const element = document.querySelector('#df-c599ed45-e144-48ba-839b-a73692df3c33');\n",
              "          const dataTable =\n",
              "            await google.colab.kernel.invokeFunction('convertToInteractive',\n",
              "                                                     [key], {});\n",
              "          if (!dataTable) return;\n",
              "\n",
              "          const docLinkHtml = 'Like what you see? Visit the ' +\n",
              "            '<a target=\"_blank\" href=https://colab.research.google.com/notebooks/data_table.ipynb>data table notebook</a>'\n",
              "            + ' to learn more about interactive tables.';\n",
              "          element.innerHTML = '';\n",
              "          dataTable['output_type'] = 'display_data';\n",
              "          await google.colab.output.renderOutput(dataTable, element);\n",
              "          const docLink = document.createElement('div');\n",
              "          docLink.innerHTML = docLinkHtml;\n",
              "          element.appendChild(docLink);\n",
              "        }\n",
              "      </script>\n",
              "    </div>\n",
              "  </div>\n",
              "  "
            ]
          },
          "metadata": {},
          "execution_count": 110
        }
      ]
    },
    {
      "cell_type": "code",
      "source": [
        "y[:5]"
      ],
      "metadata": {
        "colab": {
          "base_uri": "https://localhost:8080/"
        },
        "id": "v-cySVJG2kdj",
        "outputId": "95c6c1c3-c9df-422a-c771-93774a9e87a7"
      },
      "execution_count": 111,
      "outputs": [
        {
          "output_type": "execute_result",
          "data": {
            "text/plain": [
              "0    unacc\n",
              "1    unacc\n",
              "2    unacc\n",
              "3      acc\n",
              "4    unacc\n",
              "Name: Evaluation, dtype: object"
            ]
          },
          "metadata": {},
          "execution_count": 111
        }
      ]
    },
    {
      "cell_type": "code",
      "source": [
        "np.unique(y, return_counts=True)"
      ],
      "metadata": {
        "colab": {
          "base_uri": "https://localhost:8080/"
        },
        "id": "hgI3Ky9B2rvd",
        "outputId": "e5fdae7c-3629-4a34-a79d-9479ee0e49e5"
      },
      "execution_count": 112,
      "outputs": [
        {
          "output_type": "execute_result",
          "data": {
            "text/plain": [
              "(array(['acc', 'good', 'unacc', 'vgood'], dtype=object),\n",
              " array([ 317,   65, 1058,   60]))"
            ]
          },
          "metadata": {},
          "execution_count": 112
        }
      ]
    },
    {
      "cell_type": "markdown",
      "source": [
        "## Que 5"
      ],
      "metadata": {
        "id": "TBsjUBPMYpAF"
      }
    },
    {
      "cell_type": "code",
      "source": [
        "from sklearn.impute import SimpleImputer\n",
        "si = SimpleImputer(strategy='most_frequent')\n",
        "X_tr = si.fit_transform(X)\n",
        "X_tr.shape"
      ],
      "metadata": {
        "id": "Q-LdYac7YpAF",
        "colab": {
          "base_uri": "https://localhost:8080/"
        },
        "outputId": "2e2d3c46-303d-4fcb-cfb6-e5783e68120d"
      },
      "execution_count": 113,
      "outputs": [
        {
          "output_type": "execute_result",
          "data": {
            "text/plain": [
              "(1500, 6)"
            ]
          },
          "metadata": {},
          "execution_count": 113
        }
      ]
    },
    {
      "cell_type": "code",
      "source": [
        "type(X_tr)"
      ],
      "metadata": {
        "colab": {
          "base_uri": "https://localhost:8080/"
        },
        "id": "PtdNVql-3XA2",
        "outputId": "fdc1b08d-d734-4316-bd43-13254cf50ebd"
      },
      "execution_count": 114,
      "outputs": [
        {
          "output_type": "execute_result",
          "data": {
            "text/plain": [
              "numpy.ndarray"
            ]
          },
          "metadata": {},
          "execution_count": 114
        }
      ]
    },
    {
      "cell_type": "markdown",
      "source": [
        "## Que 6"
      ],
      "metadata": {
        "id": "MSnWq7inYpLj"
      }
    },
    {
      "cell_type": "code",
      "source": [
        "X.columns"
      ],
      "metadata": {
        "colab": {
          "base_uri": "https://localhost:8080/"
        },
        "id": "q8SQJRJX3tfq",
        "outputId": "0f13eaf9-cfac-42be-884b-6a7baa780de8"
      },
      "execution_count": 115,
      "outputs": [
        {
          "output_type": "execute_result",
          "data": {
            "text/plain": [
              "Index(['Buying', 'Maint', 'Doors', 'Persons', 'Lug_boot', 'Safety'], dtype='object')"
            ]
          },
          "metadata": {},
          "execution_count": 115
        }
      ]
    },
    {
      "cell_type": "code",
      "source": [
        "cols = ['Buying', 'Maint', 'Doors', 'Persons', 'Lug_boot', 'Safety']\n",
        "X_df = pd.DataFrame(X_tr, columns=cols)\n",
        "X_df.head()"
      ],
      "metadata": {
        "id": "knm-E3nEYpLk",
        "colab": {
          "base_uri": "https://localhost:8080/",
          "height": 206
        },
        "outputId": "9fd0c31e-2c0b-46cf-81c5-45592d4139d5"
      },
      "execution_count": 116,
      "outputs": [
        {
          "output_type": "execute_result",
          "data": {
            "text/plain": [
              "  Buying  Maint Doors Persons Lug_boot Safety\n",
              "0    med    low     2       6      med    low\n",
              "1  vhigh  vhigh     4       2      med    med\n",
              "2  vhigh   high     3       4      big    med\n",
              "3   high    low     4       6      big    med\n",
              "4  vhigh  vhigh     4       2      big   high"
            ],
            "text/html": [
              "\n",
              "  <div id=\"df-b3303b28-904a-49ef-9a6a-07c137a35576\">\n",
              "    <div class=\"colab-df-container\">\n",
              "      <div>\n",
              "<style scoped>\n",
              "    .dataframe tbody tr th:only-of-type {\n",
              "        vertical-align: middle;\n",
              "    }\n",
              "\n",
              "    .dataframe tbody tr th {\n",
              "        vertical-align: top;\n",
              "    }\n",
              "\n",
              "    .dataframe thead th {\n",
              "        text-align: right;\n",
              "    }\n",
              "</style>\n",
              "<table border=\"1\" class=\"dataframe\">\n",
              "  <thead>\n",
              "    <tr style=\"text-align: right;\">\n",
              "      <th></th>\n",
              "      <th>Buying</th>\n",
              "      <th>Maint</th>\n",
              "      <th>Doors</th>\n",
              "      <th>Persons</th>\n",
              "      <th>Lug_boot</th>\n",
              "      <th>Safety</th>\n",
              "    </tr>\n",
              "  </thead>\n",
              "  <tbody>\n",
              "    <tr>\n",
              "      <th>0</th>\n",
              "      <td>med</td>\n",
              "      <td>low</td>\n",
              "      <td>2</td>\n",
              "      <td>6</td>\n",
              "      <td>med</td>\n",
              "      <td>low</td>\n",
              "    </tr>\n",
              "    <tr>\n",
              "      <th>1</th>\n",
              "      <td>vhigh</td>\n",
              "      <td>vhigh</td>\n",
              "      <td>4</td>\n",
              "      <td>2</td>\n",
              "      <td>med</td>\n",
              "      <td>med</td>\n",
              "    </tr>\n",
              "    <tr>\n",
              "      <th>2</th>\n",
              "      <td>vhigh</td>\n",
              "      <td>high</td>\n",
              "      <td>3</td>\n",
              "      <td>4</td>\n",
              "      <td>big</td>\n",
              "      <td>med</td>\n",
              "    </tr>\n",
              "    <tr>\n",
              "      <th>3</th>\n",
              "      <td>high</td>\n",
              "      <td>low</td>\n",
              "      <td>4</td>\n",
              "      <td>6</td>\n",
              "      <td>big</td>\n",
              "      <td>med</td>\n",
              "    </tr>\n",
              "    <tr>\n",
              "      <th>4</th>\n",
              "      <td>vhigh</td>\n",
              "      <td>vhigh</td>\n",
              "      <td>4</td>\n",
              "      <td>2</td>\n",
              "      <td>big</td>\n",
              "      <td>high</td>\n",
              "    </tr>\n",
              "  </tbody>\n",
              "</table>\n",
              "</div>\n",
              "      <button class=\"colab-df-convert\" onclick=\"convertToInteractive('df-b3303b28-904a-49ef-9a6a-07c137a35576')\"\n",
              "              title=\"Convert this dataframe to an interactive table.\"\n",
              "              style=\"display:none;\">\n",
              "        \n",
              "  <svg xmlns=\"http://www.w3.org/2000/svg\" height=\"24px\"viewBox=\"0 0 24 24\"\n",
              "       width=\"24px\">\n",
              "    <path d=\"M0 0h24v24H0V0z\" fill=\"none\"/>\n",
              "    <path d=\"M18.56 5.44l.94 2.06.94-2.06 2.06-.94-2.06-.94-.94-2.06-.94 2.06-2.06.94zm-11 1L8.5 8.5l.94-2.06 2.06-.94-2.06-.94L8.5 2.5l-.94 2.06-2.06.94zm10 10l.94 2.06.94-2.06 2.06-.94-2.06-.94-.94-2.06-.94 2.06-2.06.94z\"/><path d=\"M17.41 7.96l-1.37-1.37c-.4-.4-.92-.59-1.43-.59-.52 0-1.04.2-1.43.59L10.3 9.45l-7.72 7.72c-.78.78-.78 2.05 0 2.83L4 21.41c.39.39.9.59 1.41.59.51 0 1.02-.2 1.41-.59l7.78-7.78 2.81-2.81c.8-.78.8-2.07 0-2.86zM5.41 20L4 18.59l7.72-7.72 1.47 1.35L5.41 20z\"/>\n",
              "  </svg>\n",
              "      </button>\n",
              "      \n",
              "  <style>\n",
              "    .colab-df-container {\n",
              "      display:flex;\n",
              "      flex-wrap:wrap;\n",
              "      gap: 12px;\n",
              "    }\n",
              "\n",
              "    .colab-df-convert {\n",
              "      background-color: #E8F0FE;\n",
              "      border: none;\n",
              "      border-radius: 50%;\n",
              "      cursor: pointer;\n",
              "      display: none;\n",
              "      fill: #1967D2;\n",
              "      height: 32px;\n",
              "      padding: 0 0 0 0;\n",
              "      width: 32px;\n",
              "    }\n",
              "\n",
              "    .colab-df-convert:hover {\n",
              "      background-color: #E2EBFA;\n",
              "      box-shadow: 0px 1px 2px rgba(60, 64, 67, 0.3), 0px 1px 3px 1px rgba(60, 64, 67, 0.15);\n",
              "      fill: #174EA6;\n",
              "    }\n",
              "\n",
              "    [theme=dark] .colab-df-convert {\n",
              "      background-color: #3B4455;\n",
              "      fill: #D2E3FC;\n",
              "    }\n",
              "\n",
              "    [theme=dark] .colab-df-convert:hover {\n",
              "      background-color: #434B5C;\n",
              "      box-shadow: 0px 1px 3px 1px rgba(0, 0, 0, 0.15);\n",
              "      filter: drop-shadow(0px 1px 2px rgba(0, 0, 0, 0.3));\n",
              "      fill: #FFFFFF;\n",
              "    }\n",
              "  </style>\n",
              "\n",
              "      <script>\n",
              "        const buttonEl =\n",
              "          document.querySelector('#df-b3303b28-904a-49ef-9a6a-07c137a35576 button.colab-df-convert');\n",
              "        buttonEl.style.display =\n",
              "          google.colab.kernel.accessAllowed ? 'block' : 'none';\n",
              "\n",
              "        async function convertToInteractive(key) {\n",
              "          const element = document.querySelector('#df-b3303b28-904a-49ef-9a6a-07c137a35576');\n",
              "          const dataTable =\n",
              "            await google.colab.kernel.invokeFunction('convertToInteractive',\n",
              "                                                     [key], {});\n",
              "          if (!dataTable) return;\n",
              "\n",
              "          const docLinkHtml = 'Like what you see? Visit the ' +\n",
              "            '<a target=\"_blank\" href=https://colab.research.google.com/notebooks/data_table.ipynb>data table notebook</a>'\n",
              "            + ' to learn more about interactive tables.';\n",
              "          element.innerHTML = '';\n",
              "          dataTable['output_type'] = 'display_data';\n",
              "          await google.colab.output.renderOutput(dataTable, element);\n",
              "          const docLink = document.createElement('div');\n",
              "          docLink.innerHTML = docLinkHtml;\n",
              "          element.appendChild(docLink);\n",
              "        }\n",
              "      </script>\n",
              "    </div>\n",
              "  </div>\n",
              "  "
            ]
          },
          "metadata": {},
          "execution_count": 116
        }
      ]
    },
    {
      "cell_type": "code",
      "source": [
        "X_df.shape"
      ],
      "metadata": {
        "colab": {
          "base_uri": "https://localhost:8080/"
        },
        "id": "rX9csvEP4YXy",
        "outputId": "08724681-46be-41bb-e9c7-b16b2136c36d"
      },
      "execution_count": 117,
      "outputs": [
        {
          "output_type": "execute_result",
          "data": {
            "text/plain": [
              "(1500, 6)"
            ]
          },
          "metadata": {},
          "execution_count": 117
        }
      ]
    },
    {
      "cell_type": "code",
      "source": [
        "X_df.info()"
      ],
      "metadata": {
        "colab": {
          "base_uri": "https://localhost:8080/"
        },
        "id": "pWQHwHP94cI9",
        "outputId": "22b44182-7e33-4c49-cbfb-75cfbd938f80"
      },
      "execution_count": 118,
      "outputs": [
        {
          "output_type": "stream",
          "name": "stdout",
          "text": [
            "<class 'pandas.core.frame.DataFrame'>\n",
            "RangeIndex: 1500 entries, 0 to 1499\n",
            "Data columns (total 6 columns):\n",
            " #   Column    Non-Null Count  Dtype \n",
            "---  ------    --------------  ----- \n",
            " 0   Buying    1500 non-null   object\n",
            " 1   Maint     1500 non-null   object\n",
            " 2   Doors     1500 non-null   object\n",
            " 3   Persons   1500 non-null   object\n",
            " 4   Lug_boot  1500 non-null   object\n",
            " 5   Safety    1500 non-null   object\n",
            "dtypes: object(6)\n",
            "memory usage: 70.4+ KB\n"
          ]
        }
      ]
    },
    {
      "cell_type": "code",
      "source": [
        "X_df.isna().sum()"
      ],
      "metadata": {
        "colab": {
          "base_uri": "https://localhost:8080/"
        },
        "id": "FNjG4KQ-4e09",
        "outputId": "10f8377b-da97-40aa-b19e-ac9c88522e46"
      },
      "execution_count": 119,
      "outputs": [
        {
          "output_type": "execute_result",
          "data": {
            "text/plain": [
              "Buying      0\n",
              "Maint       0\n",
              "Doors       0\n",
              "Persons     0\n",
              "Lug_boot    0\n",
              "Safety      0\n",
              "dtype: int64"
            ]
          },
          "metadata": {},
          "execution_count": 119
        }
      ]
    },
    {
      "cell_type": "code",
      "source": [
        "# ?pd.DataFrame"
      ],
      "metadata": {
        "id": "lfkp2yHp4HYo"
      },
      "execution_count": 120,
      "outputs": []
    },
    {
      "cell_type": "markdown",
      "source": [
        "## Que 7"
      ],
      "metadata": {
        "id": "oXVlhz4cYpau"
      }
    },
    {
      "cell_type": "code",
      "source": [
        "from sklearn.preprocessing import OneHotEncoder, StandardScaler\n",
        "ohe = OneHotEncoder(sparse=False)\n",
        "ss = StandardScaler()\n",
        "\n",
        "cf = ['Buying', 'Maint', 'Lug_boot', 'Safety']\n",
        "nf = ['Doors', 'Persons']\n",
        "\n",
        "X1 = ohe.fit_transform(X_df[cf])\n",
        "X2 = ss.fit_transform(X_df[nf])\n",
        "\n",
        "type(X1), type(X2)"
      ],
      "metadata": {
        "id": "XPA4tjhJYpau",
        "colab": {
          "base_uri": "https://localhost:8080/"
        },
        "outputId": "ed483464-6bf2-46fe-ba3c-f0da202d734a"
      },
      "execution_count": 121,
      "outputs": [
        {
          "output_type": "execute_result",
          "data": {
            "text/plain": [
              "(numpy.ndarray, numpy.ndarray)"
            ]
          },
          "metadata": {},
          "execution_count": 121
        }
      ]
    },
    {
      "cell_type": "code",
      "source": [
        "X1.shape, X2.shape"
      ],
      "metadata": {
        "colab": {
          "base_uri": "https://localhost:8080/"
        },
        "id": "1eoFXl0V5hzC",
        "outputId": "72bdfad3-833f-456a-f951-990323421042"
      },
      "execution_count": 122,
      "outputs": [
        {
          "output_type": "execute_result",
          "data": {
            "text/plain": [
              "((1500, 14), (1500, 2))"
            ]
          },
          "metadata": {},
          "execution_count": 122
        }
      ]
    },
    {
      "cell_type": "markdown",
      "source": [
        "## Que 8"
      ],
      "metadata": {
        "id": "WEYlKyD6Ypob"
      }
    },
    {
      "cell_type": "code",
      "source": [
        "X = np.concatenate((X1, X2), axis=1)\n",
        "X.shape"
      ],
      "metadata": {
        "id": "g2SmjUxSYpob",
        "colab": {
          "base_uri": "https://localhost:8080/"
        },
        "outputId": "4c31e48c-db8e-4b77-acec-611a57322bb6"
      },
      "execution_count": 123,
      "outputs": [
        {
          "output_type": "execute_result",
          "data": {
            "text/plain": [
              "(1500, 16)"
            ]
          },
          "metadata": {},
          "execution_count": 123
        }
      ]
    },
    {
      "cell_type": "code",
      "source": [
        "X = pd.DataFrame(X)\n",
        "X.head()"
      ],
      "metadata": {
        "colab": {
          "base_uri": "https://localhost:8080/",
          "height": 270
        },
        "id": "l0CmS5pE5pkf",
        "outputId": "50e96fe2-fbe3-4f07-ed1f-0cd3d57f209b"
      },
      "execution_count": 124,
      "outputs": [
        {
          "output_type": "execute_result",
          "data": {
            "text/plain": [
              "    0    1    2    3    4    5    6    7    8    9    10   11   12   13  \\\n",
              "0  0.0  0.0  1.0  0.0  0.0  1.0  0.0  0.0  0.0  1.0  0.0  0.0  1.0  0.0   \n",
              "1  0.0  0.0  0.0  1.0  0.0  0.0  0.0  1.0  0.0  1.0  0.0  0.0  0.0  1.0   \n",
              "2  0.0  0.0  0.0  1.0  1.0  0.0  0.0  0.0  1.0  0.0  0.0  0.0  0.0  1.0   \n",
              "3  1.0  0.0  0.0  0.0  0.0  1.0  0.0  0.0  1.0  0.0  0.0  0.0  0.0  1.0   \n",
              "4  0.0  0.0  0.0  1.0  0.0  0.0  0.0  1.0  1.0  0.0  0.0  1.0  0.0  0.0   \n",
              "\n",
              "         14        15  \n",
              "0 -1.348383  1.244154  \n",
              "1  0.451061 -1.208186  \n",
              "2 -0.448661  0.017984  \n",
              "3  0.451061  1.244154  \n",
              "4  0.451061 -1.208186  "
            ],
            "text/html": [
              "\n",
              "  <div id=\"df-ff32bf9b-1a46-4cd8-a825-81b4a49891df\">\n",
              "    <div class=\"colab-df-container\">\n",
              "      <div>\n",
              "<style scoped>\n",
              "    .dataframe tbody tr th:only-of-type {\n",
              "        vertical-align: middle;\n",
              "    }\n",
              "\n",
              "    .dataframe tbody tr th {\n",
              "        vertical-align: top;\n",
              "    }\n",
              "\n",
              "    .dataframe thead th {\n",
              "        text-align: right;\n",
              "    }\n",
              "</style>\n",
              "<table border=\"1\" class=\"dataframe\">\n",
              "  <thead>\n",
              "    <tr style=\"text-align: right;\">\n",
              "      <th></th>\n",
              "      <th>0</th>\n",
              "      <th>1</th>\n",
              "      <th>2</th>\n",
              "      <th>3</th>\n",
              "      <th>4</th>\n",
              "      <th>5</th>\n",
              "      <th>6</th>\n",
              "      <th>7</th>\n",
              "      <th>8</th>\n",
              "      <th>9</th>\n",
              "      <th>10</th>\n",
              "      <th>11</th>\n",
              "      <th>12</th>\n",
              "      <th>13</th>\n",
              "      <th>14</th>\n",
              "      <th>15</th>\n",
              "    </tr>\n",
              "  </thead>\n",
              "  <tbody>\n",
              "    <tr>\n",
              "      <th>0</th>\n",
              "      <td>0.0</td>\n",
              "      <td>0.0</td>\n",
              "      <td>1.0</td>\n",
              "      <td>0.0</td>\n",
              "      <td>0.0</td>\n",
              "      <td>1.0</td>\n",
              "      <td>0.0</td>\n",
              "      <td>0.0</td>\n",
              "      <td>0.0</td>\n",
              "      <td>1.0</td>\n",
              "      <td>0.0</td>\n",
              "      <td>0.0</td>\n",
              "      <td>1.0</td>\n",
              "      <td>0.0</td>\n",
              "      <td>-1.348383</td>\n",
              "      <td>1.244154</td>\n",
              "    </tr>\n",
              "    <tr>\n",
              "      <th>1</th>\n",
              "      <td>0.0</td>\n",
              "      <td>0.0</td>\n",
              "      <td>0.0</td>\n",
              "      <td>1.0</td>\n",
              "      <td>0.0</td>\n",
              "      <td>0.0</td>\n",
              "      <td>0.0</td>\n",
              "      <td>1.0</td>\n",
              "      <td>0.0</td>\n",
              "      <td>1.0</td>\n",
              "      <td>0.0</td>\n",
              "      <td>0.0</td>\n",
              "      <td>0.0</td>\n",
              "      <td>1.0</td>\n",
              "      <td>0.451061</td>\n",
              "      <td>-1.208186</td>\n",
              "    </tr>\n",
              "    <tr>\n",
              "      <th>2</th>\n",
              "      <td>0.0</td>\n",
              "      <td>0.0</td>\n",
              "      <td>0.0</td>\n",
              "      <td>1.0</td>\n",
              "      <td>1.0</td>\n",
              "      <td>0.0</td>\n",
              "      <td>0.0</td>\n",
              "      <td>0.0</td>\n",
              "      <td>1.0</td>\n",
              "      <td>0.0</td>\n",
              "      <td>0.0</td>\n",
              "      <td>0.0</td>\n",
              "      <td>0.0</td>\n",
              "      <td>1.0</td>\n",
              "      <td>-0.448661</td>\n",
              "      <td>0.017984</td>\n",
              "    </tr>\n",
              "    <tr>\n",
              "      <th>3</th>\n",
              "      <td>1.0</td>\n",
              "      <td>0.0</td>\n",
              "      <td>0.0</td>\n",
              "      <td>0.0</td>\n",
              "      <td>0.0</td>\n",
              "      <td>1.0</td>\n",
              "      <td>0.0</td>\n",
              "      <td>0.0</td>\n",
              "      <td>1.0</td>\n",
              "      <td>0.0</td>\n",
              "      <td>0.0</td>\n",
              "      <td>0.0</td>\n",
              "      <td>0.0</td>\n",
              "      <td>1.0</td>\n",
              "      <td>0.451061</td>\n",
              "      <td>1.244154</td>\n",
              "    </tr>\n",
              "    <tr>\n",
              "      <th>4</th>\n",
              "      <td>0.0</td>\n",
              "      <td>0.0</td>\n",
              "      <td>0.0</td>\n",
              "      <td>1.0</td>\n",
              "      <td>0.0</td>\n",
              "      <td>0.0</td>\n",
              "      <td>0.0</td>\n",
              "      <td>1.0</td>\n",
              "      <td>1.0</td>\n",
              "      <td>0.0</td>\n",
              "      <td>0.0</td>\n",
              "      <td>1.0</td>\n",
              "      <td>0.0</td>\n",
              "      <td>0.0</td>\n",
              "      <td>0.451061</td>\n",
              "      <td>-1.208186</td>\n",
              "    </tr>\n",
              "  </tbody>\n",
              "</table>\n",
              "</div>\n",
              "      <button class=\"colab-df-convert\" onclick=\"convertToInteractive('df-ff32bf9b-1a46-4cd8-a825-81b4a49891df')\"\n",
              "              title=\"Convert this dataframe to an interactive table.\"\n",
              "              style=\"display:none;\">\n",
              "        \n",
              "  <svg xmlns=\"http://www.w3.org/2000/svg\" height=\"24px\"viewBox=\"0 0 24 24\"\n",
              "       width=\"24px\">\n",
              "    <path d=\"M0 0h24v24H0V0z\" fill=\"none\"/>\n",
              "    <path d=\"M18.56 5.44l.94 2.06.94-2.06 2.06-.94-2.06-.94-.94-2.06-.94 2.06-2.06.94zm-11 1L8.5 8.5l.94-2.06 2.06-.94-2.06-.94L8.5 2.5l-.94 2.06-2.06.94zm10 10l.94 2.06.94-2.06 2.06-.94-2.06-.94-.94-2.06-.94 2.06-2.06.94z\"/><path d=\"M17.41 7.96l-1.37-1.37c-.4-.4-.92-.59-1.43-.59-.52 0-1.04.2-1.43.59L10.3 9.45l-7.72 7.72c-.78.78-.78 2.05 0 2.83L4 21.41c.39.39.9.59 1.41.59.51 0 1.02-.2 1.41-.59l7.78-7.78 2.81-2.81c.8-.78.8-2.07 0-2.86zM5.41 20L4 18.59l7.72-7.72 1.47 1.35L5.41 20z\"/>\n",
              "  </svg>\n",
              "      </button>\n",
              "      \n",
              "  <style>\n",
              "    .colab-df-container {\n",
              "      display:flex;\n",
              "      flex-wrap:wrap;\n",
              "      gap: 12px;\n",
              "    }\n",
              "\n",
              "    .colab-df-convert {\n",
              "      background-color: #E8F0FE;\n",
              "      border: none;\n",
              "      border-radius: 50%;\n",
              "      cursor: pointer;\n",
              "      display: none;\n",
              "      fill: #1967D2;\n",
              "      height: 32px;\n",
              "      padding: 0 0 0 0;\n",
              "      width: 32px;\n",
              "    }\n",
              "\n",
              "    .colab-df-convert:hover {\n",
              "      background-color: #E2EBFA;\n",
              "      box-shadow: 0px 1px 2px rgba(60, 64, 67, 0.3), 0px 1px 3px 1px rgba(60, 64, 67, 0.15);\n",
              "      fill: #174EA6;\n",
              "    }\n",
              "\n",
              "    [theme=dark] .colab-df-convert {\n",
              "      background-color: #3B4455;\n",
              "      fill: #D2E3FC;\n",
              "    }\n",
              "\n",
              "    [theme=dark] .colab-df-convert:hover {\n",
              "      background-color: #434B5C;\n",
              "      box-shadow: 0px 1px 3px 1px rgba(0, 0, 0, 0.15);\n",
              "      filter: drop-shadow(0px 1px 2px rgba(0, 0, 0, 0.3));\n",
              "      fill: #FFFFFF;\n",
              "    }\n",
              "  </style>\n",
              "\n",
              "      <script>\n",
              "        const buttonEl =\n",
              "          document.querySelector('#df-ff32bf9b-1a46-4cd8-a825-81b4a49891df button.colab-df-convert');\n",
              "        buttonEl.style.display =\n",
              "          google.colab.kernel.accessAllowed ? 'block' : 'none';\n",
              "\n",
              "        async function convertToInteractive(key) {\n",
              "          const element = document.querySelector('#df-ff32bf9b-1a46-4cd8-a825-81b4a49891df');\n",
              "          const dataTable =\n",
              "            await google.colab.kernel.invokeFunction('convertToInteractive',\n",
              "                                                     [key], {});\n",
              "          if (!dataTable) return;\n",
              "\n",
              "          const docLinkHtml = 'Like what you see? Visit the ' +\n",
              "            '<a target=\"_blank\" href=https://colab.research.google.com/notebooks/data_table.ipynb>data table notebook</a>'\n",
              "            + ' to learn more about interactive tables.';\n",
              "          element.innerHTML = '';\n",
              "          dataTable['output_type'] = 'display_data';\n",
              "          await google.colab.output.renderOutput(dataTable, element);\n",
              "          const docLink = document.createElement('div');\n",
              "          docLink.innerHTML = docLinkHtml;\n",
              "          element.appendChild(docLink);\n",
              "        }\n",
              "      </script>\n",
              "    </div>\n",
              "  </div>\n",
              "  "
            ]
          },
          "metadata": {},
          "execution_count": 124
        }
      ]
    },
    {
      "cell_type": "code",
      "source": [
        "type(X)"
      ],
      "metadata": {
        "colab": {
          "base_uri": "https://localhost:8080/"
        },
        "id": "a6z76Cj45y_X",
        "outputId": "041983fb-2b5b-49d4-8ee5-24a423d81a61"
      },
      "execution_count": 125,
      "outputs": [
        {
          "output_type": "execute_result",
          "data": {
            "text/plain": [
              "pandas.core.frame.DataFrame"
            ]
          },
          "metadata": {},
          "execution_count": 125
        }
      ]
    },
    {
      "cell_type": "code",
      "source": [
        "X.shape"
      ],
      "metadata": {
        "colab": {
          "base_uri": "https://localhost:8080/"
        },
        "id": "A3oAphfn5xIN",
        "outputId": "85277618-e90b-4286-b876-7e7db12c724e"
      },
      "execution_count": 126,
      "outputs": [
        {
          "output_type": "execute_result",
          "data": {
            "text/plain": [
              "(1500, 16)"
            ]
          },
          "metadata": {},
          "execution_count": 126
        }
      ]
    },
    {
      "cell_type": "markdown",
      "source": [
        "## Que 9"
      ],
      "metadata": {
        "id": "auAKncpsYrde"
      }
    },
    {
      "cell_type": "code",
      "source": [
        "X.shape, y.shape"
      ],
      "metadata": {
        "colab": {
          "base_uri": "https://localhost:8080/"
        },
        "id": "a9Gbc-CM6TzD",
        "outputId": "3c341f78-2735-4071-bec6-a44f22e97849"
      },
      "execution_count": 127,
      "outputs": [
        {
          "output_type": "execute_result",
          "data": {
            "text/plain": [
              "((1500, 16), (1500,))"
            ]
          },
          "metadata": {},
          "execution_count": 127
        }
      ]
    },
    {
      "cell_type": "code",
      "source": [
        "from sklearn.model_selection import train_test_split\n",
        "x_train, x_test, y_train, y_test = train_test_split(X, y, test_size=0.2, random_state=32)\n",
        "x_train.shape, x_test.shape, y_train.shape, y_test.shape"
      ],
      "metadata": {
        "id": "ISFi4EwtYrdg",
        "colab": {
          "base_uri": "https://localhost:8080/"
        },
        "outputId": "61035c9a-2e81-48d8-e5a3-98f17d679506"
      },
      "execution_count": 128,
      "outputs": [
        {
          "output_type": "execute_result",
          "data": {
            "text/plain": [
              "((1200, 16), (300, 16), (1200,), (300,))"
            ]
          },
          "metadata": {},
          "execution_count": 128
        }
      ]
    },
    {
      "cell_type": "markdown",
      "source": [
        "## Que 10"
      ],
      "metadata": {
        "id": "r45IVOWgYrdg"
      }
    },
    {
      "cell_type": "code",
      "source": [
        "from sklearn.linear_model import Perceptron\n",
        "pcp = Perceptron(random_state=32,\n",
        "                 eta0=1,\n",
        "                 max_iter=10,\n",
        "                 shuffle=False,\n",
        "                 validation_fraction=0.2,\n",
        "                 fit_intercept=True,\n",
        "                 warm_start=False,\n",
        "                 penalty=None)\n",
        "pcp.fit(x_train, y_train)"
      ],
      "metadata": {
        "id": "_V4tSSCUYrdh",
        "colab": {
          "base_uri": "https://localhost:8080/"
        },
        "outputId": "d5e5cb35-4a57-4a14-e337-d632cffe4b6b"
      },
      "execution_count": 129,
      "outputs": [
        {
          "output_type": "stream",
          "name": "stderr",
          "text": [
            "/usr/local/lib/python3.7/dist-packages/sklearn/linear_model/_stochastic_gradient.py:700: ConvergenceWarning: Maximum number of iteration reached before convergence. Consider increasing max_iter to improve the fit.\n",
            "  ConvergenceWarning,\n"
          ]
        },
        {
          "output_type": "execute_result",
          "data": {
            "text/plain": [
              "Perceptron(eta0=1, max_iter=10, random_state=32, shuffle=False,\n",
              "           validation_fraction=0.2)"
            ]
          },
          "metadata": {},
          "execution_count": 129
        }
      ]
    },
    {
      "cell_type": "code",
      "source": [
        "y.unique()"
      ],
      "metadata": {
        "colab": {
          "base_uri": "https://localhost:8080/"
        },
        "id": "4we3WW1m7jCY",
        "outputId": "ccb36ea6-bb3d-4563-ebd7-cd0c01e17130"
      },
      "execution_count": 130,
      "outputs": [
        {
          "output_type": "execute_result",
          "data": {
            "text/plain": [
              "array(['unacc', 'acc', 'good', 'vgood'], dtype=object)"
            ]
          },
          "metadata": {},
          "execution_count": 130
        }
      ]
    },
    {
      "cell_type": "code",
      "source": [
        "pcp.coef_.shape"
      ],
      "metadata": {
        "colab": {
          "base_uri": "https://localhost:8080/"
        },
        "id": "5Rbdbyx37SYq",
        "outputId": "782285f5-1654-49ca-ee7a-39266c2a48b9"
      },
      "execution_count": 131,
      "outputs": [
        {
          "output_type": "execute_result",
          "data": {
            "text/plain": [
              "(4, 16)"
            ]
          },
          "metadata": {},
          "execution_count": 131
        }
      ]
    },
    {
      "cell_type": "code",
      "source": [
        "pcp.coef_[0][1]"
      ],
      "metadata": {
        "colab": {
          "base_uri": "https://localhost:8080/"
        },
        "id": "F3haPOtl7ffx",
        "outputId": "0e8bbb2d-9d16-47df-936a-3964e5763636"
      },
      "execution_count": 132,
      "outputs": [
        {
          "output_type": "execute_result",
          "data": {
            "text/plain": [
              "-1.0"
            ]
          },
          "metadata": {},
          "execution_count": 132
        }
      ]
    },
    {
      "cell_type": "markdown",
      "source": [
        "## Que 11"
      ],
      "metadata": {
        "id": "aXKv5R9WYrdh"
      }
    },
    {
      "cell_type": "code",
      "source": [
        "from sklearn.linear_model import SGDClassifier\n",
        "sgdc = SGDClassifier(random_state=32,\n",
        "                     loss='log',\n",
        "                     penalty='l2',\n",
        "                     max_iter=10,\n",
        "                     eta0=0.01,\n",
        "                     learning_rate='constant',\n",
        "                     alpha=0.001)\n",
        "sgdc.fit(x_train, y_train)"
      ],
      "metadata": {
        "id": "kPkGFTbfYrdh",
        "colab": {
          "base_uri": "https://localhost:8080/"
        },
        "outputId": "bf5ae19e-36e9-47cf-ba77-5f4221afb039"
      },
      "execution_count": 133,
      "outputs": [
        {
          "output_type": "stream",
          "name": "stderr",
          "text": [
            "/usr/local/lib/python3.7/dist-packages/sklearn/linear_model/_stochastic_gradient.py:700: ConvergenceWarning: Maximum number of iteration reached before convergence. Consider increasing max_iter to improve the fit.\n",
            "  ConvergenceWarning,\n"
          ]
        },
        {
          "output_type": "execute_result",
          "data": {
            "text/plain": [
              "SGDClassifier(alpha=0.001, eta0=0.01, learning_rate='constant', loss='log',\n",
              "              max_iter=10, random_state=32)"
            ]
          },
          "metadata": {},
          "execution_count": 133
        }
      ]
    },
    {
      "cell_type": "code",
      "source": [
        "sgdc.score(x_train, y_train)"
      ],
      "metadata": {
        "colab": {
          "base_uri": "https://localhost:8080/"
        },
        "id": "I0EEKVMV809E",
        "outputId": "843c71ee-9442-4c96-c65a-2cc583afa85d"
      },
      "execution_count": 134,
      "outputs": [
        {
          "output_type": "execute_result",
          "data": {
            "text/plain": [
              "0.795"
            ]
          },
          "metadata": {},
          "execution_count": 134
        }
      ]
    },
    {
      "cell_type": "code",
      "source": [
        "?sgdc"
      ],
      "metadata": {
        "id": "NiSiip0b9CMG"
      },
      "execution_count": 135,
      "outputs": []
    },
    {
      "cell_type": "markdown",
      "source": [
        "## Que 12"
      ],
      "metadata": {
        "id": "L1f6tplgYrdh"
      }
    },
    {
      "cell_type": "markdown",
      "source": [
        "## REVISIT  "
      ],
      "metadata": {
        "id": "LSnDudBS_PQw"
      }
    },
    {
      "cell_type": "code",
      "source": [
        "from sklearn.linear_model import LogisticRegression\n",
        "from sklearn.model_selection import RandomizedSearchCV\n",
        "\n",
        "log_reg = LogisticRegression(random_state=32,\n",
        "                             tol=1e-2,\n",
        "                             solver='saga',\n",
        "                             max_iter=200)\n",
        "pd = {\n",
        "    'penalty': ['l1', 'l2'],\n",
        "    'C': [0.5, 1.0, 1.5, 2.0, 2.5, 3, 3.5, 4]\n",
        "    }\n",
        "RandCV = RandomizedSearchCV(log_reg,\n",
        "                            param_distributions=pd,\n",
        "                            random_state=32)\n",
        "RandCV.fit(x_train, y_train)"
      ],
      "metadata": {
        "id": "5IuMAXLcYrdi",
        "colab": {
          "base_uri": "https://localhost:8080/"
        },
        "outputId": "fd7e063b-b0a3-41c0-e848-90f382cba1c7"
      },
      "execution_count": 136,
      "outputs": [
        {
          "output_type": "execute_result",
          "data": {
            "text/plain": [
              "RandomizedSearchCV(estimator=LogisticRegression(max_iter=200, random_state=32,\n",
              "                                                solver='saga', tol=0.01),\n",
              "                   param_distributions={'C': [0.5, 1.0, 1.5, 2.0, 2.5, 3, 3.5,\n",
              "                                              4],\n",
              "                                        'penalty': ['l1', 'l2']},\n",
              "                   random_state=32)"
            ]
          },
          "metadata": {},
          "execution_count": 136
        }
      ]
    },
    {
      "cell_type": "code",
      "source": [
        "RandCV.best_params_"
      ],
      "metadata": {
        "colab": {
          "base_uri": "https://localhost:8080/"
        },
        "id": "GSL3fXsh-rk5",
        "outputId": "a745f7fb-6498-4416-add8-49c48c0b92fc"
      },
      "execution_count": 137,
      "outputs": [
        {
          "output_type": "execute_result",
          "data": {
            "text/plain": [
              "{'C': 1.5, 'penalty': 'l1'}"
            ]
          },
          "metadata": {},
          "execution_count": 137
        }
      ]
    },
    {
      "cell_type": "markdown",
      "source": [
        "*My answer not matching any of the options given*"
      ],
      "metadata": {
        "id": "M6PPxEsKLzlh"
      }
    },
    {
      "cell_type": "markdown",
      "source": [
        "## Que 13"
      ],
      "metadata": {
        "id": "-q0mvcDDYrdi"
      }
    },
    {
      "cell_type": "code",
      "source": [
        "from sklearn.model_selection import GridSearchCV\n",
        "from sklearn.svm import SVC\n",
        "\n",
        "svcc = SVC(random_state=32)\n",
        "pg = {\n",
        "    'kernel': ['linear', 'rbf'],\n",
        "    'C': [1, 10]\n",
        "}\n",
        "gridCV = GridSearchCV(svcc,\n",
        "                      param_grid=pg)\n",
        "gridCV.fit(x_train, y_train)\n"
      ],
      "metadata": {
        "id": "7mpYcUxsYrdi",
        "colab": {
          "base_uri": "https://localhost:8080/"
        },
        "outputId": "14349b3d-855b-46ce-dffd-d61cfe5b5e6e"
      },
      "execution_count": 138,
      "outputs": [
        {
          "output_type": "execute_result",
          "data": {
            "text/plain": [
              "GridSearchCV(estimator=SVC(random_state=32),\n",
              "             param_grid={'C': [1, 10], 'kernel': ['linear', 'rbf']})"
            ]
          },
          "metadata": {},
          "execution_count": 138
        }
      ]
    },
    {
      "cell_type": "code",
      "source": [
        "gridCV.best_params_"
      ],
      "metadata": {
        "colab": {
          "base_uri": "https://localhost:8080/"
        },
        "id": "HR5fmsDOAKcF",
        "outputId": "82a358b9-cbf5-4907-def3-14b5bbc1bce4"
      },
      "execution_count": 139,
      "outputs": [
        {
          "output_type": "execute_result",
          "data": {
            "text/plain": [
              "{'C': 10, 'kernel': 'rbf'}"
            ]
          },
          "metadata": {},
          "execution_count": 139
        }
      ]
    },
    {
      "cell_type": "markdown",
      "source": [
        "## Que 14"
      ],
      "metadata": {
        "id": "-9WCldTAYrdi"
      }
    },
    {
      "cell_type": "code",
      "source": [
        "from sklearn.neighbors import KNeighborsClassifier\n",
        "from sklearn.model_selection import GridSearchCV\n",
        "\n",
        "knnc = KNeighborsClassifier(metric='minkowski',\n",
        "                            p=2)\n",
        "pg_knn = {\n",
        "    'n_neighbors': [1,3,5,7]\n",
        "}\n",
        "gridKNN = GridSearchCV(knnc,\n",
        "                       param_grid=pg_knn,\n",
        "                       scoring='accuracy',\n",
        "                       cv=4)\n",
        "gridKNN.fit(x_train, y_train)"
      ],
      "metadata": {
        "id": "XDQTgcJ5Yrdi",
        "colab": {
          "base_uri": "https://localhost:8080/"
        },
        "outputId": "a899225c-559b-4e89-8c5d-4f4fa73f19cb"
      },
      "execution_count": 140,
      "outputs": [
        {
          "output_type": "execute_result",
          "data": {
            "text/plain": [
              "GridSearchCV(cv=4, estimator=KNeighborsClassifier(),\n",
              "             param_grid={'n_neighbors': [1, 3, 5, 7]}, scoring='accuracy')"
            ]
          },
          "metadata": {},
          "execution_count": 140
        }
      ]
    },
    {
      "cell_type": "code",
      "source": [
        "gridKNN.best_params_"
      ],
      "metadata": {
        "colab": {
          "base_uri": "https://localhost:8080/"
        },
        "id": "uhnZWbZyBRdL",
        "outputId": "50501974-1a34-437c-e476-8f9da000bd14"
      },
      "execution_count": 141,
      "outputs": [
        {
          "output_type": "execute_result",
          "data": {
            "text/plain": [
              "{'n_neighbors': 3}"
            ]
          },
          "metadata": {},
          "execution_count": 141
        }
      ]
    },
    {
      "cell_type": "markdown",
      "source": [
        "## Que 15"
      ],
      "metadata": {
        "id": "QDCCUHH2Yrdj"
      }
    },
    {
      "cell_type": "code",
      "source": [
        "gridKNN.best_score_"
      ],
      "metadata": {
        "id": "m8Mn9i22Yrdj",
        "colab": {
          "base_uri": "https://localhost:8080/"
        },
        "outputId": "a436c9f3-998f-4b15-f0c9-30e6f7d8bb67"
      },
      "execution_count": 142,
      "outputs": [
        {
          "output_type": "execute_result",
          "data": {
            "text/plain": [
              "0.9091666666666667"
            ]
          },
          "metadata": {},
          "execution_count": 142
        }
      ]
    },
    {
      "cell_type": "markdown",
      "source": [
        "## Que 16"
      ],
      "metadata": {
        "id": "7RjuAfH0Yrdj"
      }
    },
    {
      "cell_type": "code",
      "source": [
        "from sklearn.tree import DecisionTreeClassifier\n",
        "dtc = DecisionTreeClassifier(criterion='gini',\n",
        "                             splitter='random',\n",
        "                             min_samples_split=5,\n",
        "                             min_impurity_decrease=0.001,\n",
        "                             random_state=32)\n",
        "dtc.fit(x_train, y_train)"
      ],
      "metadata": {
        "id": "_SiowIEAYrdj",
        "colab": {
          "base_uri": "https://localhost:8080/"
        },
        "outputId": "dbf72aae-6674-4a1a-8789-ce790b194aa9"
      },
      "execution_count": 143,
      "outputs": [
        {
          "output_type": "execute_result",
          "data": {
            "text/plain": [
              "DecisionTreeClassifier(min_impurity_decrease=0.001, min_samples_split=5,\n",
              "                       random_state=32, splitter='random')"
            ]
          },
          "metadata": {},
          "execution_count": 143
        }
      ]
    },
    {
      "cell_type": "code",
      "source": [
        "dtc.score(x_test, y_test)"
      ],
      "metadata": {
        "colab": {
          "base_uri": "https://localhost:8080/"
        },
        "id": "qnGFcUqBCsFC",
        "outputId": "82d30ad8-990a-4ec6-febb-3c8ba6969cf2"
      },
      "execution_count": 144,
      "outputs": [
        {
          "output_type": "execute_result",
          "data": {
            "text/plain": [
              "0.9466666666666667"
            ]
          },
          "metadata": {},
          "execution_count": 144
        }
      ]
    },
    {
      "cell_type": "code",
      "source": [
        "from sklearn.metrics import accuracy_score, classification_report\n",
        "accuracy_score(y_test, dtc.predict(x_test))"
      ],
      "metadata": {
        "colab": {
          "base_uri": "https://localhost:8080/"
        },
        "id": "C4nUC3BnC2Z9",
        "outputId": "810b0e29-8a5e-4ca2-a405-6a1ce5ae07a5"
      },
      "execution_count": 145,
      "outputs": [
        {
          "output_type": "execute_result",
          "data": {
            "text/plain": [
              "0.9466666666666667"
            ]
          },
          "metadata": {},
          "execution_count": 145
        }
      ]
    },
    {
      "cell_type": "code",
      "source": [
        "print(classification_report(y_test, dtc.predict(x_test)))"
      ],
      "metadata": {
        "colab": {
          "base_uri": "https://localhost:8080/"
        },
        "id": "L_36qj3GDQpC",
        "outputId": "a414cee7-ea50-4f7d-a4d5-99525bbaac66"
      },
      "execution_count": 146,
      "outputs": [
        {
          "output_type": "stream",
          "name": "stdout",
          "text": [
            "              precision    recall  f1-score   support\n",
            "\n",
            "         acc       0.88      0.95      0.91        74\n",
            "        good       0.76      0.76      0.76        17\n",
            "       unacc       0.99      0.97      0.98       196\n",
            "       vgood       1.00      0.85      0.92        13\n",
            "\n",
            "    accuracy                           0.95       300\n",
            "   macro avg       0.91      0.88      0.89       300\n",
            "weighted avg       0.95      0.95      0.95       300\n",
            "\n"
          ]
        }
      ]
    },
    {
      "cell_type": "markdown",
      "source": [
        "## Que 17"
      ],
      "metadata": {
        "id": "5igU5lXHYr6U"
      }
    },
    {
      "cell_type": "code",
      "source": [
        "dtc.get_depth()"
      ],
      "metadata": {
        "id": "S2ghOoNJYr6V",
        "colab": {
          "base_uri": "https://localhost:8080/"
        },
        "outputId": "a580c721-3ed6-4dba-ec78-3537f1950fdc"
      },
      "execution_count": 147,
      "outputs": [
        {
          "output_type": "execute_result",
          "data": {
            "text/plain": [
              "11"
            ]
          },
          "metadata": {},
          "execution_count": 147
        }
      ]
    },
    {
      "cell_type": "markdown",
      "source": [
        "## Que 18"
      ],
      "metadata": {
        "id": "_yqohGXtYr6W"
      }
    },
    {
      "cell_type": "code",
      "source": [
        "from sklearn.tree import plot_tree\n",
        "plot_tree(dtc)"
      ],
      "metadata": {
        "id": "XGStUgE3Yr6W",
        "colab": {
          "base_uri": "https://localhost:8080/",
          "height": 1000
        },
        "outputId": "c2a5ac1f-e9a3-4825-8548-acffa889980d"
      },
      "execution_count": 148,
      "outputs": [
        {
          "output_type": "execute_result",
          "data": {
            "text/plain": [
              "[Text(0.7586436170212766, 0.9583333333333334, 'X[15] <= -0.274\\ngini = 0.44\\nsamples = 1200\\nvalue = [243, 48, 862, 47]'),\n",
              " Text(0.7373670212765957, 0.875, 'gini = 0.0\\nsamples = 418\\nvalue = [0, 0, 418, 0]'),\n",
              " Text(0.7799202127659575, 0.875, 'X[12] <= 0.835\\ngini = 0.574\\nsamples = 782\\nvalue = [243, 48, 444, 47]'),\n",
              " Text(0.7586436170212766, 0.7916666666666666, 'X[3] <= 0.879\\ngini = 0.642\\nsamples = 514\\nvalue = [243, 48, 176, 47]'),\n",
              " Text(0.6236702127659575, 0.7083333333333334, 'X[7] <= 0.694\\ngini = 0.646\\nsamples = 386\\nvalue = [200, 48, 91, 47]'),\n",
              " Text(0.48138297872340424, 0.625, 'X[0] <= 0.774\\ngini = 0.638\\nsamples = 286\\nvalue = [154, 48, 37, 47]'),\n",
              " Text(0.30319148936170215, 0.5416666666666666, 'X[11] <= 0.144\\ngini = 0.677\\nsamples = 199\\nvalue = [90, 48, 14, 47]'),\n",
              " Text(0.1595744680851064, 0.4583333333333333, 'X[5] <= 0.086\\ngini = 0.511\\nsamples = 91\\nvalue = [58, 25, 8, 0]'),\n",
              " Text(0.0851063829787234, 0.375, 'X[10] <= 0.886\\ngini = 0.39\\nsamples = 59\\nvalue = [45, 7, 7, 0]'),\n",
              " Text(0.0425531914893617, 0.2916666666666667, 'X[6] <= 0.589\\ngini = 0.335\\nsamples = 39\\nvalue = [31, 7, 1, 0]'),\n",
              " Text(0.02127659574468085, 0.20833333333333334, 'gini = 0.091\\nsamples = 21\\nvalue = [20, 0, 1, 0]'),\n",
              " Text(0.06382978723404255, 0.20833333333333334, 'X[2] <= 0.066\\ngini = 0.475\\nsamples = 18\\nvalue = [11, 7, 0, 0]'),\n",
              " Text(0.0425531914893617, 0.125, 'gini = 0.0\\nsamples = 7\\nvalue = [0, 7, 0, 0]'),\n",
              " Text(0.0851063829787234, 0.125, 'gini = 0.0\\nsamples = 11\\nvalue = [11, 0, 0, 0]'),\n",
              " Text(0.1276595744680851, 0.2916666666666667, 'X[15] <= 1.229\\ngini = 0.42\\nsamples = 20\\nvalue = [14, 0, 6, 0]'),\n",
              " Text(0.10638297872340426, 0.20833333333333334, 'gini = 0.165\\nsamples = 11\\nvalue = [10, 0, 1, 0]'),\n",
              " Text(0.14893617021276595, 0.20833333333333334, 'X[4] <= 0.616\\ngini = 0.494\\nsamples = 9\\nvalue = [4, 0, 5, 0]'),\n",
              " Text(0.1276595744680851, 0.125, 'gini = 0.375\\nsamples = 4\\nvalue = [3, 0, 1, 0]'),\n",
              " Text(0.1702127659574468, 0.125, 'gini = 0.32\\nsamples = 5\\nvalue = [1, 0, 4, 0]'),\n",
              " Text(0.23404255319148937, 0.375, 'X[10] <= 0.86\\ngini = 0.518\\nsamples = 32\\nvalue = [13, 18, 1, 0]'),\n",
              " Text(0.2127659574468085, 0.2916666666666667, 'X[9] <= 0.747\\ngini = 0.245\\nsamples = 21\\nvalue = [3, 18, 0, 0]'),\n",
              " Text(0.19148936170212766, 0.20833333333333334, 'gini = 0.0\\nsamples = 13\\nvalue = [0, 13, 0, 0]'),\n",
              " Text(0.23404255319148937, 0.20833333333333334, 'X[14] <= 0.435\\ngini = 0.469\\nsamples = 8\\nvalue = [3, 5, 0, 0]'),\n",
              " Text(0.2127659574468085, 0.125, 'gini = 0.375\\nsamples = 4\\nvalue = [3, 1, 0, 0]'),\n",
              " Text(0.2553191489361702, 0.125, 'gini = 0.0\\nsamples = 4\\nvalue = [0, 4, 0, 0]'),\n",
              " Text(0.2553191489361702, 0.2916666666666667, 'gini = 0.165\\nsamples = 11\\nvalue = [10, 0, 1, 0]'),\n",
              " Text(0.44680851063829785, 0.4583333333333333, 'X[10] <= 0.615\\ngini = 0.674\\nsamples = 108\\nvalue = [32, 23, 6, 47]'),\n",
              " Text(0.3404255319148936, 0.375, 'X[4] <= 0.971\\ngini = 0.522\\nsamples = 73\\nvalue = [16, 9, 1, 47]'),\n",
              " Text(0.2978723404255319, 0.2916666666666667, 'X[9] <= 0.061\\ngini = 0.369\\nsamples = 48\\nvalue = [2, 9, 0, 37]'),\n",
              " Text(0.2765957446808511, 0.20833333333333334, 'gini = 0.0\\nsamples = 22\\nvalue = [0, 0, 0, 22]'),\n",
              " Text(0.3191489361702128, 0.20833333333333334, 'X[14] <= 0.159\\ngini = 0.541\\nsamples = 26\\nvalue = [2, 9, 0, 15]'),\n",
              " Text(0.2978723404255319, 0.125, 'gini = 0.403\\nsamples = 12\\nvalue = [2, 9, 0, 1]'),\n",
              " Text(0.3404255319148936, 0.125, 'gini = 0.0\\nsamples = 14\\nvalue = [0, 0, 0, 14]'),\n",
              " Text(0.3829787234042553, 0.2916666666666667, 'X[1] <= 0.994\\ngini = 0.525\\nsamples = 25\\nvalue = [14, 0, 1, 10]'),\n",
              " Text(0.3617021276595745, 0.20833333333333334, 'gini = 0.0\\nsamples = 11\\nvalue = [11, 0, 0, 0]'),\n",
              " Text(0.40425531914893614, 0.20833333333333334, 'X[9] <= 0.782\\ngini = 0.439\\nsamples = 14\\nvalue = [3, 0, 1, 10]'),\n",
              " Text(0.3829787234042553, 0.125, 'gini = 0.219\\nsamples = 8\\nvalue = [0, 0, 1, 7]'),\n",
              " Text(0.425531914893617, 0.125, 'X[14] <= 0.233\\ngini = 0.5\\nsamples = 6\\nvalue = [3, 0, 0, 3]'),\n",
              " Text(0.40425531914893614, 0.041666666666666664, 'gini = 0.375\\nsamples = 4\\nvalue = [3, 0, 0, 1]'),\n",
              " Text(0.44680851063829785, 0.041666666666666664, 'gini = 0.0\\nsamples = 2\\nvalue = [0, 0, 0, 2]'),\n",
              " Text(0.5531914893617021, 0.375, 'X[5] <= 0.51\\ngini = 0.611\\nsamples = 35\\nvalue = [16, 14, 5, 0]'),\n",
              " Text(0.5106382978723404, 0.2916666666666667, 'X[14] <= -0.495\\ngini = 0.434\\nsamples = 22\\nvalue = [16, 3, 3, 0]'),\n",
              " Text(0.48936170212765956, 0.20833333333333334, 'X[15] <= 0.873\\ngini = 0.48\\nsamples = 5\\nvalue = [2, 0, 3, 0]'),\n",
              " Text(0.46808510638297873, 0.125, 'gini = 0.0\\nsamples = 2\\nvalue = [2, 0, 0, 0]'),\n",
              " Text(0.5106382978723404, 0.125, 'gini = 0.0\\nsamples = 3\\nvalue = [0, 0, 3, 0]'),\n",
              " Text(0.5319148936170213, 0.20833333333333334, 'gini = 0.291\\nsamples = 17\\nvalue = [14, 3, 0, 0]'),\n",
              " Text(0.5957446808510638, 0.2916666666666667, 'X[14] <= -0.902\\ngini = 0.26\\nsamples = 13\\nvalue = [0, 11, 2, 0]'),\n",
              " Text(0.574468085106383, 0.20833333333333334, 'gini = 0.444\\nsamples = 3\\nvalue = [0, 1, 2, 0]'),\n",
              " Text(0.6170212765957447, 0.20833333333333334, 'gini = 0.0\\nsamples = 10\\nvalue = [0, 10, 0, 0]'),\n",
              " Text(0.6595744680851063, 0.5416666666666666, 'X[13] <= 0.644\\ngini = 0.389\\nsamples = 87\\nvalue = [64, 0, 23, 0]'),\n",
              " Text(0.6382978723404256, 0.4583333333333333, 'gini = 0.122\\nsamples = 46\\nvalue = [43, 0, 3, 0]'),\n",
              " Text(0.6808510638297872, 0.4583333333333333, 'X[10] <= 0.888\\ngini = 0.5\\nsamples = 41\\nvalue = [21, 0, 20, 0]'),\n",
              " Text(0.6595744680851063, 0.375, 'X[9] <= 0.983\\ngini = 0.375\\nsamples = 28\\nvalue = [21, 0, 7, 0]'),\n",
              " Text(0.6382978723404256, 0.2916666666666667, 'gini = 0.0\\nsamples = 13\\nvalue = [13, 0, 0, 0]'),\n",
              " Text(0.6808510638297872, 0.2916666666666667, 'X[14] <= -0.244\\ngini = 0.498\\nsamples = 15\\nvalue = [8, 0, 7, 0]'),\n",
              " Text(0.6595744680851063, 0.20833333333333334, 'gini = 0.346\\nsamples = 9\\nvalue = [2, 0, 7, 0]'),\n",
              " Text(0.7021276595744681, 0.20833333333333334, 'gini = 0.0\\nsamples = 6\\nvalue = [6, 0, 0, 0]'),\n",
              " Text(0.7021276595744681, 0.375, 'gini = 0.0\\nsamples = 13\\nvalue = [0, 0, 13, 0]'),\n",
              " Text(0.7659574468085106, 0.625, 'X[0] <= 0.471\\ngini = 0.497\\nsamples = 100\\nvalue = [46, 0, 54, 0]'),\n",
              " Text(0.7446808510638298, 0.5416666666666666, 'X[10] <= 0.423\\ngini = 0.43\\nsamples = 67\\nvalue = [46, 0, 21, 0]'),\n",
              " Text(0.723404255319149, 0.4583333333333333, 'gini = 0.176\\nsamples = 41\\nvalue = [37, 0, 4, 0]'),\n",
              " Text(0.7659574468085106, 0.4583333333333333, 'X[13] <= 0.094\\ngini = 0.453\\nsamples = 26\\nvalue = [9, 0, 17, 0]'),\n",
              " Text(0.7446808510638298, 0.375, 'X[14] <= -1.022\\ngini = 0.298\\nsamples = 11\\nvalue = [9, 0, 2, 0]'),\n",
              " Text(0.723404255319149, 0.2916666666666667, 'gini = 0.444\\nsamples = 3\\nvalue = [1, 0, 2, 0]'),\n",
              " Text(0.7659574468085106, 0.2916666666666667, 'gini = 0.0\\nsamples = 8\\nvalue = [8, 0, 0, 0]'),\n",
              " Text(0.7872340425531915, 0.375, 'gini = 0.0\\nsamples = 15\\nvalue = [0, 0, 15, 0]'),\n",
              " Text(0.7872340425531915, 0.5416666666666666, 'gini = 0.0\\nsamples = 33\\nvalue = [0, 0, 33, 0]'),\n",
              " Text(0.8936170212765957, 0.7083333333333334, 'X[6] <= 0.027\\ngini = 0.446\\nsamples = 128\\nvalue = [43, 0, 85, 0]'),\n",
              " Text(0.851063829787234, 0.625, 'X[5] <= 0.184\\ngini = 0.307\\nsamples = 95\\nvalue = [18, 0, 77, 0]'),\n",
              " Text(0.8297872340425532, 0.5416666666666666, 'gini = 0.0\\nsamples = 68\\nvalue = [0, 0, 68, 0]'),\n",
              " Text(0.8723404255319149, 0.5416666666666666, 'X[10] <= 0.934\\ngini = 0.444\\nsamples = 27\\nvalue = [18, 0, 9, 0]'),\n",
              " Text(0.851063829787234, 0.4583333333333333, 'gini = 0.231\\nsamples = 15\\nvalue = [13, 0, 2, 0]'),\n",
              " Text(0.8936170212765957, 0.4583333333333333, 'X[13] <= 0.468\\ngini = 0.486\\nsamples = 12\\nvalue = [5, 0, 7, 0]'),\n",
              " Text(0.8723404255319149, 0.375, 'gini = 0.278\\nsamples = 6\\nvalue = [5, 0, 1, 0]'),\n",
              " Text(0.9148936170212766, 0.375, 'gini = 0.0\\nsamples = 6\\nvalue = [0, 0, 6, 0]'),\n",
              " Text(0.9361702127659575, 0.625, 'X[10] <= 0.8\\ngini = 0.367\\nsamples = 33\\nvalue = [25, 0, 8, 0]'),\n",
              " Text(0.9148936170212766, 0.5416666666666666, 'gini = 0.091\\nsamples = 21\\nvalue = [20, 0, 1, 0]'),\n",
              " Text(0.9574468085106383, 0.5416666666666666, 'X[11] <= 0.008\\ngini = 0.486\\nsamples = 12\\nvalue = [5, 0, 7, 0]'),\n",
              " Text(0.9361702127659575, 0.4583333333333333, 'gini = 0.0\\nsamples = 6\\nvalue = [0, 0, 6, 0]'),\n",
              " Text(0.9787234042553191, 0.4583333333333333, 'gini = 0.278\\nsamples = 6\\nvalue = [5, 0, 1, 0]'),\n",
              " Text(0.8011968085106383, 0.7916666666666666, 'gini = 0.0\\nsamples = 268\\nvalue = [0, 0, 268, 0]')]"
            ]
          },
          "metadata": {},
          "execution_count": 148
        },
        {
          "output_type": "display_data",
          "data": {
            "text/plain": [
              "<Figure size 432x288 with 1 Axes>"
            ],
            "image/png": "[encoded data removed]"
          },
          "metadata": {
            "needs_background": "light"
          }
        }
      ]
    },
    {
      "cell_type": "markdown",
      "source": [
        "**Text(0.7799202127659575, 0.875, 'X[12] <= 0.835\\ngini = 0.574\\nsamples = 782\\nvalue = [243, 48, 444, 47]')**"
      ],
      "metadata": {
        "id": "rj1-lQoBEpKb"
      }
    },
    {
      "cell_type": "code",
      "source": [
        "plot_tree(dtc)[2]"
      ],
      "metadata": {
        "colab": {
          "base_uri": "https://localhost:8080/",
          "height": 283
        },
        "id": "cXjUrcXMEnUt",
        "outputId": "beb6d020-317d-433a-d51f-66325010ec17"
      },
      "execution_count": 149,
      "outputs": [
        {
          "output_type": "execute_result",
          "data": {
            "text/plain": [
              "Text(0.7799202127659575, 0.875, 'X[12] <= 0.835\\ngini = 0.574\\nsamples = 782\\nvalue = [243, 48, 444, 47]')"
            ]
          },
          "metadata": {},
          "execution_count": 149
        },
        {
          "output_type": "display_data",
          "data": {
            "text/plain": [
              "<Figure size 432x288 with 1 Axes>"
            ],
            "image/png": "[encoded data removed]"
          },
          "metadata": {
            "needs_background": "light"
          }
        }
      ]
    },
    {
      "cell_type": "markdown",
      "source": [
        "## Que 19"
      ],
      "metadata": {
        "id": "DPjWDFO1Yr6W"
      }
    },
    {
      "cell_type": "code",
      "source": [
        "from sklearn.ensemble import RandomForestClassifier\n",
        "from sklearn.model_selection import GridSearchCV\n",
        "\n",
        "rfc = RandomForestClassifier(random_state=32)\n",
        "pg_rfc = {\n",
        "    'n_estimators': [10,11,12,13,14,15]\n",
        "}\n",
        "\n",
        "gridRFC = GridSearchCV(rfc,\n",
        "                       param_grid=pg_rfc)\n",
        "gridRFC.fit(x_train, y_train)"
      ],
      "metadata": {
        "id": "NjcgaGroYr6W",
        "colab": {
          "base_uri": "https://localhost:8080/"
        },
        "outputId": "8e138fbf-283f-4d2b-e367-d0dc6dc8c36a"
      },
      "execution_count": 150,
      "outputs": [
        {
          "output_type": "execute_result",
          "data": {
            "text/plain": [
              "GridSearchCV(estimator=RandomForestClassifier(random_state=32),\n",
              "             param_grid={'n_estimators': [10, 11, 12, 13, 14, 15]})"
            ]
          },
          "metadata": {},
          "execution_count": 150
        }
      ]
    },
    {
      "cell_type": "code",
      "source": [
        "gridRFC.best_params_"
      ],
      "metadata": {
        "colab": {
          "base_uri": "https://localhost:8080/"
        },
        "id": "xCZ9B_bCGEcP",
        "outputId": "0a70a4f4-816b-4cb4-f7b4-6af52a721974"
      },
      "execution_count": 151,
      "outputs": [
        {
          "output_type": "execute_result",
          "data": {
            "text/plain": [
              "{'n_estimators': 12}"
            ]
          },
          "metadata": {},
          "execution_count": 151
        }
      ]
    },
    {
      "cell_type": "markdown",
      "source": [
        "## Que 20"
      ],
      "metadata": {
        "id": "FQapaX4hYr6X"
      }
    },
    {
      "cell_type": "code",
      "source": [
        "from sklearn.ensemble import BaggingClassifier\n",
        "from sklearn.linear_model import LogisticRegression\n",
        "from sklearn.svm import SVC\n",
        "from sklearn.neighbors import KNeighborsClassifier\n",
        "from sklearn.tree import DecisionTreeClassifier\n",
        "\n",
        "log_reg2 = LogisticRegression(random_state=32)\n",
        "svcc2 = SVC(random_state=32)\n",
        "knnc2 = KNeighborsClassifier()\n",
        "dtc2 = DecisionTreeClassifier(random_state=32)\n",
        "\n",
        "base_estimator_list = [log_reg2, svcc2, knnc2, dtc2]"
      ],
      "metadata": {
        "id": "gLoG-MrNYr6X"
      },
      "execution_count": 152,
      "outputs": []
    },
    {
      "cell_type": "code",
      "source": [
        "def get_score(x_train, y_train, \n",
        "              x_test, y_test,\n",
        "              base_estimator, \n",
        "              n_estimators=15,\n",
        "              random_state=32):\n",
        "  bgc = BaggingClassifier(base_estimator=base_estimator,\n",
        "                          n_estimators=n_estimators,\n",
        "                          random_state=random_state)\n",
        "  bgc.fit(x_train, y_train)\n",
        "  mean_acc_score = bgc.score(x_test, y_test)\n",
        "  return mean_acc_score"
      ],
      "metadata": {
        "id": "Ok7BOfp2HnPY"
      },
      "execution_count": 153,
      "outputs": []
    },
    {
      "cell_type": "code",
      "source": [
        "print(f\"The scores on TEST SET are:\\n\")\n",
        "for base_estimator in base_estimator_list:\n",
        "  score = get_score(x_train, y_train, x_test, y_test,\n",
        "            base_estimator)\n",
        "  print(f\"Mean accuracy score of {base_estimator} is {score}\")"
      ],
      "metadata": {
        "colab": {
          "base_uri": "https://localhost:8080/"
        },
        "id": "hsOPfGxVItJl",
        "outputId": "226e471c-fced-41f9-fa8d-14470ada8ddd"
      },
      "execution_count": 154,
      "outputs": [
        {
          "output_type": "stream",
          "name": "stdout",
          "text": [
            "The scores on TEST SET are:\n",
            "\n",
            "Mean accuracy score of LogisticRegression(random_state=32) is 0.8166666666666667\n",
            "Mean accuracy score of SVC(random_state=32) is 0.98\n",
            "Mean accuracy score of KNeighborsClassifier() is 0.93\n",
            "Mean accuracy score of DecisionTreeClassifier(random_state=32) is 0.9733333333333334\n"
          ]
        }
      ]
    }
  ]
}