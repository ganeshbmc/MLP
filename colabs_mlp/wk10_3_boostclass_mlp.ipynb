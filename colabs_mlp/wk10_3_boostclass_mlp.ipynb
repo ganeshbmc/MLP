{
 "cells": [
  {
   "cell_type": "markdown",
   "metadata": {},
   "source": [
    "## Boosting techniques to solve classification problems  \n",
    "\n",
    "`MNIST multiclass digit recognition dataset`  \n",
    "[video link](https://youtu.be/DhftGTaoFDI)  "
   ]
  },
  {
   "cell_type": "markdown",
   "metadata": {},
   "source": [
    "**Import basic libraries**  "
   ]
  },
  {
   "cell_type": "code",
   "execution_count": 1,
   "metadata": {},
   "outputs": [],
   "source": [
    "# plotting utility\n",
    "import matplotlib.pyplot as plt\n",
    "\n",
    "# dataset loading through mnist\n",
    "from keras.datasets import mnist\n",
    "\n",
    "# training three classifiers:\n",
    "# AdaBoostClassifier, GradientBoostingClassifier and XGBoostClassifier.\n",
    "from sklearn.ensemble import AdaBoostClassifier\n",
    "from sklearn.ensemble import GradientBoostingClassifier\n",
    "\n",
    "# model selection utilities for training and test split and cross validation  \n",
    "from sklearn.model_selection import train_test_split\n",
    "from sklearn.model_selection import cross_validate\n",
    "from sklearn.model_selection import cross_val_score\n",
    "\n",
    "# use shuffle-split cross validation for this exercise\n",
    "from sklearn.model_selection import ShuffleSplit\n",
    "\n",
    "# make use of confusion matrix and classification report to evaluate performance on test set\n",
    "from sklearn.metrics import confusion_matrix, ConfusionMatrixDisplay\n",
    "from sklearn.metrics import classification_report\n",
    "\n",
    "# the model is defined through pipeline utility\n",
    "from sklearn.pipeline import Pipeline"
   ]
  },
  {
   "cell_type": "markdown",
   "metadata": {},
   "source": [
    "## Loading MNIST dataset  "
   ]
  },
  {
   "cell_type": "code",
   "execution_count": 2,
   "metadata": {},
   "outputs": [],
   "source": [
    "# Load dataset \n",
    "(X_train, y_train), (X_test, y_test) = mnist.load_data()"
   ]
  },
  {
   "cell_type": "markdown",
   "metadata": {},
   "source": [
    "There are 60000 examples in training set and 10000 examples in the test set.  \n",
    "\n",
    "Each example is a grey scale image of size 28*28. There are 10 different labels - one for each digit - 0 to 9.  "
   ]
  },
  {
   "cell_type": "code",
   "execution_count": 3,
   "metadata": {},
   "outputs": [
    {
     "name": "stdout",
     "output_type": "stream",
     "text": [
      "Shape of training data: (60000, 28, 28)\n",
      "Shape of training labels: (60000,)\n",
      "Shape of testing data: (10000, 28, 28)\n",
      "Shape of testing labels: (10000,)\n"
     ]
    }
   ],
   "source": [
    "print(f\"Shape of training data: {X_train.shape}\")\n",
    "print(f\"Shape of training labels: {y_train.shape}\")\n",
    "print(f\"Shape of testing data: {X_test.shape}\")\n",
    "print(f\"Shape of testing labels: {y_test.shape}\")"
   ]
  },
  {
   "cell_type": "markdown",
   "metadata": {},
   "source": [
    "Before using the dataset for training and evaluation, we need to flatten it into a vector. After flattening, we have training and test examples represented with a vector of 784 features. Each feature records pixel intensity in each of 28*28 pixel.  \n",
    "\n",
    "We normalize the pixel intensity by dividing it with the maximum value i.e., 255. In that sense, we have each feature value in the range 0 to 1.  "
   ]
  },
  {
   "cell_type": "code",
   "execution_count": 5,
   "metadata": {},
   "outputs": [],
   "source": [
    "# Flatten each input image into a vector of length 784\n",
    "X_train = X_train.reshape(X_train.shape[0], 28*28)\n",
    "X_test = X_test.reshape(X_test.shape[0], 28*28)\n",
    "\n",
    "# Normalizing\n",
    "X_train = X_train/255\n",
    "X_test = X_test/255"
   ]
  },
  {
   "cell_type": "code",
   "execution_count": 6,
   "metadata": {},
   "outputs": [
    {
     "name": "stdout",
     "output_type": "stream",
     "text": [
      "Shape of training data after flattening: (60000, 784)\n",
      "Shape of testing data after flattening: (10000, 784)\n"
     ]
    }
   ],
   "source": [
    "print(f\"Shape of training data after flattening: {X_train.shape}\")\n",
    "print(f\"Shape of testing data after flattening: {X_test.shape}\")"
   ]
  },
  {
   "cell_type": "markdown",
   "metadata": {},
   "source": [
    "We use `ShuffleSplit` cross validation with 10 splits and 20% data set aside for model evaluation as a test data.  "
   ]
  },
  {
   "cell_type": "code",
   "execution_count": 7,
   "metadata": {},
   "outputs": [],
   "source": [
    "cv = ShuffleSplit(n_splits=10, test_size=0.2, random_state=42)"
   ]
  },
  {
   "cell_type": "markdown",
   "metadata": {},
   "source": [
    "We define two functions to facilitate training and evaluation of different classifiers:  \n",
    "1. `train_classifiers`  \n",
    "2. `eval`  "
   ]
  },
  {
   "cell_type": "code",
   "execution_count": 8,
   "metadata": {},
   "outputs": [],
   "source": [
    "def train_classifiers(estimator, X_train, y_train, cv, name):\n",
    "    estimator.fit(X_train, y_train)\n",
    "    cv_train_score = cross_val_score(estimator, X_train, y_train,\n",
    "                                        cv=cv, scoring='f1_macro')\n",
    "    print(f\"On an average, {name} model has f1 score of \"\n",
    "            f\"{cv_train_score.mean():.3f} +/- {cv_train_score.std():.3f} on the training set.\")"
   ]
  },
  {
   "cell_type": "code",
   "execution_count": 9,
   "metadata": {},
   "outputs": [],
   "source": [
    "def eval(estimator, X_test, y_test):\n",
    "    y_pred = estimator.predict(X_test)\n",
    "\n",
    "    print(f\"# Classification report\")\n",
    "    print(classification_report(y_test, y_pred))\n",
    "\n",
    "    print(f\"# Confusion matrix\")\n",
    "    disp = ConfusionMatrixDisplay(\n",
    "        confusion_matrix = confusion_matrix(y_test, y_pred))\n",
    "    disp.plot()\n",
    "    plt.title('Confusion matrix')\n",
    "    plt.show()"
   ]
  },
  {
   "cell_type": "markdown",
   "metadata": {},
   "source": [
    "Let's train two classifiers with default parameters.  \n",
    "* `AdaBoostClassifier` that uses decision stumps as weak learners.  \n",
    "* `GradientBoostingClassifier` that uses decision trees as weak learners.  "
   ]
  },
  {
   "cell_type": "markdown",
   "metadata": {},
   "source": [
    "## AdaBoost for MNIST multiclass classification  "
   ]
  },
  {
   "cell_type": "markdown",
   "metadata": {},
   "source": [
    "We instantiate a decision tree classifier with default parameters and train it. The `train_classifier` function prints mean of cross validated accuracy and standard deviation of the trained classifier on the training set.  "
   ]
  },
  {
   "cell_type": "code",
   "execution_count": 10,
   "metadata": {},
   "outputs": [
    {
     "name": "stdout",
     "output_type": "stream",
     "text": [
      "On an average, AdaBoostClassifier model has f1 score of 0.712 +/- 0.016 on the training set.\n"
     ]
    }
   ],
   "source": [
    "abc_pipeline = Pipeline([('classifier', AdaBoostClassifier())])\n",
    "train_classifiers(abc_pipeline, X_train, y_train.ravel(),\n",
    "                    cv, 'AdaBoostClassifier')"
   ]
  },
  {
   "cell_type": "markdown",
   "metadata": {},
   "source": [
    "Let's evaluate the trained classifier on the test set.  "
   ]
  },
  {
   "cell_type": "code",
   "execution_count": 11,
   "metadata": {},
   "outputs": [
    {
     "name": "stdout",
     "output_type": "stream",
     "text": [
      "# Classification report\n",
      "              precision    recall  f1-score   support\n",
      "\n",
      "           0       0.84      0.90      0.87       980\n",
      "           1       0.85      0.94      0.90      1135\n",
      "           2       0.79      0.58      0.67      1032\n",
      "           3       0.68      0.67      0.68      1010\n",
      "           4       0.72      0.72      0.72       982\n",
      "           5       0.69      0.59      0.64       892\n",
      "           6       0.72      0.86      0.78       958\n",
      "           7       0.68      0.78      0.73      1028\n",
      "           8       0.66      0.68      0.67       974\n",
      "           9       0.62      0.55      0.58      1009\n",
      "\n",
      "    accuracy                           0.73     10000\n",
      "   macro avg       0.73      0.73      0.72     10000\n",
      "weighted avg       0.73      0.73      0.73     10000\n",
      "\n",
      "# Confusion matrix\n"
     ]
    },
    {
     "data": {
      "image/png": "[encoded data removed]",
      "text/plain": [
       "<Figure size 432x288 with 2 Axes>"
      ]
     },
     "metadata": {
      "needs_background": "light"
     },
     "output_type": "display_data"
    }
   ],
   "source": [
    "eval(abc_pipeline, X_test, y_test)"
   ]
  },
  {
   "cell_type": "markdown",
   "metadata": {},
   "source": [
    "## MNIST classification with GradientBoostingClassifier  "
   ]
  },
  {
   "cell_type": "markdown",
   "metadata": {},
   "source": [
    "Let's instantiate a gradient boosting classifier object with default parameters and train it.  \n",
    "Observe the mean `f1_score` and its standard deviation obtained by the classifier based on 10-fold cross validation of the training set.  "
   ]
  },
  {
   "cell_type": "code",
   "execution_count": 13,
   "metadata": {},
   "outputs": [],
   "source": [
    "gbc_pipeline = Pipeline([('classifier', GradientBoostingClassifier(n_estimators=10))])\n",
    "train_classifiers(gbc_pipeline, X_train, y_train.ravel(),\n",
    "                    cv, 'GradientBoostingClassifier')"
   ]
  },
  {
   "cell_type": "markdown",
   "metadata": {},
   "source": [
    "Let's evaluate the trained classifier on the test set.  "
   ]
  },
  {
   "cell_type": "code",
   "execution_count": null,
   "metadata": {},
   "outputs": [],
   "source": [
    "eval(gbc_pipeline, X_test, y_test)"
   ]
  },
  {
   "cell_type": "markdown",
   "metadata": {},
   "source": [
    "## MNIST classification with XGBoost classifier  "
   ]
  },
  {
   "cell_type": "code",
   "execution_count": null,
   "metadata": {},
   "outputs": [],
   "source": [
    "from xgboost import XGBClassifier"
   ]
  },
  {
   "cell_type": "code",
   "execution_count": null,
   "metadata": {},
   "outputs": [],
   "source": [
    "?XGBClassifier"
   ]
  },
  {
   "cell_type": "code",
   "execution_count": null,
   "metadata": {},
   "outputs": [],
   "source": [
    "xbc_pipeline = Pipeline([('classifier', XGBClassifier())])\n",
    "train_classifiers(xbc_pipeline, X_train, y_train.ravel(),\n",
    "                    cv, 'XGBClassifier')"
   ]
  },
  {
   "cell_type": "code",
   "execution_count": null,
   "metadata": {},
   "outputs": [],
   "source": [
    "eval(xbc_pipeline, X_test, y_test)"
   ]
  }
 ],
 "metadata": {
  "kernelspec": {
   "display_name": "Python 3.9.12 ('tf')",
   "language": "python",
   "name": "python3"
  },
  "language_info": {
   "codemirror_mode": {
    "name": "ipython",
    "version": 3
   },
   "file_extension": ".py",
   "mimetype": "text/x-python",
   "name": "python",
   "nbconvert_exporter": "python",
   "pygments_lexer": "ipython3",
   "version": "3.9.12"
  },
  "orig_nbformat": 4,
  "vscode": {
   "interpreter": {
    "hash": "78ddfc3686b8b7161f2836984651df038ec9a0366954334fc42499f59ad2b3c8"
   }
  }
 },
 "nbformat": 4,
 "nbformat_minor": 2
}
