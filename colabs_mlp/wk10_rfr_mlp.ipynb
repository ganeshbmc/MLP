{
 "cells": [
  {
   "cell_type": "markdown",
   "metadata": {},
   "source": [
    "## Ensemble techniques to solve regression problem  \n",
    "\n",
    "`California housing dataset`  \n",
    "\n",
    "[video link](https://youtu.be/cjf5b1dx6Tk)  "
   ]
  },
  {
   "cell_type": "markdown",
   "metadata": {},
   "source": [
    "In this colab, we will make use of  \n",
    "* Decision tree regressor  \n",
    "* Bagging regressor  \n",
    "* Random forest regressor  "
   ]
  },
  {
   "cell_type": "code",
   "execution_count": 2,
   "metadata": {},
   "outputs": [],
   "source": [
    "import pandas as pd\n",
    "import numpy as np\n",
    "\n",
    "from sklearn.datasets import fetch_california_housing\n",
    "from sklearn.ensemble import BaggingRegressor\n",
    "from sklearn.ensemble import RandomForestRegressor\n",
    "\n",
    "from sklearn.metrics import mean_absolute_error\n",
    "from sklearn.model_selection import cross_validate\n",
    "from sklearn.model_selection import train_test_split\n",
    "from sklearn.model_selection import RandomizedSearchCV\n",
    "from sklearn.model_selection import ShuffleSplit\n",
    "\n",
    "from sklearn.tree import DecisionTreeRegressor"
   ]
  },
  {
   "cell_type": "code",
   "execution_count": 3,
   "metadata": {},
   "outputs": [],
   "source": [
    "np.random.seed(306)"
   ]
  },
  {
   "cell_type": "markdown",
   "metadata": {},
   "source": [
    "Let's use `ShuffleSplit` as cv with 10 splits and 20% examples set aside as test examples.  "
   ]
  },
  {
   "cell_type": "code",
   "execution_count": 4,
   "metadata": {},
   "outputs": [],
   "source": [
    "cv = ShuffleSplit(n_splits=10, test_size=0.2, random_state=42)"
   ]
  },
  {
   "cell_type": "markdown",
   "metadata": {},
   "source": [
    "Let's download the data and split into training and test sets.  "
   ]
  },
  {
   "cell_type": "code",
   "execution_count": 6,
   "metadata": {},
   "outputs": [],
   "source": [
    "# fetch dataset\n",
    "features, labels = fetch_california_housing(as_frame=True, return_X_y=True)\n",
    "labels *= 100\n",
    "\n",
    "# train-test split\n",
    "com_train_features, test_features, com_train_labels, test_labels = train_test_split(\n",
    "    features, labels, random_state=42)\n",
    "\n",
    "# train --> train + devs split\n",
    "train_features, dev_features, train_labels, dev_labels = train_test_split(\n",
    "    com_train_features, com_train_labels, random_state=42)"
   ]
  },
  {
   "cell_type": "markdown",
   "metadata": {},
   "source": [
    "### Training different regressors"
   ]
  },
  {
   "cell_type": "code",
   "execution_count": 10,
   "metadata": {},
   "outputs": [],
   "source": [
    "def train_regressor(estimator, X_train, y_train, cv, name):\n",
    "    cv_results = cross_validate(estimator,\n",
    "                                X_train,\n",
    "                                y_train,\n",
    "                                cv=cv,\n",
    "                                scoring='neg_mean_absolute_error',\n",
    "                                return_train_score=True,\n",
    "                                return_estimator=True)\n",
    "    cv_train_error = -1 * cv_results['train_score']\n",
    "    cv_test_error = -1 * cv_results['test_score']\n",
    "\n",
    "    print(f\"On an average, {name} makes an error of \"\n",
    "            f\"{cv_train_error.mean():.3f}k +/- {cv_train_error.std():.3f}k on the training set.\")\n",
    "    print(f\"On an average, {name} makes an error of \"\n",
    "            f\"{cv_test_error.mean():.3f}k +/- {cv_test_error.std():.3f}k on the test set.\")"
   ]
  },
  {
   "cell_type": "markdown",
   "metadata": {},
   "source": [
    "### Decision Tree regressor  "
   ]
  },
  {
   "cell_type": "code",
   "execution_count": 16,
   "metadata": {},
   "outputs": [
    {
     "name": "stdout",
     "output_type": "stream",
     "text": [
      "On an average, decision tree regressor makes an error of 0.000k +/- 0.000k on the training set.\n",
      "On an average, decision tree regressor makes an error of 47.357k +/- 1.074k on the test set.\n"
     ]
    }
   ],
   "source": [
    "#@title Decision Tree Regressor\n",
    "train_regressor(\n",
    "    DecisionTreeRegressor(), com_train_features, com_train_labels, \n",
    "    cv, 'decision tree regressor')"
   ]
  },
  {
   "cell_type": "markdown",
   "metadata": {},
   "source": [
    "## Bagging Regressor  "
   ]
  },
  {
   "cell_type": "code",
   "execution_count": 15,
   "metadata": {},
   "outputs": [
    {
     "name": "stdout",
     "output_type": "stream",
     "text": [
      "On an average, bagging regressor makes an error of 14.422k +/- 0.204k on the training set.\n",
      "On an average, bagging regressor makes an error of 35.362k +/- 0.963k on the test set.\n"
     ]
    }
   ],
   "source": [
    "#@title Bagging Regressor  \n",
    "train_regressor(\n",
    "    BaggingRegressor(), com_train_features, com_train_labels, \n",
    "    cv, 'bagging regressor')\n"
   ]
  },
  {
   "cell_type": "markdown",
   "metadata": {},
   "source": [
    "## Random Forest Regressor  "
   ]
  },
  {
   "cell_type": "code",
   "execution_count": 14,
   "metadata": {},
   "outputs": [
    {
     "name": "stdout",
     "output_type": "stream",
     "text": [
      "On an average, random forest regressor makes an error of 12.640k +/- 0.070k on the training set.\n",
      "On an average, random forest regressor makes an error of 33.192k +/- 0.714k on the test set.\n"
     ]
    }
   ],
   "source": [
    "#@title Random Forest Regressor  \n",
    "train_regressor(\n",
    "    RandomForestRegressor(), com_train_features, com_train_labels, \n",
    "    cv, 'random forest regressor')"
   ]
  },
  {
   "cell_type": "markdown",
   "metadata": {},
   "source": [
    "## Parameter search for random forest regressor  "
   ]
  },
  {
   "cell_type": "code",
   "execution_count": 19,
   "metadata": {},
   "outputs": [
    {
     "data": {
      "text/html": [
       "<div>\n",
       "<style scoped>\n",
       "    .dataframe tbody tr th:only-of-type {\n",
       "        vertical-align: middle;\n",
       "    }\n",
       "\n",
       "    .dataframe tbody tr th {\n",
       "        vertical-align: top;\n",
       "    }\n",
       "\n",
       "    .dataframe thead th {\n",
       "        text-align: right;\n",
       "    }\n",
       "</style>\n",
       "<table border=\"1\" class=\"dataframe\">\n",
       "  <thead>\n",
       "    <tr style=\"text-align: right;\">\n",
       "      <th></th>\n",
       "      <th>param_n_estimators</th>\n",
       "      <th>param_max_leaf_nodes</th>\n",
       "      <th>mean_test_error</th>\n",
       "      <th>std_test_error</th>\n",
       "    </tr>\n",
       "  </thead>\n",
       "  <tbody>\n",
       "    <tr>\n",
       "      <th>0</th>\n",
       "      <td>500</td>\n",
       "      <td>100</td>\n",
       "      <td>40.627965</td>\n",
       "      <td>0.730054</td>\n",
       "    </tr>\n",
       "    <tr>\n",
       "      <th>2</th>\n",
       "      <td>10</td>\n",
       "      <td>100</td>\n",
       "      <td>41.293541</td>\n",
       "      <td>0.746108</td>\n",
       "    </tr>\n",
       "    <tr>\n",
       "      <th>7</th>\n",
       "      <td>100</td>\n",
       "      <td>50</td>\n",
       "      <td>44.000227</td>\n",
       "      <td>0.776104</td>\n",
       "    </tr>\n",
       "    <tr>\n",
       "      <th>8</th>\n",
       "      <td>1</td>\n",
       "      <td>100</td>\n",
       "      <td>47.350780</td>\n",
       "      <td>0.965162</td>\n",
       "    </tr>\n",
       "    <tr>\n",
       "      <th>6</th>\n",
       "      <td>50</td>\n",
       "      <td>20</td>\n",
       "      <td>49.510499</td>\n",
       "      <td>1.142994</td>\n",
       "    </tr>\n",
       "    <tr>\n",
       "      <th>1</th>\n",
       "      <td>100</td>\n",
       "      <td>20</td>\n",
       "      <td>49.570059</td>\n",
       "      <td>1.091609</td>\n",
       "    </tr>\n",
       "    <tr>\n",
       "      <th>9</th>\n",
       "      <td>10</td>\n",
       "      <td>20</td>\n",
       "      <td>50.269445</td>\n",
       "      <td>1.320338</td>\n",
       "    </tr>\n",
       "    <tr>\n",
       "      <th>3</th>\n",
       "      <td>500</td>\n",
       "      <td>10</td>\n",
       "      <td>55.014675</td>\n",
       "      <td>1.108801</td>\n",
       "    </tr>\n",
       "    <tr>\n",
       "      <th>4</th>\n",
       "      <td>5</td>\n",
       "      <td>5</td>\n",
       "      <td>61.267048</td>\n",
       "      <td>1.088230</td>\n",
       "    </tr>\n",
       "    <tr>\n",
       "      <th>5</th>\n",
       "      <td>5</td>\n",
       "      <td>2</td>\n",
       "      <td>73.169905</td>\n",
       "      <td>1.349971</td>\n",
       "    </tr>\n",
       "  </tbody>\n",
       "</table>\n",
       "</div>"
      ],
      "text/plain": [
       "  param_n_estimators param_max_leaf_nodes  mean_test_error  std_test_error\n",
       "0                500                  100        40.627965        0.730054\n",
       "2                 10                  100        41.293541        0.746108\n",
       "7                100                   50        44.000227        0.776104\n",
       "8                  1                  100        47.350780        0.965162\n",
       "6                 50                   20        49.510499        1.142994\n",
       "1                100                   20        49.570059        1.091609\n",
       "9                 10                   20        50.269445        1.320338\n",
       "3                500                   10        55.014675        1.108801\n",
       "4                  5                    5        61.267048        1.088230\n",
       "5                  5                    2        73.169905        1.349971"
      ]
     },
     "execution_count": 19,
     "metadata": {},
     "output_type": "execute_result"
    }
   ],
   "source": [
    "param_distributions = {\n",
    "    'n_estimators': [1, 2, 5, 10, 20, 50, 100, 200, 500],\n",
    "    'max_leaf_nodes': [2, 5, 10, 20, 50, 100],\n",
    "}\n",
    "\n",
    "search_cv = RandomizedSearchCV(\n",
    "    RandomForestRegressor(n_jobs = 2), param_distributions=param_distributions,\n",
    "    scoring='neg_mean_absolute_error', n_iter=10, random_state=0, n_jobs=2,\n",
    ")\n",
    "search_cv.fit(com_train_features, com_train_labels)\n",
    "\n",
    "columns = [f\"param_{name}\" for name in param_distributions.keys()]\n",
    "columns += ['mean_test_error', 'std_test_error']\n",
    "cv_results = pd.DataFrame(search_cv.cv_results_)\n",
    "cv_results['mean_test_error'] = -cv_results['mean_test_score']\n",
    "cv_results['std_test_error'] = cv_results['std_test_score']\n",
    "cv_results[columns].sort_values(by='mean_test_error')\n"
   ]
  },
  {
   "cell_type": "code",
   "execution_count": 20,
   "metadata": {},
   "outputs": [
    {
     "name": "stdout",
     "output_type": "stream",
     "text": [
      "On an average, our random forest regressor makes an error of 40.31 k$\n"
     ]
    }
   ],
   "source": [
    "error = -search_cv.score(test_features, test_labels)\n",
    "print(f\"On an average, our random forest regressor makes an error of {error:.2f} k$\")"
   ]
  }
 ],
 "metadata": {
  "kernelspec": {
   "display_name": "Python 3.9.12 ('tf')",
   "language": "python",
   "name": "python3"
  },
  "language_info": {
   "codemirror_mode": {
    "name": "ipython",
    "version": 3
   },
   "file_extension": ".py",
   "mimetype": "text/x-python",
   "name": "python",
   "nbconvert_exporter": "python",
   "pygments_lexer": "ipython3",
   "version": "3.9.12"
  },
  "orig_nbformat": 4,
  "vscode": {
   "interpreter": {
    "hash": "78ddfc3686b8b7161f2836984651df038ec9a0366954334fc42499f59ad2b3c8"
   }
  }
 },
 "nbformat": 4,
 "nbformat_minor": 2
}
