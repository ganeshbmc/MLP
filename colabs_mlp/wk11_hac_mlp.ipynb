{
 "cells": [
  {
   "cell_type": "markdown",
   "metadata": {},
   "source": [
    "# Hierarchical Agglomerative clustering (HAC)  "
   ]
  },
  {
   "cell_type": "markdown",
   "metadata": {},
   "source": [
    "**Note**:  \n",
    "This material is not covered in the lecture slides. Do watch the [**video**](https://youtu.be/GG6yYMO91FQ)!  "
   ]
  },
  {
   "cell_type": "markdown",
   "metadata": {},
   "source": [
    "**[Hierarchical clustering](https://youtu.be/GG6yYMO91FQ?t=68)**  \n",
    "\n",
    "* Top-down approach  \n",
    "* Bottom-up approach  "
   ]
  },
  {
   "cell_type": "markdown",
   "metadata": {},
   "source": [
    "**[Metric](https://youtu.be/GG6yYMO91FQ?t=107)**  \n",
    "\n",
    "Generalization of concept of distance.  \n",
    "* Properties of a metric:  \n",
    "  1. Non-negative  \n",
    "  2. Symmetric  \n",
    "  3. Obeys triangle inequality   \n",
    "<br>\n",
    "* Some of the popular metric functions are:  \n",
    "  1. Euclidean  \n",
    "  2. Manhattan  \n",
    "  3. Cosine distance  "
   ]
  },
  {
   "cell_type": "markdown",
   "metadata": {},
   "source": [
    "**[Linkage](https://youtu.be/GG6yYMO91FQ?t=160)**  \n",
    "\n",
    "Linkage is a strategy for aggregating clusters.  \n",
    "\n",
    "* Four linkages will be studied:  \n",
    "  1. Single linkage  \n",
    "  2. Average linkage  \n",
    "  3. Complete linkage  \n",
    "  4. Ward's linkage  "
   ]
  },
  {
   "cell_type": "markdown",
   "metadata": {},
   "source": [
    "## HAC algorithm  "
   ]
  },
  {
   "cell_type": "markdown",
   "metadata": {},
   "source": [
    "[**Algorithm**](https://youtu.be/GG6yYMO91FQ?t=218):  \n",
    "\n",
    "1. Calculate the distance matrix betweem pairs of clusters.  \n",
    "2. While all the objects are clustered into one:  \n",
    "   1. Detect two closest groups (clusters) and merge them.  "
   ]
  },
  {
   "cell_type": "markdown",
   "metadata": {},
   "source": [
    "[**Dendrogram**](https://youtu.be/GG6yYMO91FQ?t=247)  \n",
    "\n",
    "Dendrograms are a graphical representation of the agglomerative process which show how a aggregation happens at each level. Let's take an example of a toy dataset to understand this.  "
   ]
  },
  {
   "cell_type": "code",
   "execution_count": 1,
   "metadata": {},
   "outputs": [],
   "source": [
    "import numpy as np\n",
    "import matplotlib.pyplot as plt\n",
    "from sklearn.preprocessing import normalize"
   ]
  },
  {
   "cell_type": "code",
   "execution_count": 2,
   "metadata": {},
   "outputs": [
    {
     "data": {
      "image/png": "[encoded data removed]",
      "text/plain": [
       "<Figure size 432x288 with 1 Axes>"
      ]
     },
     "metadata": {
      "needs_background": "light"
     },
     "output_type": "display_data"
    }
   ],
   "source": [
    "X = np.array([(8,3), (5,3), (6,4), (1,6), (2,8)])\n",
    "scaled_X = normalize(X)\n",
    "plt.scatter(X[:, 0], X[:, 1])\n",
    "plt.show()"
   ]
  },
  {
   "cell_type": "code",
   "execution_count": null,
   "metadata": {},
   "outputs": [],
   "source": [
    "?normalize"
   ]
  },
  {
   "cell_type": "markdown",
   "metadata": {},
   "source": [
    "Let's plot the dendrogram with `scipy.cluster.hierarchy` library.  "
   ]
  },
  {
   "cell_type": "code",
   "execution_count": 4,
   "metadata": {},
   "outputs": [
    {
     "data": {
      "image/png": "[encoded data removed]",
      "text/plain": [
       "<Figure size 576x576 with 1 Axes>"
      ]
     },
     "metadata": {
      "needs_background": "light"
     },
     "output_type": "display_data"
    }
   ],
   "source": [
    "import scipy.cluster.hierarchy as shc\n",
    "plt.figure(figsize=(8, 8))\n",
    "plt.title(\"Dendrogram\")\n",
    "dend = shc.dendrogram(shc.linkage(scaled_X, method='ward'))"
   ]
  },
  {
   "cell_type": "markdown",
   "metadata": {},
   "source": [
    "HAC is implemented in `sklearn.cluster` module as `AgglomerativeClustering` class.  "
   ]
  },
  {
   "cell_type": "code",
   "execution_count": 5,
   "metadata": {},
   "outputs": [
    {
     "name": "stdout",
     "output_type": "stream",
     "text": [
      "\u001b[1;31mInit signature:\u001b[0m\n",
      "\u001b[0mAgglomerativeClustering\u001b[0m\u001b[1;33m(\u001b[0m\u001b[1;33m\n",
      "\u001b[0m    \u001b[0mn_clusters\u001b[0m\u001b[1;33m=\u001b[0m\u001b[1;36m2\u001b[0m\u001b[1;33m,\u001b[0m\u001b[1;33m\n",
      "\u001b[0m    \u001b[1;33m*\u001b[0m\u001b[1;33m,\u001b[0m\u001b[1;33m\n",
      "\u001b[0m    \u001b[0maffinity\u001b[0m\u001b[1;33m=\u001b[0m\u001b[1;34m'euclidean'\u001b[0m\u001b[1;33m,\u001b[0m\u001b[1;33m\n",
      "\u001b[0m    \u001b[0mmemory\u001b[0m\u001b[1;33m=\u001b[0m\u001b[1;32mNone\u001b[0m\u001b[1;33m,\u001b[0m\u001b[1;33m\n",
      "\u001b[0m    \u001b[0mconnectivity\u001b[0m\u001b[1;33m=\u001b[0m\u001b[1;32mNone\u001b[0m\u001b[1;33m,\u001b[0m\u001b[1;33m\n",
      "\u001b[0m    \u001b[0mcompute_full_tree\u001b[0m\u001b[1;33m=\u001b[0m\u001b[1;34m'auto'\u001b[0m\u001b[1;33m,\u001b[0m\u001b[1;33m\n",
      "\u001b[0m    \u001b[0mlinkage\u001b[0m\u001b[1;33m=\u001b[0m\u001b[1;34m'ward'\u001b[0m\u001b[1;33m,\u001b[0m\u001b[1;33m\n",
      "\u001b[0m    \u001b[0mdistance_threshold\u001b[0m\u001b[1;33m=\u001b[0m\u001b[1;32mNone\u001b[0m\u001b[1;33m,\u001b[0m\u001b[1;33m\n",
      "\u001b[0m    \u001b[0mcompute_distances\u001b[0m\u001b[1;33m=\u001b[0m\u001b[1;32mFalse\u001b[0m\u001b[1;33m,\u001b[0m\u001b[1;33m\n",
      "\u001b[0m\u001b[1;33m)\u001b[0m\u001b[1;33m\u001b[0m\u001b[1;33m\u001b[0m\u001b[0m\n",
      "\u001b[1;31mDocstring:\u001b[0m     \n",
      "Agglomerative Clustering.\n",
      "\n",
      "Recursively merges pair of clusters of sample data; uses linkage distance.\n",
      "\n",
      "Read more in the :ref:`User Guide <hierarchical_clustering>`.\n",
      "\n",
      "Parameters\n",
      "----------\n",
      "n_clusters : int or None, default=2\n",
      "    The number of clusters to find. It must be ``None`` if\n",
      "    ``distance_threshold`` is not ``None``.\n",
      "\n",
      "affinity : str or callable, default='euclidean'\n",
      "    Metric used to compute the linkage. Can be \"euclidean\", \"l1\", \"l2\",\n",
      "    \"manhattan\", \"cosine\", or \"precomputed\".\n",
      "    If linkage is \"ward\", only \"euclidean\" is accepted.\n",
      "    If \"precomputed\", a distance matrix (instead of a similarity matrix)\n",
      "    is needed as input for the fit method.\n",
      "\n",
      "memory : str or object with the joblib.Memory interface, default=None\n",
      "    Used to cache the output of the computation of the tree.\n",
      "    By default, no caching is done. If a string is given, it is the\n",
      "    path to the caching directory.\n",
      "\n",
      "connectivity : array-like or callable, default=None\n",
      "    Connectivity matrix. Defines for each sample the neighboring\n",
      "    samples following a given structure of the data.\n",
      "    This can be a connectivity matrix itself or a callable that transforms\n",
      "    the data into a connectivity matrix, such as derived from\n",
      "    `kneighbors_graph`. Default is ``None``, i.e, the\n",
      "    hierarchical clustering algorithm is unstructured.\n",
      "\n",
      "compute_full_tree : 'auto' or bool, default='auto'\n",
      "    Stop early the construction of the tree at ``n_clusters``. This is\n",
      "    useful to decrease computation time if the number of clusters is not\n",
      "    small compared to the number of samples. This option is useful only\n",
      "    when specifying a connectivity matrix. Note also that when varying the\n",
      "    number of clusters and using caching, it may be advantageous to compute\n",
      "    the full tree. It must be ``True`` if ``distance_threshold`` is not\n",
      "    ``None``. By default `compute_full_tree` is \"auto\", which is equivalent\n",
      "    to `True` when `distance_threshold` is not `None` or that `n_clusters`\n",
      "    is inferior to the maximum between 100 or `0.02 * n_samples`.\n",
      "    Otherwise, \"auto\" is equivalent to `False`.\n",
      "\n",
      "linkage : {'ward', 'complete', 'average', 'single'}, default='ward'\n",
      "    Which linkage criterion to use. The linkage criterion determines which\n",
      "    distance to use between sets of observation. The algorithm will merge\n",
      "    the pairs of cluster that minimize this criterion.\n",
      "\n",
      "    - 'ward' minimizes the variance of the clusters being merged.\n",
      "    - 'average' uses the average of the distances of each observation of\n",
      "      the two sets.\n",
      "    - 'complete' or 'maximum' linkage uses the maximum distances between\n",
      "      all observations of the two sets.\n",
      "    - 'single' uses the minimum of the distances between all observations\n",
      "      of the two sets.\n",
      "\n",
      "    .. versionadded:: 0.20\n",
      "        Added the 'single' option\n",
      "\n",
      "distance_threshold : float, default=None\n",
      "    The linkage distance threshold above which, clusters will not be\n",
      "    merged. If not ``None``, ``n_clusters`` must be ``None`` and\n",
      "    ``compute_full_tree`` must be ``True``.\n",
      "\n",
      "    .. versionadded:: 0.21\n",
      "\n",
      "compute_distances : bool, default=False\n",
      "    Computes distances between clusters even if `distance_threshold` is not\n",
      "    used. This can be used to make dendrogram visualization, but introduces\n",
      "    a computational and memory overhead.\n",
      "\n",
      "    .. versionadded:: 0.24\n",
      "\n",
      "Attributes\n",
      "----------\n",
      "n_clusters_ : int\n",
      "    The number of clusters found by the algorithm. If\n",
      "    ``distance_threshold=None``, it will be equal to the given\n",
      "    ``n_clusters``.\n",
      "\n",
      "labels_ : ndarray of shape (n_samples)\n",
      "    Cluster labels for each point.\n",
      "\n",
      "n_leaves_ : int\n",
      "    Number of leaves in the hierarchical tree.\n",
      "\n",
      "n_connected_components_ : int\n",
      "    The estimated number of connected components in the graph.\n",
      "\n",
      "    .. versionadded:: 0.21\n",
      "        ``n_connected_components_`` was added to replace ``n_components_``.\n",
      "\n",
      "n_features_in_ : int\n",
      "    Number of features seen during :term:`fit`.\n",
      "\n",
      "    .. versionadded:: 0.24\n",
      "\n",
      "feature_names_in_ : ndarray of shape (`n_features_in_`,)\n",
      "    Names of features seen during :term:`fit`. Defined only when `X`\n",
      "    has feature names that are all strings.\n",
      "\n",
      "    .. versionadded:: 1.0\n",
      "\n",
      "children_ : array-like of shape (n_samples-1, 2)\n",
      "    The children of each non-leaf node. Values less than `n_samples`\n",
      "    correspond to leaves of the tree which are the original samples.\n",
      "    A node `i` greater than or equal to `n_samples` is a non-leaf\n",
      "    node and has children `children_[i - n_samples]`. Alternatively\n",
      "    at the i-th iteration, children[i][0] and children[i][1]\n",
      "    are merged to form node `n_samples + i`.\n",
      "\n",
      "distances_ : array-like of shape (n_nodes-1,)\n",
      "    Distances between nodes in the corresponding place in `children_`.\n",
      "    Only computed if `distance_threshold` is used or `compute_distances`\n",
      "    is set to `True`.\n",
      "\n",
      "See Also\n",
      "--------\n",
      "FeatureAgglomeration : Agglomerative clustering but for features instead of\n",
      "    samples.\n",
      "ward_tree : Hierarchical clustering with ward linkage.\n",
      "\n",
      "Examples\n",
      "--------\n",
      ">>> from sklearn.cluster import AgglomerativeClustering\n",
      ">>> import numpy as np\n",
      ">>> X = np.array([[1, 2], [1, 4], [1, 0],\n",
      "...               [4, 2], [4, 4], [4, 0]])\n",
      ">>> clustering = AgglomerativeClustering().fit(X)\n",
      ">>> clustering\n",
      "AgglomerativeClustering()\n",
      ">>> clustering.labels_\n",
      "array([1, 1, 1, 0, 0, 0])\n",
      "\u001b[1;31mFile:\u001b[0m           c:\\programdata\\anaconda3\\envs\\tf\\lib\\site-packages\\sklearn\\cluster\\_agglomerative.py\n",
      "\u001b[1;31mType:\u001b[0m           type\n",
      "\u001b[1;31mSubclasses:\u001b[0m     FeatureAgglomeration\n"
     ]
    }
   ],
   "source": [
    "from sklearn.cluster import AgglomerativeClustering\n",
    "?AgglomerativeClustering"
   ]
  }
 ],
 "metadata": {
  "kernelspec": {
   "display_name": "Python 3.9.12 ('tf')",
   "language": "python",
   "name": "python3"
  },
  "language_info": {
   "codemirror_mode": {
    "name": "ipython",
    "version": 3
   },
   "file_extension": ".py",
   "mimetype": "text/x-python",
   "name": "python",
   "nbconvert_exporter": "python",
   "pygments_lexer": "ipython3",
   "version": "3.9.12"
  },
  "orig_nbformat": 4,
  "vscode": {
   "interpreter": {
    "hash": "78ddfc3686b8b7161f2836984651df038ec9a0366954334fc42499f59ad2b3c8"
   }
  }
 },
 "nbformat": 4,
 "nbformat_minor": 2
}
