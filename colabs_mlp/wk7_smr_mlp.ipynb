{
  "cells": [
    {
      "cell_type": "markdown",
      "metadata": {
        "id": "view-in-github",
        "colab_type": "text"
      },
      "source": [
        "<a href=\"https://colab.research.google.com/github/ganeshbmc/MLP/blob/main/colabs_mlp/wk7_smr_mlp.ipynb\" target=\"_parent\"><img src=\"https://colab.research.google.com/assets/colab-badge.svg\" alt=\"Open In Colab\"/></a>"
      ]
    },
    {
      "cell_type": "markdown",
      "metadata": {
        "id": "QmzRfo0c4_li"
      },
      "source": [
        "# Softmax regression classifier  "
      ]
    },
    {
      "cell_type": "markdown",
      "metadata": {
        "id": "xfLJLGCW4_lm"
      },
      "source": [
        "## Overview  \n",
        "\n",
        "We make use of MNIST dataset for multiclass classification of images into digits they represent.  "
      ]
    },
    {
      "cell_type": "markdown",
      "metadata": {
        "id": "wUAmeyVv4_ln"
      },
      "source": [
        "## Imports  "
      ]
    },
    {
      "cell_type": "code",
      "execution_count": null,
      "metadata": {
        "id": "BGThGKoz4_lo"
      },
      "outputs": [],
      "source": [
        "# Common imports\n",
        "import numpy as np\n",
        "from pprint import pprint\n",
        "\n",
        "# to make this notebook's output stable across runs\n",
        "np.random.seed(42)\n",
        "\n",
        "# sklearn specific imports\n",
        "# Data fetching  \n",
        "from sklearn.datasets import fetch_openml\n",
        "\n",
        "# Feature scaling\n",
        "from sklearn.preprocessing import StandardScaler\n",
        "\n",
        "# Pipeline utility  \n",
        "from sklearn.pipeline import Pipeline\n",
        "\n",
        "# Classifiers: logistic regression (LogisticRegression)\n",
        "from sklearn.linear_model import LogisticRegression, LogisticRegressionCV\n",
        "\n",
        "# Evaluation metrics\n",
        "from sklearn.metrics import ConfusionMatrixDisplay\n",
        "from sklearn.metrics import classification_report\n",
        "from sklearn.metrics import f1_score\n",
        "from sklearn.metrics import make_scorer\n",
        "\n",
        "# To plot pretty figures\n",
        "%matplotlib inline\n",
        "import matplotlib as mpl\n",
        "import matplotlib.pyplot as plt\n",
        "import seaborn as sns\n",
        "\n",
        "# global settings\n",
        "mpl.rc('axes', labelsize=14)\n",
        "mpl.rc('xtick', labelsize=12)\n",
        "mpl.rc('ytick', labelsize=12)\n",
        "mpl.rc('figure', figsize=(8,6))"
      ]
    },
    {
      "cell_type": "markdown",
      "metadata": {
        "id": "cObNEy3x4_lq"
      },
      "source": [
        "## Data loading  \n",
        "\n",
        "Load MNIST dataset for handwritten digit recognition from OpenML  "
      ]
    },
    {
      "cell_type": "code",
      "execution_count": null,
      "metadata": {
        "id": "6SYJ7mMF4_lr"
      },
      "outputs": [],
      "source": [
        "X, y = fetch_openml('mnist_784', version=1, return_X_y=True)\n",
        "X = X.to_numpy()\n",
        "y = y.to_numpy()"
      ]
    },
    {
      "cell_type": "code",
      "execution_count": null,
      "metadata": {
        "id": "uMcBt0ct4_ls"
      },
      "outputs": [],
      "source": [
        "## Training-test split\n",
        "x_train, x_test, y_train, y_test = X[:60000], X[60000:], y[:60000], y[60000:]"
      ]
    },
    {
      "cell_type": "markdown",
      "metadata": {
        "id": "vbPdJgfo4_ls"
      },
      "source": [
        "## Model building  \n",
        "\n",
        "We scale the input features with `StandardScaler` and `LogisticRegression` estimator with `multi_class` parameter set to `multinomial` and using `sag` solver."
      ]
    },
    {
      "cell_type": "code",
      "execution_count": null,
      "metadata": {
        "id": "iLNJ_0MZ4_lt",
        "outputId": "34fc7113-49f4-4abe-9065-532a932a05a6"
      },
      "outputs": [
        {
          "name": "stderr",
          "output_type": "stream",
          "text": [
            "/home/ganesh/anaconda3/lib/python3.9/site-packages/sklearn/linear_model/_sag.py:328: ConvergenceWarning: The max_iter was reached which means the coef_ did not converge\n",
            "  warnings.warn(\"The max_iter was reached which means \"\n"
          ]
        },
        {
          "data": {
            "text/plain": [
              "Pipeline(steps=[('scaler', StandardScaler()),\n",
              "                ('logreg',\n",
              "                 LogisticRegression(multi_class='multinomial', solver='sag'))])"
            ]
          },
          "execution_count": 7,
          "metadata": {},
          "output_type": "execute_result"
        }
      ],
      "source": [
        "pipe = Pipeline(steps=[('scaler', StandardScaler()),\n",
        "                        ('logreg', LogisticRegression(multi_class='multinomial',\n",
        "                                                        solver='sag'))])\n",
        "pipe.fit(x_train, y_train)"
      ]
    },
    {
      "cell_type": "markdown",
      "metadata": {
        "id": "EpUk6M1q4_lu"
      },
      "source": [
        "After training the model with the training feature matrix and labels, we learn model parameters.  "
      ]
    },
    {
      "cell_type": "code",
      "execution_count": null,
      "metadata": {
        "id": "e3VGPbYw4_lu",
        "outputId": "6cdbd77c-797e-486a-e9a0-6ed5207798ff"
      },
      "outputs": [
        {
          "data": {
            "text/plain": [
              "(10, 784)"
            ]
          },
          "execution_count": 8,
          "metadata": {},
          "output_type": "execute_result"
        }
      ],
      "source": [
        "pipe[-1].coef_.shape"
      ]
    },
    {
      "cell_type": "code",
      "execution_count": null,
      "metadata": {
        "id": "PRaiZSHr4_lv",
        "outputId": "5ff74c18-5e12-4021-a33d-4c22f3eb4343"
      },
      "outputs": [
        {
          "data": {
            "text/plain": [
              "(10,)"
            ]
          },
          "execution_count": 9,
          "metadata": {},
          "output_type": "execute_result"
        }
      ],
      "source": [
        "pipe[-1].intercept_.shape"
      ]
    },
    {
      "cell_type": "code",
      "execution_count": null,
      "metadata": {
        "id": "ivILHJK14_lv",
        "outputId": "6582227e-6044-434e-affc-7433599b878b"
      },
      "outputs": [
        {
          "data": {
            "text/plain": [
              "array(['0', '1', '2', '3', '4', '5', '6', '7', '8', '9'], dtype=object)"
            ]
          },
          "execution_count": 10,
          "metadata": {},
          "output_type": "execute_result"
        }
      ],
      "source": [
        "pipe[-1].classes_"
      ]
    },
    {
      "cell_type": "markdown",
      "metadata": {
        "id": "7bHMFbmy4_lw"
      },
      "source": [
        "## Model evaluation  \n",
        "\n",
        "Let's get a classification report on the TEST set and also display the confusion matrix.  "
      ]
    },
    {
      "cell_type": "code",
      "execution_count": null,
      "metadata": {
        "id": "kFFG9qqn4_lw",
        "outputId": "490a6f8b-3269-4675-e0d3-5b5580c79b38"
      },
      "outputs": [
        {
          "name": "stdout",
          "output_type": "stream",
          "text": [
            "              precision    recall  f1-score   support\n",
            "\n",
            "           0       0.95      0.98      0.97       980\n",
            "           1       0.96      0.98      0.97      1135\n",
            "           2       0.94      0.90      0.92      1032\n",
            "           3       0.91      0.91      0.91      1010\n",
            "           4       0.92      0.94      0.93       982\n",
            "           5       0.91      0.87      0.89       892\n",
            "           6       0.93      0.95      0.94       958\n",
            "           7       0.92      0.93      0.92      1028\n",
            "           8       0.88      0.88      0.88       974\n",
            "           9       0.91      0.91      0.91      1009\n",
            "\n",
            "    accuracy                           0.92     10000\n",
            "   macro avg       0.92      0.92      0.92     10000\n",
            "weighted avg       0.92      0.92      0.92     10000\n",
            "\n"
          ]
        }
      ],
      "source": [
        "print(classification_report(y_test, pipe.predict(x_test)))"
      ]
    },
    {
      "cell_type": "markdown",
      "metadata": {
        "id": "1a2aVJWd4_lw"
      },
      "source": [
        "Most of the classes have f1_score greater than 90% which is considered to be a good f1-score.  "
      ]
    },
    {
      "cell_type": "code",
      "execution_count": null,
      "metadata": {
        "id": "NERdwiL54_lw",
        "outputId": "4e900c1b-c5ef-4212-a6d2-8ac1e3b3f2e3"
      },
      "outputs": [
        {
          "ename": "AttributeError",
          "evalue": "type object 'ConfusionMatrixDisplay' has no attribute 'from_estimator'",
          "output_type": "error",
          "traceback": [
            "\u001b[0;31m---------------------------------------------------------------------------\u001b[0m",
            "\u001b[0;31mAttributeError\u001b[0m                            Traceback (most recent call last)",
            "\u001b[0;32m/tmp/ipykernel_21197/2850961623.py\u001b[0m in \u001b[0;36m<module>\u001b[0;34m\u001b[0m\n\u001b[0;32m----> 1\u001b[0;31m \u001b[0mConfusionMatrixDisplay\u001b[0m\u001b[0;34m.\u001b[0m\u001b[0mfrom_estimator\u001b[0m\u001b[0;34m(\u001b[0m\u001b[0mpipe\u001b[0m\u001b[0;34m,\u001b[0m \u001b[0mx_test\u001b[0m\u001b[0;34m,\u001b[0m \u001b[0my_test\u001b[0m\u001b[0;34m)\u001b[0m\u001b[0;34m\u001b[0m\u001b[0;34m\u001b[0m\u001b[0m\n\u001b[0m\u001b[1;32m      2\u001b[0m \u001b[0mplt\u001b[0m\u001b[0;34m.\u001b[0m\u001b[0mshow\u001b[0m\u001b[0;34m(\u001b[0m\u001b[0;34m)\u001b[0m\u001b[0;34m\u001b[0m\u001b[0;34m\u001b[0m\u001b[0m\n",
            "\u001b[0;31mAttributeError\u001b[0m: type object 'ConfusionMatrixDisplay' has no attribute 'from_estimator'"
          ]
        }
      ],
      "source": [
        "ConfusionMatrixDisplay.from_estimator(pipe, x_test, y_test)\n",
        "plt.show()"
      ]
    },
    {
      "cell_type": "markdown",
      "metadata": {
        "id": "VW5uJ8rh4_lx"
      },
      "source": [
        "## Exercise  \n",
        "\n",
        "Use LogisticRegressionCV "
      ]
    },
    {
      "cell_type": "code",
      "execution_count": null,
      "metadata": {
        "id": "JOrG-CLd4_lx",
        "outputId": "effc4ff3-bb47-4eab-f33d-34a4bf956b9f"
      },
      "outputs": [
        {
          "name": "stderr",
          "output_type": "stream",
          "text": [
            "/home/ganesh/anaconda3/lib/python3.9/site-packages/sklearn/linear_model/_sag.py:328: ConvergenceWarning: The max_iter was reached which means the coef_ did not converge\n",
            "  warnings.warn(\"The max_iter was reached which means \"\n",
            "/home/ganesh/anaconda3/lib/python3.9/site-packages/sklearn/linear_model/_sag.py:328: ConvergenceWarning: The max_iter was reached which means the coef_ did not converge\n",
            "  warnings.warn(\"The max_iter was reached which means \"\n",
            "/home/ganesh/anaconda3/lib/python3.9/site-packages/sklearn/linear_model/_sag.py:328: ConvergenceWarning: The max_iter was reached which means the coef_ did not converge\n",
            "  warnings.warn(\"The max_iter was reached which means \"\n",
            "/home/ganesh/anaconda3/lib/python3.9/site-packages/sklearn/linear_model/_sag.py:328: ConvergenceWarning: The max_iter was reached which means the coef_ did not converge\n",
            "  warnings.warn(\"The max_iter was reached which means \"\n",
            "/home/ganesh/anaconda3/lib/python3.9/site-packages/sklearn/linear_model/_sag.py:328: ConvergenceWarning: The max_iter was reached which means the coef_ did not converge\n",
            "  warnings.warn(\"The max_iter was reached which means \"\n",
            "/home/ganesh/anaconda3/lib/python3.9/site-packages/sklearn/linear_model/_sag.py:328: ConvergenceWarning: The max_iter was reached which means the coef_ did not converge\n",
            "  warnings.warn(\"The max_iter was reached which means \"\n"
          ]
        }
      ],
      "source": [
        "from sklearn.metrics import make_scorer\n",
        "from sklearn.metrics import f1_score\n",
        "\n",
        "scorer = make_scorer(f1_score, average='micro')\n",
        "\n",
        "pipe_cv = Pipeline(steps=[('scaler', StandardScaler()),\n",
        "                        ('logreg', LogisticRegressionCV(\n",
        "                                                        cv=5, multi_class='multinomial', solver='sag',\n",
        "                                                        scoring=scorer, max_iter=100,\n",
        "                                                        random_state=1729)\n",
        "                        )])\n",
        "pipe_cv.fit(x_train, y_train)"
      ]
    },
    {
      "cell_type": "code",
      "execution_count": null,
      "metadata": {
        "id": "Ony2X0tz4_lx"
      },
      "outputs": [],
      "source": [
        "pipe[-1].C_"
      ]
    },
    {
      "cell_type": "code",
      "execution_count": null,
      "metadata": {
        "id": "ekTIuEoX4_ly"
      },
      "outputs": [],
      "source": [
        "pipe[-1].l1_ratio_"
      ]
    },
    {
      "cell_type": "code",
      "execution_count": null,
      "metadata": {
        "id": "VqZRxkHL4_ly"
      },
      "outputs": [],
      "source": [
        "print(classification_report(y_test, pipe.predict(x_test)))"
      ]
    },
    {
      "cell_type": "code",
      "execution_count": null,
      "metadata": {
        "id": "OcI7v9E84_ly"
      },
      "outputs": [],
      "source": [
        "ConfusionMatrixDisplay.from_estimator(pipe, x_test, y_test)\n",
        "plt.show()"
      ]
    }
  ],
  "metadata": {
    "kernelspec": {
      "display_name": "Python 3.9.7 ('base')",
      "language": "python",
      "name": "python3"
    },
    "language_info": {
      "codemirror_mode": {
        "name": "ipython",
        "version": 3
      },
      "file_extension": ".py",
      "mimetype": "text/x-python",
      "name": "python",
      "nbconvert_exporter": "python",
      "pygments_lexer": "ipython3",
      "version": "3.9.7"
    },
    "orig_nbformat": 4,
    "vscode": {
      "interpreter": {
        "hash": "a9fc4c7d055303a75ac6825ce3e810b1379669e9cb09d6b336d4c18851158a95"
      }
    },
    "colab": {
      "name": "wk7_smr_mlp.ipynb",
      "provenance": [],
      "include_colab_link": true
    }
  },
  "nbformat": 4,
  "nbformat_minor": 0
}