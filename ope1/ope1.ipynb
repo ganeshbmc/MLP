{
 "cells": [
  {
   "cell_type": "code",
   "execution_count": 22,
   "metadata": {},
   "outputs": [],
   "source": [
    "import pandas as pd\n",
    "import numpy as np\n",
    "import seaborn as sns\n",
    "import matplotlib.pyplot as plt"
   ]
  },
  {
   "cell_type": "code",
   "execution_count": 23,
   "metadata": {},
   "outputs": [
    {
     "data": {
      "text/html": [
       "<div>\n",
       "<style scoped>\n",
       "    .dataframe tbody tr th:only-of-type {\n",
       "        vertical-align: middle;\n",
       "    }\n",
       "\n",
       "    .dataframe tbody tr th {\n",
       "        vertical-align: top;\n",
       "    }\n",
       "\n",
       "    .dataframe thead th {\n",
       "        text-align: right;\n",
       "    }\n",
       "</style>\n",
       "<table border=\"1\" class=\"dataframe\">\n",
       "  <thead>\n",
       "    <tr style=\"text-align: right;\">\n",
       "      <th></th>\n",
       "      <th>Country</th>\n",
       "      <th>Status</th>\n",
       "      <th>Life_expectancy</th>\n",
       "      <th>Adult_Mortality</th>\n",
       "      <th>infant_deaths</th>\n",
       "      <th>Alcohol</th>\n",
       "      <th>percentage_expenditure</th>\n",
       "      <th>Hepatitis_B</th>\n",
       "      <th>Measles</th>\n",
       "      <th>BMI</th>\n",
       "      <th>under-five_deaths</th>\n",
       "      <th>Polio</th>\n",
       "      <th>Total_expenditure</th>\n",
       "      <th>Diphtheria</th>\n",
       "      <th>HIV_AIDS</th>\n",
       "      <th>GDP</th>\n",
       "      <th>Population</th>\n",
       "      <th>Income_composition_of_resources</th>\n",
       "      <th>Schooling</th>\n",
       "    </tr>\n",
       "  </thead>\n",
       "  <tbody>\n",
       "    <tr>\n",
       "      <th>0</th>\n",
       "      <td>Saint Vincent and the Grenadines</td>\n",
       "      <td>Developing</td>\n",
       "      <td>73.2</td>\n",
       "      <td>156.0</td>\n",
       "      <td>0</td>\n",
       "      <td>NaN</td>\n",
       "      <td>0.000000</td>\n",
       "      <td>98.0</td>\n",
       "      <td>0</td>\n",
       "      <td>54.1</td>\n",
       "      <td>0</td>\n",
       "      <td>97.0</td>\n",
       "      <td>NaN</td>\n",
       "      <td>98.0</td>\n",
       "      <td>0.1</td>\n",
       "      <td>NaN</td>\n",
       "      <td>NaN</td>\n",
       "      <td>0.720</td>\n",
       "      <td>13.3</td>\n",
       "    </tr>\n",
       "    <tr>\n",
       "      <th>1</th>\n",
       "      <td>Chile</td>\n",
       "      <td>Developing</td>\n",
       "      <td>77.3</td>\n",
       "      <td>13.0</td>\n",
       "      <td>2</td>\n",
       "      <td>6.24</td>\n",
       "      <td>74.148429</td>\n",
       "      <td>NaN</td>\n",
       "      <td>0</td>\n",
       "      <td>54.0</td>\n",
       "      <td>3</td>\n",
       "      <td>91.0</td>\n",
       "      <td>6.40</td>\n",
       "      <td>91.0</td>\n",
       "      <td>0.1</td>\n",
       "      <td>511.368479</td>\n",
       "      <td>15262754.0</td>\n",
       "      <td>0.755</td>\n",
       "      <td>13.5</td>\n",
       "    </tr>\n",
       "    <tr>\n",
       "      <th>2</th>\n",
       "      <td>Egypt</td>\n",
       "      <td>Developing</td>\n",
       "      <td>69.0</td>\n",
       "      <td>176.0</td>\n",
       "      <td>57</td>\n",
       "      <td>0.16</td>\n",
       "      <td>0.000000</td>\n",
       "      <td>97.0</td>\n",
       "      <td>80</td>\n",
       "      <td>52.9</td>\n",
       "      <td>70</td>\n",
       "      <td>97.0</td>\n",
       "      <td>5.21</td>\n",
       "      <td>97.0</td>\n",
       "      <td>0.1</td>\n",
       "      <td>NaN</td>\n",
       "      <td>NaN</td>\n",
       "      <td>0.623</td>\n",
       "      <td>11.2</td>\n",
       "    </tr>\n",
       "    <tr>\n",
       "      <th>3</th>\n",
       "      <td>Republic of Korea</td>\n",
       "      <td>Developing</td>\n",
       "      <td>81.2</td>\n",
       "      <td>69.0</td>\n",
       "      <td>1</td>\n",
       "      <td>9.56</td>\n",
       "      <td>0.000000</td>\n",
       "      <td>99.0</td>\n",
       "      <td>2</td>\n",
       "      <td>3.4</td>\n",
       "      <td>2</td>\n",
       "      <td>99.0</td>\n",
       "      <td>7.10</td>\n",
       "      <td>99.0</td>\n",
       "      <td>0.1</td>\n",
       "      <td>NaN</td>\n",
       "      <td>NaN</td>\n",
       "      <td>NaN</td>\n",
       "      <td>NaN</td>\n",
       "    </tr>\n",
       "    <tr>\n",
       "      <th>4</th>\n",
       "      <td>Costa Rica</td>\n",
       "      <td>Developing</td>\n",
       "      <td>78.1</td>\n",
       "      <td>16.0</td>\n",
       "      <td>1</td>\n",
       "      <td>3.58</td>\n",
       "      <td>2377.010299</td>\n",
       "      <td>89.0</td>\n",
       "      <td>0</td>\n",
       "      <td>55.5</td>\n",
       "      <td>1</td>\n",
       "      <td>93.0</td>\n",
       "      <td>9.66</td>\n",
       "      <td>88.0</td>\n",
       "      <td>0.1</td>\n",
       "      <td>8199.414621</td>\n",
       "      <td>454528.0</td>\n",
       "      <td>0.749</td>\n",
       "      <td>13.3</td>\n",
       "    </tr>\n",
       "  </tbody>\n",
       "</table>\n",
       "</div>"
      ],
      "text/plain": [
       "                            Country      Status  Life_expectancy  \\\n",
       "0  Saint Vincent and the Grenadines  Developing             73.2   \n",
       "1                             Chile  Developing             77.3   \n",
       "2                             Egypt  Developing             69.0   \n",
       "3                 Republic of Korea  Developing             81.2   \n",
       "4                        Costa Rica  Developing             78.1   \n",
       "\n",
       "   Adult_Mortality  infant_deaths  Alcohol  percentage_expenditure  \\\n",
       "0            156.0              0      NaN                0.000000   \n",
       "1             13.0              2     6.24               74.148429   \n",
       "2            176.0             57     0.16                0.000000   \n",
       "3             69.0              1     9.56                0.000000   \n",
       "4             16.0              1     3.58             2377.010299   \n",
       "\n",
       "   Hepatitis_B  Measles   BMI  under-five_deaths  Polio  Total_expenditure  \\\n",
       "0         98.0        0  54.1                  0   97.0                NaN   \n",
       "1          NaN        0  54.0                  3   91.0               6.40   \n",
       "2         97.0       80  52.9                 70   97.0               5.21   \n",
       "3         99.0        2   3.4                  2   99.0               7.10   \n",
       "4         89.0        0  55.5                  1   93.0               9.66   \n",
       "\n",
       "   Diphtheria  HIV_AIDS          GDP  Population  \\\n",
       "0        98.0       0.1          NaN         NaN   \n",
       "1        91.0       0.1   511.368479  15262754.0   \n",
       "2        97.0       0.1          NaN         NaN   \n",
       "3        99.0       0.1          NaN         NaN   \n",
       "4        88.0       0.1  8199.414621    454528.0   \n",
       "\n",
       "   Income_composition_of_resources  Schooling  \n",
       "0                            0.720       13.3  \n",
       "1                            0.755       13.5  \n",
       "2                            0.623       11.2  \n",
       "3                              NaN        NaN  \n",
       "4                            0.749       13.3  "
      ]
     },
     "execution_count": 23,
     "metadata": {},
     "output_type": "execute_result"
    }
   ],
   "source": [
    "df = pd.read_csv(\"v4.csv\")\n",
    "df.head()"
   ]
  },
  {
   "cell_type": "code",
   "execution_count": 24,
   "metadata": {},
   "outputs": [
    {
     "data": {
      "text/plain": [
       "(1000, 19)"
      ]
     },
     "execution_count": 24,
     "metadata": {},
     "output_type": "execute_result"
    }
   ],
   "source": [
    "df.shape"
   ]
  },
  {
   "cell_type": "code",
   "execution_count": 25,
   "metadata": {},
   "outputs": [
    {
     "data": {
      "text/plain": [
       "Country                              0\n",
       "Status                               0\n",
       "Life_expectancy                      5\n",
       "Adult_Mortality                      5\n",
       "infant_deaths                        0\n",
       "Alcohol                             50\n",
       "percentage_expenditure               0\n",
       "Hepatitis_B                        172\n",
       "Measles                              0\n",
       "BMI                                  9\n",
       "under-five_deaths                    0\n",
       "Polio                                5\n",
       "Total_expenditure                   65\n",
       "Diphtheria                           5\n",
       "HIV_AIDS                             0\n",
       "GDP                                145\n",
       "Population                         213\n",
       "Income_composition_of_resources     54\n",
       "Schooling                           51\n",
       "dtype: int64"
      ]
     },
     "execution_count": 25,
     "metadata": {},
     "output_type": "execute_result"
    }
   ],
   "source": [
    "df.isna().sum()"
   ]
  },
  {
   "cell_type": "code",
   "execution_count": 26,
   "metadata": {},
   "outputs": [
    {
     "data": {
      "text/plain": [
       "Index(['Country', 'Status', 'Life_expectancy', 'Adult_Mortality',\n",
       "       'infant_deaths', 'Alcohol', 'percentage_expenditure', 'Hepatitis_B',\n",
       "       'Measles', 'BMI', 'under-five_deaths', 'Polio', 'Total_expenditure',\n",
       "       'Diphtheria', 'HIV_AIDS', 'GDP', 'Population',\n",
       "       'Income_composition_of_resources', 'Schooling'],\n",
       "      dtype='object')"
      ]
     },
     "execution_count": 26,
     "metadata": {},
     "output_type": "execute_result"
    }
   ],
   "source": [
    "df.columns"
   ]
  },
  {
   "cell_type": "code",
   "execution_count": 27,
   "metadata": {},
   "outputs": [
    {
     "data": {
      "text/plain": [
       "(995, 19)"
      ]
     },
     "execution_count": 27,
     "metadata": {},
     "output_type": "execute_result"
    }
   ],
   "source": [
    "data = df[df[\"Life_expectancy\"] > 0]\n",
    "data.shape"
   ]
  },
  {
   "cell_type": "code",
   "execution_count": 28,
   "metadata": {},
   "outputs": [
    {
     "name": "stdout",
     "output_type": "stream",
     "text": [
      "<class 'pandas.core.frame.DataFrame'>\n",
      "Int64Index: 995 entries, 0 to 999\n",
      "Data columns (total 19 columns):\n",
      " #   Column                           Non-Null Count  Dtype  \n",
      "---  ------                           --------------  -----  \n",
      " 0   Country                          995 non-null    object \n",
      " 1   Status                           995 non-null    object \n",
      " 2   Life_expectancy                  995 non-null    float64\n",
      " 3   Adult_Mortality                  995 non-null    float64\n",
      " 4   infant_deaths                    995 non-null    int64  \n",
      " 5   Alcohol                          945 non-null    float64\n",
      " 6   percentage_expenditure           995 non-null    float64\n",
      " 7   Hepatitis_B                      823 non-null    float64\n",
      " 8   Measles                          995 non-null    int64  \n",
      " 9   BMI                              987 non-null    float64\n",
      " 10  under-five_deaths                995 non-null    int64  \n",
      " 11  Polio                            990 non-null    float64\n",
      " 12  Total_expenditure                930 non-null    float64\n",
      " 13  Diphtheria                       990 non-null    float64\n",
      " 14  HIV_AIDS                         995 non-null    float64\n",
      " 15  GDP                              852 non-null    float64\n",
      " 16  Population                       786 non-null    float64\n",
      " 17  Income_composition_of_resources  945 non-null    float64\n",
      " 18  Schooling                        945 non-null    float64\n",
      "dtypes: float64(14), int64(3), object(2)\n",
      "memory usage: 155.5+ KB\n"
     ]
    }
   ],
   "source": [
    "data.info()"
   ]
  },
  {
   "cell_type": "code",
   "execution_count": 29,
   "metadata": {},
   "outputs": [
    {
     "name": "stdout",
     "output_type": "stream",
     "text": [
      "Index(['Country', 'Status', 'Adult_Mortality', 'infant_deaths', 'Alcohol',\n",
      "       'percentage_expenditure', 'Hepatitis_B', 'Measles', 'BMI',\n",
      "       'under-five_deaths', 'Polio', 'Total_expenditure', 'Diphtheria',\n",
      "       'HIV_AIDS', 'GDP', 'Population', 'Income_composition_of_resources',\n",
      "       'Schooling'],\n",
      "      dtype='object')\n"
     ]
    }
   ],
   "source": [
    "X, y = data.drop('Life_expectancy', axis=1), data['Life_expectancy']\n",
    "print(X.columns)"
   ]
  },
  {
   "cell_type": "code",
   "execution_count": 30,
   "metadata": {},
   "outputs": [
    {
     "data": {
      "text/plain": [
       "0    73.2\n",
       "1    77.3\n",
       "2    69.0\n",
       "3    81.2\n",
       "4    78.1\n",
       "Name: Life_expectancy, dtype: float64"
      ]
     },
     "execution_count": 30,
     "metadata": {},
     "output_type": "execute_result"
    }
   ],
   "source": [
    "y[:5]"
   ]
  },
  {
   "cell_type": "code",
   "execution_count": 31,
   "metadata": {},
   "outputs": [
    {
     "data": {
      "text/plain": [
       "((995, 18), (995,))"
      ]
     },
     "execution_count": 31,
     "metadata": {},
     "output_type": "execute_result"
    }
   ],
   "source": [
    "X.shape, y.shape"
   ]
  },
  {
   "cell_type": "code",
   "execution_count": 32,
   "metadata": {},
   "outputs": [
    {
     "data": {
      "text/plain": [
       "((796, 18), (199, 18), (796,), (199,))"
      ]
     },
     "execution_count": 32,
     "metadata": {},
     "output_type": "execute_result"
    }
   ],
   "source": [
    "from sklearn.model_selection import train_test_split\n",
    "X_train, X_test, y_train, y_test = train_test_split(X, y, test_size=0.2, random_state=32)\n",
    "X_train.shape, X_test.shape, y_train.shape, y_test.shape"
   ]
  },
  {
   "cell_type": "markdown",
   "metadata": {},
   "source": [
    "`Tranform data`  "
   ]
  },
  {
   "cell_type": "code",
   "execution_count": 33,
   "metadata": {},
   "outputs": [],
   "source": [
    "from sklearn.compose import ColumnTransformer\n",
    "from sklearn.pipeline import FeatureUnion, Pipeline\n",
    "from sklearn.preprocessing import StandardScaler, OneHotEncoder\n",
    "from sklearn.impute import SimpleImputer"
   ]
  },
  {
   "cell_type": "code",
   "execution_count": 34,
   "metadata": {},
   "outputs": [],
   "source": [
    "nt1 = ('imputer', SimpleImputer(strategy='mean', missing_values=np.nan), list(range(2, 18)))\n",
    "# nt2 = ('scaler', StandardScaler(), list(range(2, 18)))\n",
    "# numeric_transformer = ColumnTransformer(transformers=[ nt1, nt2], sparse_threshold=0)"
   ]
  },
  {
   "cell_type": "code",
   "execution_count": 35,
   "metadata": {},
   "outputs": [],
   "source": [
    "num_pipe = Pipeline(steps=[('nt1', ColumnTransformer(transformers=[nt1])),\n",
    "                            ('nt2', StandardScaler())])"
   ]
  },
  {
   "cell_type": "code",
   "execution_count": 36,
   "metadata": {},
   "outputs": [],
   "source": [
    "ct = ('ohe', OneHotEncoder(handle_unknown='ignore'), [0,1])\n",
    "categorical_transformer = ColumnTransformer(transformers=[ct])"
   ]
  },
  {
   "cell_type": "code",
   "execution_count": 37,
   "metadata": {},
   "outputs": [
    {
     "data": {
      "text/plain": [
       "(796, 18)"
      ]
     },
     "execution_count": 37,
     "metadata": {},
     "output_type": "execute_result"
    }
   ],
   "source": [
    "X_train.shape"
   ]
  },
  {
   "cell_type": "code",
   "execution_count": 38,
   "metadata": {},
   "outputs": [
    {
     "data": {
      "text/html": [
       "<div>\n",
       "<style scoped>\n",
       "    .dataframe tbody tr th:only-of-type {\n",
       "        vertical-align: middle;\n",
       "    }\n",
       "\n",
       "    .dataframe tbody tr th {\n",
       "        vertical-align: top;\n",
       "    }\n",
       "\n",
       "    .dataframe thead th {\n",
       "        text-align: right;\n",
       "    }\n",
       "</style>\n",
       "<table border=\"1\" class=\"dataframe\">\n",
       "  <thead>\n",
       "    <tr style=\"text-align: right;\">\n",
       "      <th></th>\n",
       "      <th>Country</th>\n",
       "      <th>Status</th>\n",
       "    </tr>\n",
       "  </thead>\n",
       "  <tbody>\n",
       "    <tr>\n",
       "      <th>982</th>\n",
       "      <td>United Republic of Tanzania</td>\n",
       "      <td>Developing</td>\n",
       "    </tr>\n",
       "    <tr>\n",
       "      <th>455</th>\n",
       "      <td>Italy</td>\n",
       "      <td>Developed</td>\n",
       "    </tr>\n",
       "    <tr>\n",
       "      <th>460</th>\n",
       "      <td>Peru</td>\n",
       "      <td>Developing</td>\n",
       "    </tr>\n",
       "    <tr>\n",
       "      <th>839</th>\n",
       "      <td>Malawi</td>\n",
       "      <td>Developing</td>\n",
       "    </tr>\n",
       "    <tr>\n",
       "      <th>84</th>\n",
       "      <td>Mauritania</td>\n",
       "      <td>Developing</td>\n",
       "    </tr>\n",
       "  </tbody>\n",
       "</table>\n",
       "</div>"
      ],
      "text/plain": [
       "                         Country      Status\n",
       "982  United Republic of Tanzania  Developing\n",
       "455                        Italy   Developed\n",
       "460                         Peru  Developing\n",
       "839                       Malawi  Developing\n",
       "84                    Mauritania  Developing"
      ]
     },
     "execution_count": 38,
     "metadata": {},
     "output_type": "execute_result"
    }
   ],
   "source": [
    "X_train.iloc[:, 0:2].head()"
   ]
  },
  {
   "cell_type": "code",
   "execution_count": 39,
   "metadata": {},
   "outputs": [
    {
     "data": {
      "text/html": [
       "<div>\n",
       "<style scoped>\n",
       "    .dataframe tbody tr th:only-of-type {\n",
       "        vertical-align: middle;\n",
       "    }\n",
       "\n",
       "    .dataframe tbody tr th {\n",
       "        vertical-align: top;\n",
       "    }\n",
       "\n",
       "    .dataframe thead th {\n",
       "        text-align: right;\n",
       "    }\n",
       "</style>\n",
       "<table border=\"1\" class=\"dataframe\">\n",
       "  <thead>\n",
       "    <tr style=\"text-align: right;\">\n",
       "      <th></th>\n",
       "      <th>Adult_Mortality</th>\n",
       "      <th>infant_deaths</th>\n",
       "      <th>Alcohol</th>\n",
       "      <th>percentage_expenditure</th>\n",
       "      <th>Hepatitis_B</th>\n",
       "      <th>Measles</th>\n",
       "      <th>BMI</th>\n",
       "      <th>under-five_deaths</th>\n",
       "      <th>Polio</th>\n",
       "      <th>Total_expenditure</th>\n",
       "      <th>Diphtheria</th>\n",
       "      <th>HIV_AIDS</th>\n",
       "      <th>GDP</th>\n",
       "      <th>Population</th>\n",
       "      <th>Income_composition_of_resources</th>\n",
       "      <th>Schooling</th>\n",
       "    </tr>\n",
       "  </thead>\n",
       "  <tbody>\n",
       "    <tr>\n",
       "      <th>982</th>\n",
       "      <td>34.0</td>\n",
       "      <td>86</td>\n",
       "      <td>0.01</td>\n",
       "      <td>0.000000</td>\n",
       "      <td>97.0</td>\n",
       "      <td>88</td>\n",
       "      <td>23.2</td>\n",
       "      <td>121</td>\n",
       "      <td>97.0</td>\n",
       "      <td>5.58</td>\n",
       "      <td>97.0</td>\n",
       "      <td>1.4</td>\n",
       "      <td>NaN</td>\n",
       "      <td>NaN</td>\n",
       "      <td>NaN</td>\n",
       "      <td>NaN</td>\n",
       "    </tr>\n",
       "    <tr>\n",
       "      <th>455</th>\n",
       "      <td>72.0</td>\n",
       "      <td>2</td>\n",
       "      <td>9.25</td>\n",
       "      <td>2883.334911</td>\n",
       "      <td>95.0</td>\n",
       "      <td>9385</td>\n",
       "      <td>56.4</td>\n",
       "      <td>3</td>\n",
       "      <td>96.0</td>\n",
       "      <td>8.23</td>\n",
       "      <td>93.0</td>\n",
       "      <td>0.1</td>\n",
       "      <td>22196.573600</td>\n",
       "      <td>57597.0</td>\n",
       "      <td>0.836</td>\n",
       "      <td>15.2</td>\n",
       "    </tr>\n",
       "    <tr>\n",
       "      <th>460</th>\n",
       "      <td>133.0</td>\n",
       "      <td>11</td>\n",
       "      <td>4.29</td>\n",
       "      <td>516.403702</td>\n",
       "      <td>93.0</td>\n",
       "      <td>0</td>\n",
       "      <td>5.2</td>\n",
       "      <td>15</td>\n",
       "      <td>93.0</td>\n",
       "      <td>4.60</td>\n",
       "      <td>93.0</td>\n",
       "      <td>0.3</td>\n",
       "      <td>3611.214700</td>\n",
       "      <td>28292724.0</td>\n",
       "      <td>0.696</td>\n",
       "      <td>13.2</td>\n",
       "    </tr>\n",
       "    <tr>\n",
       "      <th>839</th>\n",
       "      <td>394.0</td>\n",
       "      <td>29</td>\n",
       "      <td>0.01</td>\n",
       "      <td>55.831076</td>\n",
       "      <td>89.0</td>\n",
       "      <td>1</td>\n",
       "      <td>18.8</td>\n",
       "      <td>42</td>\n",
       "      <td>89.0</td>\n",
       "      <td>1.96</td>\n",
       "      <td>89.0</td>\n",
       "      <td>6.3</td>\n",
       "      <td>332.922339</td>\n",
       "      <td>16577147.0</td>\n",
       "      <td>0.459</td>\n",
       "      <td>10.7</td>\n",
       "    </tr>\n",
       "    <tr>\n",
       "      <th>84</th>\n",
       "      <td>217.0</td>\n",
       "      <td>8</td>\n",
       "      <td>0.02</td>\n",
       "      <td>61.762638</td>\n",
       "      <td>74.0</td>\n",
       "      <td>4</td>\n",
       "      <td>26.1</td>\n",
       "      <td>12</td>\n",
       "      <td>73.0</td>\n",
       "      <td>3.23</td>\n",
       "      <td>74.0</td>\n",
       "      <td>1.3</td>\n",
       "      <td>1167.535689</td>\n",
       "      <td>347541.0</td>\n",
       "      <td>0.475</td>\n",
       "      <td>7.2</td>\n",
       "    </tr>\n",
       "  </tbody>\n",
       "</table>\n",
       "</div>"
      ],
      "text/plain": [
       "     Adult_Mortality  infant_deaths  Alcohol  percentage_expenditure  \\\n",
       "982             34.0             86     0.01                0.000000   \n",
       "455             72.0              2     9.25             2883.334911   \n",
       "460            133.0             11     4.29              516.403702   \n",
       "839            394.0             29     0.01               55.831076   \n",
       "84             217.0              8     0.02               61.762638   \n",
       "\n",
       "     Hepatitis_B  Measles   BMI  under-five_deaths  Polio  Total_expenditure  \\\n",
       "982         97.0       88  23.2                121   97.0               5.58   \n",
       "455         95.0     9385  56.4                  3   96.0               8.23   \n",
       "460         93.0        0   5.2                 15   93.0               4.60   \n",
       "839         89.0        1  18.8                 42   89.0               1.96   \n",
       "84          74.0        4  26.1                 12   73.0               3.23   \n",
       "\n",
       "     Diphtheria  HIV_AIDS           GDP  Population  \\\n",
       "982        97.0       1.4           NaN         NaN   \n",
       "455        93.0       0.1  22196.573600     57597.0   \n",
       "460        93.0       0.3   3611.214700  28292724.0   \n",
       "839        89.0       6.3    332.922339  16577147.0   \n",
       "84         74.0       1.3   1167.535689    347541.0   \n",
       "\n",
       "     Income_composition_of_resources  Schooling  \n",
       "982                              NaN        NaN  \n",
       "455                            0.836       15.2  \n",
       "460                            0.696       13.2  \n",
       "839                            0.459       10.7  \n",
       "84                             0.475        7.2  "
      ]
     },
     "execution_count": 39,
     "metadata": {},
     "output_type": "execute_result"
    }
   ],
   "source": [
    "X_train.iloc[:, 2:18].head()"
   ]
  },
  {
   "cell_type": "code",
   "execution_count": 40,
   "metadata": {},
   "outputs": [
    {
     "data": {
      "text/plain": [
       "(796, 201)"
      ]
     },
     "execution_count": 40,
     "metadata": {},
     "output_type": "execute_result"
    }
   ],
   "source": [
    "fu = FeatureUnion(transformer_list=[('num_trans', num_pipe), ('cat_trans', categorical_transformer)])\n",
    "X_new = fu.fit_transform(X_train)\n",
    "X_new.shape"
   ]
  },
  {
   "cell_type": "code",
   "execution_count": 41,
   "metadata": {},
   "outputs": [
    {
     "data": {
      "text/plain": [
       "scipy.sparse.csr.csr_matrix"
      ]
     },
     "execution_count": 41,
     "metadata": {},
     "output_type": "execute_result"
    }
   ],
   "source": [
    "type(X_new)"
   ]
  },
  {
   "cell_type": "markdown",
   "metadata": {},
   "source": [
    "`Linear Regression`  "
   ]
  },
  {
   "cell_type": "code",
   "execution_count": 42,
   "metadata": {},
   "outputs": [
    {
     "data": {
      "text/plain": [
       "LinearRegression()"
      ]
     },
     "execution_count": 42,
     "metadata": {},
     "output_type": "execute_result"
    }
   ],
   "source": [
    "from sklearn.linear_model import LinearRegression\n",
    "lin_reg = LinearRegression()\n",
    "lin_reg.fit(X_new, y_train)"
   ]
  }
 ],
 "metadata": {
  "kernelspec": {
   "display_name": "Python 3.9.7 64-bit (system)",
   "language": "python",
   "name": "python3"
  },
  "language_info": {
   "codemirror_mode": {
    "name": "ipython",
    "version": 3
   },
   "file_extension": ".py",
   "mimetype": "text/x-python",
   "name": "python",
   "nbconvert_exporter": "python",
   "pygments_lexer": "ipython3",
   "version": "3.9.7"
  },
  "orig_nbformat": 4,
  "vscode": {
   "interpreter": {
    "hash": "d8d268999435ed29d8bef8ffeeebb384179ebf9491a8b848a9fa72e41c1c6c58"
   }
  }
 },
 "nbformat": 4,
 "nbformat_minor": 2
}
