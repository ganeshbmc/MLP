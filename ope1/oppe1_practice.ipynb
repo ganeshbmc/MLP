{
  "cells": [
    {
      "cell_type": "markdown",
      "metadata": {
        "colab_type": "text",
        "id": "view-in-github"
      },
      "source": [
        "<a href=\"https://colab.research.google.com/github/ganeshbmc/MLP/blob/main/oppe1_practice.ipynb\" target=\"_parent\"><img src=\"https://colab.research.google.com/assets/colab-badge.svg\" alt=\"Open In Colab\"/></a>"
      ]
    },
    {
      "cell_type": "code",
      "execution_count": 57,
      "metadata": {
        "colab": {
          "base_uri": "https://localhost:8080/",
          "height": 73,
          "resources": {
            "http://localhost:8080/nbextensions/google.colab/files.js": {
              "data": "Ly8gQ29weXJpZ2h0IDIwMTcgR29vZ2xlIExMQwovLwovLyBMaWNlbnNlZCB1bmRlciB0aGUgQXBhY2hlIExpY2Vuc2UsIFZlcnNpb24gMi4wICh0aGUgIkxpY2Vuc2UiKTsKLy8geW91IG1heSBub3QgdXNlIHRoaXMgZmlsZSBleGNlcHQgaW4gY29tcGxpYW5jZSB3aXRoIHRoZSBMaWNlbnNlLgovLyBZb3UgbWF5IG9idGFpbiBhIGNvcHkgb2YgdGhlIExpY2Vuc2UgYXQKLy8KLy8gICAgICBodHRwOi8vd3d3LmFwYWNoZS5vcmcvbGljZW5zZXMvTElDRU5TRS0yLjAKLy8KLy8gVW5sZXNzIHJlcXVpcmVkIGJ5IGFwcGxpY2FibGUgbGF3IG9yIGFncmVlZCB0byBpbiB3cml0aW5nLCBzb2Z0d2FyZQovLyBkaXN0cmlidXRlZCB1bmRlciB0aGUgTGljZW5zZSBpcyBkaXN0cmlidXRlZCBvbiBhbiAiQVMgSVMiIEJBU0lTLAovLyBXSVRIT1VUIFdBUlJBTlRJRVMgT1IgQ09ORElUSU9OUyBPRiBBTlkgS0lORCwgZWl0aGVyIGV4cHJlc3Mgb3IgaW1wbGllZC4KLy8gU2VlIHRoZSBMaWNlbnNlIGZvciB0aGUgc3BlY2lmaWMgbGFuZ3VhZ2UgZ292ZXJuaW5nIHBlcm1pc3Npb25zIGFuZAovLyBsaW1pdGF0aW9ucyB1bmRlciB0aGUgTGljZW5zZS4KCi8qKgogKiBAZmlsZW92ZXJ2aWV3IEhlbHBlcnMgZm9yIGdvb2dsZS5jb2xhYiBQeXRob24gbW9kdWxlLgogKi8KKGZ1bmN0aW9uKHNjb3BlKSB7CmZ1bmN0aW9uIHNwYW4odGV4dCwgc3R5bGVBdHRyaWJ1dGVzID0ge30pIHsKICBjb25zdCBlbGVtZW50ID0gZG9jdW1lbnQuY3JlYXRlRWxlbWVudCgnc3BhbicpOwogIGVsZW1lbnQudGV4dENvbnRlbnQgPSB0ZXh0OwogIGZvciAoY29uc3Qga2V5IG9mIE9iamVjdC5rZXlzKHN0eWxlQXR0cmlidXRlcykpIHsKICAgIGVsZW1lbnQuc3R5bGVba2V5XSA9IHN0eWxlQXR0cmlidXRlc1trZXldOwogIH0KICByZXR1cm4gZWxlbWVudDsKfQoKLy8gTWF4IG51bWJlciBvZiBieXRlcyB3aGljaCB3aWxsIGJlIHVwbG9hZGVkIGF0IGEgdGltZS4KY29uc3QgTUFYX1BBWUxPQURfU0laRSA9IDEwMCAqIDEwMjQ7CgpmdW5jdGlvbiBfdXBsb2FkRmlsZXMoaW5wdXRJZCwgb3V0cHV0SWQpIHsKICBjb25zdCBzdGVwcyA9IHVwbG9hZEZpbGVzU3RlcChpbnB1dElkLCBvdXRwdXRJZCk7CiAgY29uc3Qgb3V0cHV0RWxlbWVudCA9IGRvY3VtZW50LmdldEVsZW1lbnRCeUlkKG91dHB1dElkKTsKICAvLyBDYWNoZSBzdGVwcyBvbiB0aGUgb3V0cHV0RWxlbWVudCB0byBtYWtlIGl0IGF2YWlsYWJsZSBmb3IgdGhlIG5leHQgY2FsbAogIC8vIHRvIHVwbG9hZEZpbGVzQ29udGludWUgZnJvbSBQeXRob24uCiAgb3V0cHV0RWxlbWVudC5zdGVwcyA9IHN0ZXBzOwoKICByZXR1cm4gX3VwbG9hZEZpbGVzQ29udGludWUob3V0cHV0SWQpOwp9CgovLyBUaGlzIGlzIHJvdWdobHkgYW4gYXN5bmMgZ2VuZXJhdG9yIChub3Qgc3VwcG9ydGVkIGluIHRoZSBicm93c2VyIHlldCksCi8vIHdoZXJlIHRoZXJlIGFyZSBtdWx0aXBsZSBhc3luY2hyb25vdXMgc3RlcHMgYW5kIHRoZSBQeXRob24gc2lkZSBpcyBnb2luZwovLyB0byBwb2xsIGZvciBjb21wbGV0aW9uIG9mIGVhY2ggc3RlcC4KLy8gVGhpcyB1c2VzIGEgUHJvbWlzZSB0byBibG9jayB0aGUgcHl0aG9uIHNpZGUgb24gY29tcGxldGlvbiBvZiBlYWNoIHN0ZXAsCi8vIHRoZW4gcGFzc2VzIHRoZSByZXN1bHQgb2YgdGhlIHByZXZpb3VzIHN0ZXAgYXMgdGhlIGlucHV0IHRvIHRoZSBuZXh0IHN0ZXAuCmZ1bmN0aW9uIF91cGxvYWRGaWxlc0NvbnRpbnVlKG91dHB1dElkKSB7CiAgY29uc3Qgb3V0cHV0RWxlbWVudCA9IGRvY3VtZW50LmdldEVsZW1lbnRCeUlkKG91dHB1dElkKTsKICBjb25zdCBzdGVwcyA9IG91dHB1dEVsZW1lbnQuc3RlcHM7CgogIGNvbnN0IG5leHQgPSBzdGVwcy5uZXh0KG91dHB1dEVsZW1lbnQubGFzdFByb21pc2VWYWx1ZSk7CiAgcmV0dXJuIFByb21pc2UucmVzb2x2ZShuZXh0LnZhbHVlLnByb21pc2UpLnRoZW4oKHZhbHVlKSA9PiB7CiAgICAvLyBDYWNoZSB0aGUgbGFzdCBwcm9taXNlIHZhbHVlIHRvIG1ha2UgaXQgYXZhaWxhYmxlIHRvIHRoZSBuZXh0CiAgICAvLyBzdGVwIG9mIHRoZSBnZW5lcmF0b3IuCiAgICBvdXRwdXRFbGVtZW50Lmxhc3RQcm9taXNlVmFsdWUgPSB2YWx1ZTsKICAgIHJldHVybiBuZXh0LnZhbHVlLnJlc3BvbnNlOwogIH0pOwp9CgovKioKICogR2VuZXJhdG9yIGZ1bmN0aW9uIHdoaWNoIGlzIGNhbGxlZCBiZXR3ZWVuIGVhY2ggYXN5bmMgc3RlcCBvZiB0aGUgdXBsb2FkCiAqIHByb2Nlc3MuCiAqIEBwYXJhbSB7c3RyaW5nfSBpbnB1dElkIEVsZW1lbnQgSUQgb2YgdGhlIGlucHV0IGZpbGUgcGlja2VyIGVsZW1lbnQuCiAqIEBwYXJhbSB7c3RyaW5nfSBvdXRwdXRJZCBFbGVtZW50IElEIG9mIHRoZSBvdXRwdXQgZGlzcGxheS4KICogQHJldHVybiB7IUl0ZXJhYmxlPCFPYmplY3Q+fSBJdGVyYWJsZSBvZiBuZXh0IHN0ZXBzLgogKi8KZnVuY3Rpb24qIHVwbG9hZEZpbGVzU3RlcChpbnB1dElkLCBvdXRwdXRJZCkgewogIGNvbnN0IGlucHV0RWxlbWVudCA9IGRvY3VtZW50LmdldEVsZW1lbnRCeUlkKGlucHV0SWQpOwogIGlucHV0RWxlbWVudC5kaXNhYmxlZCA9IGZhbHNlOwoKICBjb25zdCBvdXRwdXRFbGVtZW50ID0gZG9jdW1lbnQuZ2V0RWxlbWVudEJ5SWQob3V0cHV0SWQpOwogIG91dHB1dEVsZW1lbnQuaW5uZXJIVE1MID0gJyc7CgogIGNvbnN0IHBpY2tlZFByb21pc2UgPSBuZXcgUHJvbWlzZSgocmVzb2x2ZSkgPT4gewogICAgaW5wdXRFbGVtZW50LmFkZEV2ZW50TGlzdGVuZXIoJ2NoYW5nZScsIChlKSA9PiB7CiAgICAgIHJlc29sdmUoZS50YXJnZXQuZmlsZXMpOwogICAgfSk7CiAgfSk7CgogIGNvbnN0IGNhbmNlbCA9IGRvY3VtZW50LmNyZWF0ZUVsZW1lbnQoJ2J1dHRvbicpOwogIGlucHV0RWxlbWVudC5wYXJlbnRFbGVtZW50LmFwcGVuZENoaWxkKGNhbmNlbCk7CiAgY2FuY2VsLnRleHRDb250ZW50ID0gJ0NhbmNlbCB1cGxvYWQnOwogIGNvbnN0IGNhbmNlbFByb21pc2UgPSBuZXcgUHJvbWlzZSgocmVzb2x2ZSkgPT4gewogICAgY2FuY2VsLm9uY2xpY2sgPSAoKSA9PiB7CiAgICAgIHJlc29sdmUobnVsbCk7CiAgICB9OwogIH0pOwoKICAvLyBXYWl0IGZvciB0aGUgdXNlciB0byBwaWNrIHRoZSBmaWxlcy4KICBjb25zdCBmaWxlcyA9IHlpZWxkIHsKICAgIHByb21pc2U6IFByb21pc2UucmFjZShbcGlja2VkUHJvbWlzZSwgY2FuY2VsUHJvbWlzZV0pLAogICAgcmVzcG9uc2U6IHsKICAgICAgYWN0aW9uOiAnc3RhcnRpbmcnLAogICAgfQogIH07CgogIGNhbmNlbC5yZW1vdmUoKTsKCiAgLy8gRGlzYWJsZSB0aGUgaW5wdXQgZWxlbWVudCBzaW5jZSBmdXJ0aGVyIHBpY2tzIGFyZSBub3QgYWxsb3dlZC4KICBpbnB1dEVsZW1lbnQuZGlzYWJsZWQgPSB0cnVlOwoKICBpZiAoIWZpbGVzKSB7CiAgICByZXR1cm4gewogICAgICByZXNwb25zZTogewogICAgICAgIGFjdGlvbjogJ2NvbXBsZXRlJywKICAgICAgfQogICAgfTsKICB9CgogIGZvciAoY29uc3QgZmlsZSBvZiBmaWxlcykgewogICAgY29uc3QgbGkgPSBkb2N1bWVudC5jcmVhdGVFbGVtZW50KCdsaScpOwogICAgbGkuYXBwZW5kKHNwYW4oZmlsZS5uYW1lLCB7Zm9udFdlaWdodDogJ2JvbGQnfSkpOwogICAgbGkuYXBwZW5kKHNwYW4oCiAgICAgICAgYCgke2ZpbGUudHlwZSB8fCAnbi9hJ30pIC0gJHtmaWxlLnNpemV9IGJ5dGVzLCBgICsKICAgICAgICBgbGFzdCBtb2RpZmllZDogJHsKICAgICAgICAgICAgZmlsZS5sYXN0TW9kaWZpZWREYXRlID8gZmlsZS5sYXN0TW9kaWZpZWREYXRlLnRvTG9jYWxlRGF0ZVN0cmluZygpIDoKICAgICAgICAgICAgICAgICAgICAgICAgICAgICAgICAgICAgJ24vYSd9IC0gYCkpOwogICAgY29uc3QgcGVyY2VudCA9IHNwYW4oJzAlIGRvbmUnKTsKICAgIGxpLmFwcGVuZENoaWxkKHBlcmNlbnQpOwoKICAgIG91dHB1dEVsZW1lbnQuYXBwZW5kQ2hpbGQobGkpOwoKICAgIGNvbnN0IGZpbGVEYXRhUHJvbWlzZSA9IG5ldyBQcm9taXNlKChyZXNvbHZlKSA9PiB7CiAgICAgIGNvbnN0IHJlYWRlciA9IG5ldyBGaWxlUmVhZGVyKCk7CiAgICAgIHJlYWRlci5vbmxvYWQgPSAoZSkgPT4gewogICAgICAgIHJlc29sdmUoZS50YXJnZXQucmVzdWx0KTsKICAgICAgfTsKICAgICAgcmVhZGVyLnJlYWRBc0FycmF5QnVmZmVyKGZpbGUpOwogICAgfSk7CiAgICAvLyBXYWl0IGZvciB0aGUgZGF0YSB0byBiZSByZWFkeS4KICAgIGxldCBmaWxlRGF0YSA9IHlpZWxkIHsKICAgICAgcHJvbWlzZTogZmlsZURhdGFQcm9taXNlLAogICAgICByZXNwb25zZTogewogICAgICAgIGFjdGlvbjogJ2NvbnRpbnVlJywKICAgICAgfQogICAgfTsKCiAgICAvLyBVc2UgYSBjaHVua2VkIHNlbmRpbmcgdG8gYXZvaWQgbWVzc2FnZSBzaXplIGxpbWl0cy4gU2VlIGIvNjIxMTU2NjAuCiAgICBsZXQgcG9zaXRpb24gPSAwOwogICAgZG8gewogICAgICBjb25zdCBsZW5ndGggPSBNYXRoLm1pbihmaWxlRGF0YS5ieXRlTGVuZ3RoIC0gcG9zaXRpb24sIE1BWF9QQVlMT0FEX1NJWkUpOwogICAgICBjb25zdCBjaHVuayA9IG5ldyBVaW50OEFycmF5KGZpbGVEYXRhLCBwb3NpdGlvbiwgbGVuZ3RoKTsKICAgICAgcG9zaXRpb24gKz0gbGVuZ3RoOwoKICAgICAgY29uc3QgYmFzZTY0ID0gYnRvYShTdHJpbmcuZnJvbUNoYXJDb2RlLmFwcGx5KG51bGwsIGNodW5rKSk7CiAgICAgIHlpZWxkIHsKICAgICAgICByZXNwb25zZTogewogICAgICAgICAgYWN0aW9uOiAnYXBwZW5kJywKICAgICAgICAgIGZpbGU6IGZpbGUubmFtZSwKICAgICAgICAgIGRhdGE6IGJhc2U2NCwKICAgICAgICB9LAogICAgICB9OwoKICAgICAgbGV0IHBlcmNlbnREb25lID0gZmlsZURhdGEuYnl0ZUxlbmd0aCA9PT0gMCA/CiAgICAgICAgICAxMDAgOgogICAgICAgICAgTWF0aC5yb3VuZCgocG9zaXRpb24gLyBmaWxlRGF0YS5ieXRlTGVuZ3RoKSAqIDEwMCk7CiAgICAgIHBlcmNlbnQudGV4dENvbnRlbnQgPSBgJHtwZXJjZW50RG9uZX0lIGRvbmVgOwoKICAgIH0gd2hpbGUgKHBvc2l0aW9uIDwgZmlsZURhdGEuYnl0ZUxlbmd0aCk7CiAgfQoKICAvLyBBbGwgZG9uZS4KICB5aWVsZCB7CiAgICByZXNwb25zZTogewogICAgICBhY3Rpb246ICdjb21wbGV0ZScsCiAgICB9CiAgfTsKfQoKc2NvcGUuZ29vZ2xlID0gc2NvcGUuZ29vZ2xlIHx8IHt9OwpzY29wZS5nb29nbGUuY29sYWIgPSBzY29wZS5nb29nbGUuY29sYWIgfHwge307CnNjb3BlLmdvb2dsZS5jb2xhYi5fZmlsZXMgPSB7CiAgX3VwbG9hZEZpbGVzLAogIF91cGxvYWRGaWxlc0NvbnRpbnVlLAp9Owp9KShzZWxmKTsK",
              "headers": [
                [
                  "content-type",
                  "application/javascript"
                ]
              ],
              "ok": true,
              "status": 200,
              "status_text": ""
            }
          }
        },
        "id": "Pleqa_954UTo",
        "outputId": "37d6a96a-6479-4e8b-e7d7-d8f8c431d8e7"
      },
      "outputs": [
        {
          "data": {
            "text/html": [
              "\n",
              "     <input type=\"file\" id=\"files-8bdd6f9a-2264-4dc1-a44c-c44f0211355c\" name=\"files[]\" multiple disabled\n",
              "        style=\"border:none\" />\n",
              "     <output id=\"result-8bdd6f9a-2264-4dc1-a44c-c44f0211355c\">\n",
              "      Upload widget is only available when the cell has been executed in the\n",
              "      current browser session. Please rerun this cell to enable.\n",
              "      </output>\n",
              "      <script src=\"/nbextensions/google.colab/files.js\"></script> "
            ],
            "text/plain": [
              "<IPython.core.display.HTML object>"
            ]
          },
          "metadata": {},
          "output_type": "display_data"
        },
        {
          "name": "stdout",
          "output_type": "stream",
          "text": [
            "Saving v4.csv to v4 (2).csv\n"
          ]
        }
      ],
      "source": [
        "from google.colab import files\n",
        "uploaded = files.upload()"
      ]
    },
    {
      "cell_type": "code",
      "execution_count": 58,
      "metadata": {
        "id": "BLEYNtNY7NX7"
      },
      "outputs": [],
      "source": [
        "import pandas as pd\n",
        "import numpy as np"
      ]
    },
    {
      "cell_type": "code",
      "execution_count": 59,
      "metadata": {
        "colab": {
          "base_uri": "https://localhost:8080/",
          "height": 357
        },
        "id": "TsHHHENF7GIH",
        "outputId": "235233fe-a35d-43ec-e687-d69cfc2c2213"
      },
      "outputs": [
        {
          "data": {
            "text/html": [
              "\n",
              "  <div id=\"df-1b584fd9-9c5a-4109-a17f-3aa274c12ee2\">\n",
              "    <div class=\"colab-df-container\">\n",
              "      <div>\n",
              "<style scoped>\n",
              "    .dataframe tbody tr th:only-of-type {\n",
              "        vertical-align: middle;\n",
              "    }\n",
              "\n",
              "    .dataframe tbody tr th {\n",
              "        vertical-align: top;\n",
              "    }\n",
              "\n",
              "    .dataframe thead th {\n",
              "        text-align: right;\n",
              "    }\n",
              "</style>\n",
              "<table border=\"1\" class=\"dataframe\">\n",
              "  <thead>\n",
              "    <tr style=\"text-align: right;\">\n",
              "      <th></th>\n",
              "      <th>Country</th>\n",
              "      <th>Status</th>\n",
              "      <th>Life_expectancy</th>\n",
              "      <th>Adult_Mortality</th>\n",
              "      <th>infant_deaths</th>\n",
              "      <th>Alcohol</th>\n",
              "      <th>percentage_expenditure</th>\n",
              "      <th>Hepatitis_B</th>\n",
              "      <th>Measles</th>\n",
              "      <th>BMI</th>\n",
              "      <th>under-five_deaths</th>\n",
              "      <th>Polio</th>\n",
              "      <th>Total_expenditure</th>\n",
              "      <th>Diphtheria</th>\n",
              "      <th>HIV_AIDS</th>\n",
              "      <th>GDP</th>\n",
              "      <th>Population</th>\n",
              "      <th>Income_composition_of_resources</th>\n",
              "      <th>Schooling</th>\n",
              "    </tr>\n",
              "  </thead>\n",
              "  <tbody>\n",
              "    <tr>\n",
              "      <th>0</th>\n",
              "      <td>Saint Vincent and the Grenadines</td>\n",
              "      <td>Developing</td>\n",
              "      <td>73.2</td>\n",
              "      <td>156.0</td>\n",
              "      <td>0</td>\n",
              "      <td>NaN</td>\n",
              "      <td>0.000000</td>\n",
              "      <td>98.0</td>\n",
              "      <td>0</td>\n",
              "      <td>54.1</td>\n",
              "      <td>0</td>\n",
              "      <td>97.0</td>\n",
              "      <td>NaN</td>\n",
              "      <td>98.0</td>\n",
              "      <td>0.1</td>\n",
              "      <td>NaN</td>\n",
              "      <td>NaN</td>\n",
              "      <td>0.720</td>\n",
              "      <td>13.3</td>\n",
              "    </tr>\n",
              "    <tr>\n",
              "      <th>1</th>\n",
              "      <td>Chile</td>\n",
              "      <td>Developing</td>\n",
              "      <td>77.3</td>\n",
              "      <td>13.0</td>\n",
              "      <td>2</td>\n",
              "      <td>6.24</td>\n",
              "      <td>74.148429</td>\n",
              "      <td>NaN</td>\n",
              "      <td>0</td>\n",
              "      <td>54.0</td>\n",
              "      <td>3</td>\n",
              "      <td>91.0</td>\n",
              "      <td>6.40</td>\n",
              "      <td>91.0</td>\n",
              "      <td>0.1</td>\n",
              "      <td>511.368479</td>\n",
              "      <td>15262754.0</td>\n",
              "      <td>0.755</td>\n",
              "      <td>13.5</td>\n",
              "    </tr>\n",
              "    <tr>\n",
              "      <th>2</th>\n",
              "      <td>Egypt</td>\n",
              "      <td>Developing</td>\n",
              "      <td>69.0</td>\n",
              "      <td>176.0</td>\n",
              "      <td>57</td>\n",
              "      <td>0.16</td>\n",
              "      <td>0.000000</td>\n",
              "      <td>97.0</td>\n",
              "      <td>80</td>\n",
              "      <td>52.9</td>\n",
              "      <td>70</td>\n",
              "      <td>97.0</td>\n",
              "      <td>5.21</td>\n",
              "      <td>97.0</td>\n",
              "      <td>0.1</td>\n",
              "      <td>NaN</td>\n",
              "      <td>NaN</td>\n",
              "      <td>0.623</td>\n",
              "      <td>11.2</td>\n",
              "    </tr>\n",
              "    <tr>\n",
              "      <th>3</th>\n",
              "      <td>Republic of Korea</td>\n",
              "      <td>Developing</td>\n",
              "      <td>81.2</td>\n",
              "      <td>69.0</td>\n",
              "      <td>1</td>\n",
              "      <td>9.56</td>\n",
              "      <td>0.000000</td>\n",
              "      <td>99.0</td>\n",
              "      <td>2</td>\n",
              "      <td>3.4</td>\n",
              "      <td>2</td>\n",
              "      <td>99.0</td>\n",
              "      <td>7.10</td>\n",
              "      <td>99.0</td>\n",
              "      <td>0.1</td>\n",
              "      <td>NaN</td>\n",
              "      <td>NaN</td>\n",
              "      <td>NaN</td>\n",
              "      <td>NaN</td>\n",
              "    </tr>\n",
              "    <tr>\n",
              "      <th>4</th>\n",
              "      <td>Costa Rica</td>\n",
              "      <td>Developing</td>\n",
              "      <td>78.1</td>\n",
              "      <td>16.0</td>\n",
              "      <td>1</td>\n",
              "      <td>3.58</td>\n",
              "      <td>2377.010299</td>\n",
              "      <td>89.0</td>\n",
              "      <td>0</td>\n",
              "      <td>55.5</td>\n",
              "      <td>1</td>\n",
              "      <td>93.0</td>\n",
              "      <td>9.66</td>\n",
              "      <td>88.0</td>\n",
              "      <td>0.1</td>\n",
              "      <td>8199.414621</td>\n",
              "      <td>454528.0</td>\n",
              "      <td>0.749</td>\n",
              "      <td>13.3</td>\n",
              "    </tr>\n",
              "  </tbody>\n",
              "</table>\n",
              "</div>\n",
              "      <button class=\"colab-df-convert\" onclick=\"convertToInteractive('df-1b584fd9-9c5a-4109-a17f-3aa274c12ee2')\"\n",
              "              title=\"Convert this dataframe to an interactive table.\"\n",
              "              style=\"display:none;\">\n",
              "        \n",
              "  <svg xmlns=\"http://www.w3.org/2000/svg\" height=\"24px\"viewBox=\"0 0 24 24\"\n",
              "       width=\"24px\">\n",
              "    <path d=\"M0 0h24v24H0V0z\" fill=\"none\"/>\n",
              "    <path d=\"M18.56 5.44l.94 2.06.94-2.06 2.06-.94-2.06-.94-.94-2.06-.94 2.06-2.06.94zm-11 1L8.5 8.5l.94-2.06 2.06-.94-2.06-.94L8.5 2.5l-.94 2.06-2.06.94zm10 10l.94 2.06.94-2.06 2.06-.94-2.06-.94-.94-2.06-.94 2.06-2.06.94z\"/><path d=\"M17.41 7.96l-1.37-1.37c-.4-.4-.92-.59-1.43-.59-.52 0-1.04.2-1.43.59L10.3 9.45l-7.72 7.72c-.78.78-.78 2.05 0 2.83L4 21.41c.39.39.9.59 1.41.59.51 0 1.02-.2 1.41-.59l7.78-7.78 2.81-2.81c.8-.78.8-2.07 0-2.86zM5.41 20L4 18.59l7.72-7.72 1.47 1.35L5.41 20z\"/>\n",
              "  </svg>\n",
              "      </button>\n",
              "      \n",
              "  <style>\n",
              "    .colab-df-container {\n",
              "      display:flex;\n",
              "      flex-wrap:wrap;\n",
              "      gap: 12px;\n",
              "    }\n",
              "\n",
              "    .colab-df-convert {\n",
              "      background-color: #E8F0FE;\n",
              "      border: none;\n",
              "      border-radius: 50%;\n",
              "      cursor: pointer;\n",
              "      display: none;\n",
              "      fill: #1967D2;\n",
              "      height: 32px;\n",
              "      padding: 0 0 0 0;\n",
              "      width: 32px;\n",
              "    }\n",
              "\n",
              "    .colab-df-convert:hover {\n",
              "      background-color: #E2EBFA;\n",
              "      box-shadow: 0px 1px 2px rgba(60, 64, 67, 0.3), 0px 1px 3px 1px rgba(60, 64, 67, 0.15);\n",
              "      fill: #174EA6;\n",
              "    }\n",
              "\n",
              "    [theme=dark] .colab-df-convert {\n",
              "      background-color: #3B4455;\n",
              "      fill: #D2E3FC;\n",
              "    }\n",
              "\n",
              "    [theme=dark] .colab-df-convert:hover {\n",
              "      background-color: #434B5C;\n",
              "      box-shadow: 0px 1px 3px 1px rgba(0, 0, 0, 0.15);\n",
              "      filter: drop-shadow(0px 1px 2px rgba(0, 0, 0, 0.3));\n",
              "      fill: #FFFFFF;\n",
              "    }\n",
              "  </style>\n",
              "\n",
              "      <script>\n",
              "        const buttonEl =\n",
              "          document.querySelector('#df-1b584fd9-9c5a-4109-a17f-3aa274c12ee2 button.colab-df-convert');\n",
              "        buttonEl.style.display =\n",
              "          google.colab.kernel.accessAllowed ? 'block' : 'none';\n",
              "\n",
              "        async function convertToInteractive(key) {\n",
              "          const element = document.querySelector('#df-1b584fd9-9c5a-4109-a17f-3aa274c12ee2');\n",
              "          const dataTable =\n",
              "            await google.colab.kernel.invokeFunction('convertToInteractive',\n",
              "                                                     [key], {});\n",
              "          if (!dataTable) return;\n",
              "\n",
              "          const docLinkHtml = 'Like what you see? Visit the ' +\n",
              "            '<a target=\"_blank\" href=https://colab.research.google.com/notebooks/data_table.ipynb>data table notebook</a>'\n",
              "            + ' to learn more about interactive tables.';\n",
              "          element.innerHTML = '';\n",
              "          dataTable['output_type'] = 'display_data';\n",
              "          await google.colab.output.renderOutput(dataTable, element);\n",
              "          const docLink = document.createElement('div');\n",
              "          docLink.innerHTML = docLinkHtml;\n",
              "          element.appendChild(docLink);\n",
              "        }\n",
              "      </script>\n",
              "    </div>\n",
              "  </div>\n",
              "  "
            ],
            "text/plain": [
              "                            Country      Status  Life_expectancy  \\\n",
              "0  Saint Vincent and the Grenadines  Developing             73.2   \n",
              "1                             Chile  Developing             77.3   \n",
              "2                             Egypt  Developing             69.0   \n",
              "3                 Republic of Korea  Developing             81.2   \n",
              "4                        Costa Rica  Developing             78.1   \n",
              "\n",
              "   Adult_Mortality  infant_deaths  Alcohol  percentage_expenditure  \\\n",
              "0            156.0              0      NaN                0.000000   \n",
              "1             13.0              2     6.24               74.148429   \n",
              "2            176.0             57     0.16                0.000000   \n",
              "3             69.0              1     9.56                0.000000   \n",
              "4             16.0              1     3.58             2377.010299   \n",
              "\n",
              "   Hepatitis_B  Measles   BMI  under-five_deaths  Polio  Total_expenditure  \\\n",
              "0         98.0        0  54.1                  0   97.0                NaN   \n",
              "1          NaN        0  54.0                  3   91.0               6.40   \n",
              "2         97.0       80  52.9                 70   97.0               5.21   \n",
              "3         99.0        2   3.4                  2   99.0               7.10   \n",
              "4         89.0        0  55.5                  1   93.0               9.66   \n",
              "\n",
              "   Diphtheria  HIV_AIDS          GDP  Population  \\\n",
              "0        98.0       0.1          NaN         NaN   \n",
              "1        91.0       0.1   511.368479  15262754.0   \n",
              "2        97.0       0.1          NaN         NaN   \n",
              "3        99.0       0.1          NaN         NaN   \n",
              "4        88.0       0.1  8199.414621    454528.0   \n",
              "\n",
              "   Income_composition_of_resources  Schooling  \n",
              "0                            0.720       13.3  \n",
              "1                            0.755       13.5  \n",
              "2                            0.623       11.2  \n",
              "3                              NaN        NaN  \n",
              "4                            0.749       13.3  "
            ]
          },
          "execution_count": 59,
          "metadata": {},
          "output_type": "execute_result"
        }
      ],
      "source": [
        "df = pd.read_csv(\"v4.csv\")\n",
        "df.head()"
      ]
    },
    {
      "cell_type": "code",
      "execution_count": 60,
      "metadata": {
        "colab": {
          "base_uri": "https://localhost:8080/"
        },
        "id": "q7qFfdDMBDjt",
        "outputId": "e4ec3936-ff75-4121-8642-c5c7eb1b896a"
      },
      "outputs": [
        {
          "data": {
            "text/plain": [
              "(1000, 19)"
            ]
          },
          "execution_count": 60,
          "metadata": {},
          "output_type": "execute_result"
        }
      ],
      "source": [
        "df.shape"
      ]
    },
    {
      "cell_type": "code",
      "execution_count": 61,
      "metadata": {
        "colab": {
          "base_uri": "https://localhost:8080/"
        },
        "id": "E5eNje4w_lRT",
        "outputId": "d92af571-3718-4d66-b86f-80a7bae85228"
      },
      "outputs": [
        {
          "name": "stdout",
          "output_type": "stream",
          "text": [
            "<class 'pandas.core.frame.DataFrame'>\n",
            "RangeIndex: 1000 entries, 0 to 999\n",
            "Data columns (total 19 columns):\n",
            " #   Column                           Non-Null Count  Dtype  \n",
            "---  ------                           --------------  -----  \n",
            " 0   Country                          1000 non-null   object \n",
            " 1   Status                           1000 non-null   object \n",
            " 2   Life_expectancy                  995 non-null    float64\n",
            " 3   Adult_Mortality                  995 non-null    float64\n",
            " 4   infant_deaths                    1000 non-null   int64  \n",
            " 5   Alcohol                          950 non-null    float64\n",
            " 6   percentage_expenditure           1000 non-null   float64\n",
            " 7   Hepatitis_B                      828 non-null    float64\n",
            " 8   Measles                          1000 non-null   int64  \n",
            " 9   BMI                              991 non-null    float64\n",
            " 10  under-five_deaths                1000 non-null   int64  \n",
            " 11  Polio                            995 non-null    float64\n",
            " 12  Total_expenditure                935 non-null    float64\n",
            " 13  Diphtheria                       995 non-null    float64\n",
            " 14  HIV_AIDS                         1000 non-null   float64\n",
            " 15  GDP                              855 non-null    float64\n",
            " 16  Population                       787 non-null    float64\n",
            " 17  Income_composition_of_resources  946 non-null    float64\n",
            " 18  Schooling                        949 non-null    float64\n",
            "dtypes: float64(14), int64(3), object(2)\n",
            "memory usage: 148.6+ KB\n"
          ]
        }
      ],
      "source": [
        "df.info()"
      ]
    },
    {
      "cell_type": "code",
      "execution_count": 62,
      "metadata": {
        "colab": {
          "base_uri": "https://localhost:8080/"
        },
        "id": "-QeJWx9p_pIH",
        "outputId": "afb2b0bc-6d78-486c-d5e4-b5bb44a82856"
      },
      "outputs": [
        {
          "data": {
            "text/plain": [
              "Country                              0\n",
              "Status                               0\n",
              "Life_expectancy                      5\n",
              "Adult_Mortality                      5\n",
              "infant_deaths                        0\n",
              "Alcohol                             50\n",
              "percentage_expenditure               0\n",
              "Hepatitis_B                        172\n",
              "Measles                              0\n",
              "BMI                                  9\n",
              "under-five_deaths                    0\n",
              "Polio                                5\n",
              "Total_expenditure                   65\n",
              "Diphtheria                           5\n",
              "HIV_AIDS                             0\n",
              "GDP                                145\n",
              "Population                         213\n",
              "Income_composition_of_resources     54\n",
              "Schooling                           51\n",
              "dtype: int64"
            ]
          },
          "execution_count": 62,
          "metadata": {},
          "output_type": "execute_result"
        }
      ],
      "source": [
        "df.isna().sum()"
      ]
    },
    {
      "cell_type": "code",
      "execution_count": 63,
      "metadata": {
        "id": "NT-MBZYcAda4"
      },
      "outputs": [],
      "source": [
        "data = df.dropna(subset= ['Life_expectancy'])"
      ]
    },
    {
      "cell_type": "code",
      "execution_count": 64,
      "metadata": {
        "colab": {
          "base_uri": "https://localhost:8080/"
        },
        "id": "F8oJbcCiAAgd",
        "outputId": "c345a2e0-80e9-4da2-baea-70aaa8976057"
      },
      "outputs": [
        {
          "data": {
            "text/plain": [
              "(995, 19)"
            ]
          },
          "execution_count": 64,
          "metadata": {},
          "output_type": "execute_result"
        }
      ],
      "source": [
        "data.shape"
      ]
    },
    {
      "cell_type": "code",
      "execution_count": 65,
      "metadata": {
        "colab": {
          "base_uri": "https://localhost:8080/"
        },
        "id": "l_BRLBxUBNkO",
        "outputId": "ce53c567-f1d8-475c-9c87-596d37d92a78"
      },
      "outputs": [
        {
          "data": {
            "text/plain": [
              "Country                              0\n",
              "Status                               0\n",
              "Life_expectancy                      0\n",
              "Adult_Mortality                      0\n",
              "infant_deaths                        0\n",
              "Alcohol                             50\n",
              "percentage_expenditure               0\n",
              "Hepatitis_B                        172\n",
              "Measles                              0\n",
              "BMI                                  8\n",
              "under-five_deaths                    0\n",
              "Polio                                5\n",
              "Total_expenditure                   65\n",
              "Diphtheria                           5\n",
              "HIV_AIDS                             0\n",
              "GDP                                143\n",
              "Population                         209\n",
              "Income_composition_of_resources     50\n",
              "Schooling                           50\n",
              "dtype: int64"
            ]
          },
          "execution_count": 65,
          "metadata": {},
          "output_type": "execute_result"
        }
      ],
      "source": [
        "data.isna().sum()"
      ]
    },
    {
      "cell_type": "code",
      "execution_count": 66,
      "metadata": {
        "colab": {
          "base_uri": "https://localhost:8080/"
        },
        "id": "DZzgoOPFB-Al",
        "outputId": "3c5957bc-38f0-40b2-ded8-e9343870c0d0"
      },
      "outputs": [
        {
          "name": "stdout",
          "output_type": "stream",
          "text": [
            "<class 'pandas.core.frame.DataFrame'>\n",
            "Int64Index: 995 entries, 0 to 999\n",
            "Data columns (total 19 columns):\n",
            " #   Column                           Non-Null Count  Dtype  \n",
            "---  ------                           --------------  -----  \n",
            " 0   Country                          995 non-null    object \n",
            " 1   Status                           995 non-null    object \n",
            " 2   Life_expectancy                  995 non-null    float64\n",
            " 3   Adult_Mortality                  995 non-null    float64\n",
            " 4   infant_deaths                    995 non-null    int64  \n",
            " 5   Alcohol                          945 non-null    float64\n",
            " 6   percentage_expenditure           995 non-null    float64\n",
            " 7   Hepatitis_B                      823 non-null    float64\n",
            " 8   Measles                          995 non-null    int64  \n",
            " 9   BMI                              987 non-null    float64\n",
            " 10  under-five_deaths                995 non-null    int64  \n",
            " 11  Polio                            990 non-null    float64\n",
            " 12  Total_expenditure                930 non-null    float64\n",
            " 13  Diphtheria                       990 non-null    float64\n",
            " 14  HIV_AIDS                         995 non-null    float64\n",
            " 15  GDP                              852 non-null    float64\n",
            " 16  Population                       786 non-null    float64\n",
            " 17  Income_composition_of_resources  945 non-null    float64\n",
            " 18  Schooling                        945 non-null    float64\n",
            "dtypes: float64(14), int64(3), object(2)\n",
            "memory usage: 155.5+ KB\n"
          ]
        }
      ],
      "source": [
        "data.info()"
      ]
    },
    {
      "cell_type": "code",
      "execution_count": 67,
      "metadata": {
        "colab": {
          "base_uri": "https://localhost:8080/"
        },
        "id": "kWE_cwuVCCPN",
        "outputId": "294f7523-8cbb-4626-bdc4-05f6e86798ce"
      },
      "outputs": [
        {
          "data": {
            "text/plain": [
              "38.063931104356634"
            ]
          },
          "execution_count": 67,
          "metadata": {},
          "output_type": "execute_result"
        }
      ],
      "source": [
        "data['BMI'].mean()"
      ]
    },
    {
      "cell_type": "code",
      "execution_count": 68,
      "metadata": {
        "colab": {
          "base_uri": "https://localhost:8080/"
        },
        "id": "buAd9xmZCJd-",
        "outputId": "e3d1b378-3ab7-48ff-b6fb-18d66c212001"
      },
      "outputs": [
        {
          "data": {
            "text/plain": [
              "183"
            ]
          },
          "execution_count": 68,
          "metadata": {},
          "output_type": "execute_result"
        }
      ],
      "source": [
        "len(data['Country'].unique())"
      ]
    },
    {
      "cell_type": "code",
      "execution_count": 69,
      "metadata": {
        "colab": {
          "base_uri": "https://localhost:8080/"
        },
        "id": "ZiVneSvmCUZZ",
        "outputId": "4d15995d-40c0-43fd-da4f-0ef45682c189"
      },
      "outputs": [
        {
          "data": {
            "text/plain": [
              "Index(['Country', 'Status', 'Life_expectancy', 'Adult_Mortality',\n",
              "       'infant_deaths', 'Alcohol', 'percentage_expenditure', 'Hepatitis_B',\n",
              "       'Measles', 'BMI', 'under-five_deaths', 'Polio', 'Total_expenditure',\n",
              "       'Diphtheria', 'HIV_AIDS', 'GDP', 'Population',\n",
              "       'Income_composition_of_resources', 'Schooling'],\n",
              "      dtype='object')"
            ]
          },
          "execution_count": 69,
          "metadata": {},
          "output_type": "execute_result"
        }
      ],
      "source": [
        "data.columns"
      ]
    },
    {
      "cell_type": "code",
      "execution_count": 70,
      "metadata": {
        "id": "YtAfM5jxCXX1"
      },
      "outputs": [],
      "source": [
        "x, y = data.drop(['Life_expectancy'], axis=1), data['Life_expectancy']"
      ]
    },
    {
      "cell_type": "code",
      "execution_count": 71,
      "metadata": {
        "colab": {
          "base_uri": "https://localhost:8080/"
        },
        "id": "Bac_YMCXCqor",
        "outputId": "886dfc9a-ac41-4187-c015-4e5dc499b4bc"
      },
      "outputs": [
        {
          "data": {
            "text/plain": [
              "Index(['Country', 'Status', 'Adult_Mortality', 'infant_deaths', 'Alcohol',\n",
              "       'percentage_expenditure', 'Hepatitis_B', 'Measles', 'BMI',\n",
              "       'under-five_deaths', 'Polio', 'Total_expenditure', 'Diphtheria',\n",
              "       'HIV_AIDS', 'GDP', 'Population', 'Income_composition_of_resources',\n",
              "       'Schooling'],\n",
              "      dtype='object')"
            ]
          },
          "execution_count": 71,
          "metadata": {},
          "output_type": "execute_result"
        }
      ],
      "source": [
        "x.columns"
      ]
    },
    {
      "cell_type": "code",
      "execution_count": 72,
      "metadata": {
        "colab": {
          "base_uri": "https://localhost:8080/"
        },
        "id": "MeGAddHxCtwS",
        "outputId": "9287ee13-8c13-4680-d65d-e32e53c29d72"
      },
      "outputs": [
        {
          "data": {
            "text/plain": [
              "(995, 18)"
            ]
          },
          "execution_count": 72,
          "metadata": {},
          "output_type": "execute_result"
        }
      ],
      "source": [
        "x.shape"
      ]
    },
    {
      "cell_type": "code",
      "execution_count": 73,
      "metadata": {
        "colab": {
          "base_uri": "https://localhost:8080/"
        },
        "id": "pYHfFFibCvKe",
        "outputId": "6bba8a00-2367-41b3-a4fd-de0f1099386f"
      },
      "outputs": [
        {
          "data": {
            "text/plain": [
              "(995,)"
            ]
          },
          "execution_count": 73,
          "metadata": {},
          "output_type": "execute_result"
        }
      ],
      "source": [
        "y.shape"
      ]
    },
    {
      "cell_type": "code",
      "execution_count": 74,
      "metadata": {
        "colab": {
          "base_uri": "https://localhost:8080/"
        },
        "id": "uX_4CkpMCxtd",
        "outputId": "3013df20-8af9-4347-c14f-0cab92a65e2d"
      },
      "outputs": [
        {
          "data": {
            "text/plain": [
              "0    73.2\n",
              "1    77.3\n",
              "2    69.0\n",
              "3    81.2\n",
              "4    78.1\n",
              "Name: Life_expectancy, dtype: float64"
            ]
          },
          "execution_count": 74,
          "metadata": {},
          "output_type": "execute_result"
        }
      ],
      "source": [
        "y[:5]"
      ]
    },
    {
      "cell_type": "code",
      "execution_count": 75,
      "metadata": {
        "colab": {
          "base_uri": "https://localhost:8080/"
        },
        "id": "ExZ4ZhqHE7ay",
        "outputId": "07fa2f90-b326-4d10-86bd-9b88580c64fd"
      },
      "outputs": [
        {
          "data": {
            "text/plain": [
              "((796, 18), (199, 18), (796,), (199,))"
            ]
          },
          "execution_count": 75,
          "metadata": {},
          "output_type": "execute_result"
        }
      ],
      "source": [
        "from sklearn.model_selection import train_test_split\n",
        "x_train, x_test, y_train, y_test = train_test_split(x, y, test_size=0.2, random_state=42)\n",
        "x_train.shape, x_test.shape, y_train.shape, y_test.shape"
      ]
    },
    {
      "cell_type": "code",
      "execution_count": 76,
      "metadata": {
        "id": "B04B_vGjC4D8"
      },
      "outputs": [],
      "source": [
        "from sklearn.compose import ColumnTransformer\n",
        "from sklearn.pipeline import Pipeline, FeatureUnion\n",
        "from sklearn.impute import SimpleImputer\n",
        "from sklearn.preprocessing import StandardScaler, OneHotEncoder"
      ]
    },
    {
      "cell_type": "code",
      "execution_count": 77,
      "metadata": {
        "colab": {
          "base_uri": "https://localhost:8080/"
        },
        "id": "xrPQVz1aDN2m",
        "outputId": "a2a04f11-42ce-4ea1-e644-1bd5662289ab"
      },
      "outputs": [
        {
          "data": {
            "text/plain": [
              "Index(['Country', 'Status', 'Adult_Mortality', 'infant_deaths', 'Alcohol',\n",
              "       'percentage_expenditure', 'Hepatitis_B', 'Measles', 'BMI',\n",
              "       'under-five_deaths', 'Polio', 'Total_expenditure', 'Diphtheria',\n",
              "       'HIV_AIDS', 'GDP', 'Population', 'Income_composition_of_resources',\n",
              "       'Schooling'],\n",
              "      dtype='object')"
            ]
          },
          "execution_count": 77,
          "metadata": {},
          "output_type": "execute_result"
        }
      ],
      "source": [
        "x.columns"
      ]
    },
    {
      "cell_type": "code",
      "execution_count": 78,
      "metadata": {
        "id": "DZV-Kw1NDLNS"
      },
      "outputs": [],
      "source": [
        "nf = ['Adult_Mortality', 'infant_deaths', 'Alcohol',\n",
        "       'percentage_expenditure', 'Hepatitis_B', 'Measles', 'BMI',\n",
        "       'under-five_deaths', 'Polio', 'Total_expenditure', 'Diphtheria',\n",
        "       'HIV_AIDS', 'GDP', 'Population', 'Income_composition_of_resources',\n",
        "       'Schooling']\n",
        "\n",
        "cf = ['Country', 'Status']"
      ]
    },
    {
      "cell_type": "code",
      "execution_count": 79,
      "metadata": {
        "id": "g-yAD2N0DaBb"
      },
      "outputs": [],
      "source": [
        "# For numerical features, do simple imputation using mean and then scale them using standard scaler\n",
        "num_tf = Pipeline(steps=\n",
        "                    [\n",
        "                        ('imputer', SimpleImputer(strategy='mean')),\n",
        "                        ('scaler', StandardScaler())\n",
        "                    ])\n",
        "cat_tf = OneHotEncoder(handle_unknown='ignore')"
      ]
    },
    {
      "cell_type": "code",
      "execution_count": 80,
      "metadata": {
        "id": "r6SkFTUDEig1"
      },
      "outputs": [],
      "source": [
        "tf = ColumnTransformer(transformers=\n",
        "                       [\n",
        "                           ('num', num_tf, nf),\n",
        "                            ('cat', cat_tf, cf)\n",
        "                       ])\n",
        "x_train = tf.fit_transform(x_train)"
      ]
    },
    {
      "cell_type": "code",
      "execution_count": 81,
      "metadata": {
        "colab": {
          "base_uri": "https://localhost:8080/"
        },
        "id": "O5ggqCjuFdje",
        "outputId": "c996e06f-0d7a-4fff-f0ed-d44bdbefcb34"
      },
      "outputs": [
        {
          "data": {
            "text/plain": [
              "(796, 200)"
            ]
          },
          "execution_count": 81,
          "metadata": {},
          "output_type": "execute_result"
        }
      ],
      "source": [
        "x_train.shape"
      ]
    },
    {
      "cell_type": "code",
      "execution_count": 82,
      "metadata": {
        "colab": {
          "base_uri": "https://localhost:8080/"
        },
        "id": "nnV6WEwLGyTr",
        "outputId": "666abea4-a968-4544-e413-eac8e5ccaa05"
      },
      "outputs": [
        {
          "data": {
            "text/plain": [
              "scipy.sparse.csr.csr_matrix"
            ]
          },
          "execution_count": 82,
          "metadata": {},
          "output_type": "execute_result"
        }
      ],
      "source": [
        "type(x_train)"
      ]
    },
    {
      "cell_type": "code",
      "execution_count": 87,
      "metadata": {
        "id": "tgQ6yTDaSzOw"
      },
      "outputs": [],
      "source": [
        "x_test = tf.transform(x_test)"
      ]
    },
    {
      "cell_type": "code",
      "execution_count": 88,
      "metadata": {
        "colab": {
          "base_uri": "https://localhost:8080/"
        },
        "id": "5GeTc7f2S6Cb",
        "outputId": "352b5167-7444-4bba-f6cb-6d8d7291d2d4"
      },
      "outputs": [
        {
          "data": {
            "text/plain": [
              "(199, 200)"
            ]
          },
          "execution_count": 88,
          "metadata": {},
          "output_type": "execute_result"
        }
      ],
      "source": [
        "x_test.shape"
      ]
    },
    {
      "cell_type": "code",
      "execution_count": 83,
      "metadata": {
        "id": "anjxhpl3R3Nd"
      },
      "outputs": [],
      "source": [
        "# Fit SGDRegressor\n",
        "from sklearn.linear_model import SGDRegressor\n",
        "\n",
        "sgd_kwargs = {'penalty': 'l1',\n",
        "              'alpha': 0.001,\n",
        "              'learning_rate': 'constant',\n",
        "              'eta0': 0.001,\n",
        "              'random_state': 42}\n",
        "\n",
        "sgdr = SGDRegressor(**sgd_kwargs)"
      ]
    },
    {
      "cell_type": "code",
      "execution_count": 84,
      "metadata": {
        "colab": {
          "base_uri": "https://localhost:8080/"
        },
        "id": "sIgHg8ekSd1C",
        "outputId": "4b6c8eb0-e5b5-4677-fbcc-5b17e172f582"
      },
      "outputs": [
        {
          "data": {
            "text/plain": [
              "SGDRegressor(alpha=0.001, eta0=0.001, learning_rate='constant', penalty='l1',\n",
              "             random_state=42)"
            ]
          },
          "execution_count": 84,
          "metadata": {},
          "output_type": "execute_result"
        }
      ],
      "source": [
        "sgdr.fit(x_train, y_train)"
      ]
    },
    {
      "cell_type": "code",
      "execution_count": 90,
      "metadata": {
        "colab": {
          "base_uri": "https://localhost:8080/"
        },
        "id": "jeOLGUw-SmPs",
        "outputId": "71b37953-c990-4e5b-c0b0-35fd16981db8"
      },
      "outputs": [
        {
          "data": {
            "text/plain": [
              "0.9408233293674609"
            ]
          },
          "execution_count": 90,
          "metadata": {},
          "output_type": "execute_result"
        }
      ],
      "source": [
        "train_score = sgdr.score(x_train, y_train)\n",
        "train_score"
      ]
    },
    {
      "cell_type": "code",
      "execution_count": 91,
      "metadata": {
        "colab": {
          "base_uri": "https://localhost:8080/"
        },
        "id": "kh6BIDUSSsST",
        "outputId": "6ad4fddf-48da-41b9-9363-8bef8631cdc1"
      },
      "outputs": [
        {
          "data": {
            "text/plain": [
              "0.9177805166861385"
            ]
          },
          "execution_count": 91,
          "metadata": {},
          "output_type": "execute_result"
        }
      ],
      "source": [
        "test_score = sgdr.score(x_test, y_test)\n",
        "test_score"
      ]
    },
    {
      "cell_type": "code",
      "execution_count": 92,
      "metadata": {
        "colab": {
          "base_uri": "https://localhost:8080/"
        },
        "id": "4Cw8qWXhS-_I",
        "outputId": "0cb0b809-2e57-4380-9ad4-f7984c9bf5db"
      },
      "outputs": [
        {
          "data": {
            "text/plain": [
              "0.023042812681322467"
            ]
          },
          "execution_count": 92,
          "metadata": {},
          "output_type": "execute_result"
        }
      ],
      "source": [
        "np.abs(train_score - test_score)"
      ]
    },
    {
      "cell_type": "code",
      "execution_count": 93,
      "metadata": {
        "colab": {
          "base_uri": "https://localhost:8080/"
        },
        "id": "cBpj35EfTQ-x",
        "outputId": "9c3197e6-c2d3-4966-c2ff-c30453ce186f"
      },
      "outputs": [
        {
          "data": {
            "text/plain": [
              "(5.338581649513021, 7.4416912688516)"
            ]
          },
          "execution_count": 93,
          "metadata": {},
          "output_type": "execute_result"
        }
      ],
      "source": [
        "from sklearn.metrics import mean_squared_error\n",
        "mse_train = mean_squared_error(y_train, sgdr.predict(x_train))\n",
        "mse_test = mean_squared_error(y_test, sgdr.predict(x_test))\n",
        "mse_train, mse_test"
      ]
    },
    {
      "cell_type": "code",
      "execution_count": 94,
      "metadata": {
        "colab": {
          "base_uri": "https://localhost:8080/"
        },
        "id": "5TyiW4lBTusD",
        "outputId": "2ee781ef-fe1c-40ad-8804-cb0308742e0e"
      },
      "outputs": [
        {
          "data": {
            "text/plain": [
              "2.1031096193385794"
            ]
          },
          "execution_count": 94,
          "metadata": {},
          "output_type": "execute_result"
        }
      ],
      "source": [
        "np.abs(mse_train - mse_test)"
      ]
    }
  ],
  "metadata": {
    "colab": {
      "authorship_tag": "ABX9TyMO/yULrYReMlXb2q9zTgn4",
      "include_colab_link": true,
      "mount_file_id": "1o2soeRcidaf0RcPho1MX4E3mmbi5AXof",
      "name": "oppe1_practice.ipynb",
      "provenance": []
    },
    "kernelspec": {
      "display_name": "Python 3.9.7 ('breeze_venv': venv)",
      "language": "python",
      "name": "python3"
    },
    "language_info": {
      "name": "python",
      "version": "3.9.7"
    },
    "vscode": {
      "interpreter": {
        "hash": "2aee5d54ee989bebb69703e06a2f16d91b0fd177a2000c6dc453d9df6160402d"
      }
    }
  },
  "nbformat": 4,
  "nbformat_minor": 0
}
