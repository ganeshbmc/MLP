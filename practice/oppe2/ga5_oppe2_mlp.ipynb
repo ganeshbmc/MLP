{
 "cells": [
  {
   "cell_type": "markdown",
   "metadata": {},
   "source": [
    "# GA5 practice for OPPE2  "
   ]
  },
  {
   "cell_type": "code",
   "execution_count": 2,
   "metadata": {},
   "outputs": [],
   "source": [
    "import numpy as np\n",
    "import pandas as pd"
   ]
  },
  {
   "cell_type": "code",
   "execution_count": 1,
   "metadata": {},
   "outputs": [
    {
     "data": {
      "text/plain": [
       "sklearn.utils.Bunch"
      ]
     },
     "execution_count": 1,
     "metadata": {},
     "output_type": "execute_result"
    }
   ],
   "source": [
    "from sklearn.datasets import fetch_openml\n",
    "data = fetch_openml('mnist_784', version=1)\n",
    "type(data)"
   ]
  },
  {
   "cell_type": "code",
   "execution_count": 3,
   "metadata": {},
   "outputs": [
    {
     "data": {
      "text/plain": [
       "((70000, 784), (70000,))"
      ]
     },
     "execution_count": 3,
     "metadata": {},
     "output_type": "execute_result"
    }
   ],
   "source": [
    "X = data.data.to_numpy()\n",
    "y = data.target.to_numpy()\n",
    "\n",
    "X.shape, y.shape"
   ]
  },
  {
   "cell_type": "code",
   "execution_count": 4,
   "metadata": {},
   "outputs": [
    {
     "data": {
      "text/plain": [
       "((10000, 784), (2000, 784), (10000,), (2000,))"
      ]
     },
     "execution_count": 4,
     "metadata": {},
     "output_type": "execute_result"
    }
   ],
   "source": [
    "X_train, X_test = X[:10000], X[10000:12000]\n",
    "y_train, y_test = y[:10000], y[10000:12000]\n",
    "\n",
    "X_train.shape, X_test.shape, y_train.shape, y_test.shape"
   ]
  },
  {
   "cell_type": "code",
   "execution_count": 9,
   "metadata": {},
   "outputs": [
    {
     "data": {
      "text/plain": [
       "((1895, 784), (1895,))"
      ]
     },
     "execution_count": 9,
     "metadata": {},
     "output_type": "execute_result"
    }
   ],
   "source": [
    "idx_5 = np.where(y_train == '5')\n",
    "idx_3 = np.where(y_train == '3')\n",
    "\n",
    "X_5 = X_train[idx_5]\n",
    "X_3 = X_train[idx_3]\n",
    "\n",
    "y_5 = y_train[idx_5]\n",
    "y_3 = y_train[idx_3]\n",
    "\n",
    "X_5_3_stacked = np.concatenate((X_5, X_3), axis = 0)\n",
    "y_5_3_stacked = np.concatenate((y_5, y_3), axis = 0)\n",
    "\n",
    "X_5_3_stacked.shape, y_5_3_stacked.shape"
   ]
  },
  {
   "cell_type": "code",
   "execution_count": 14,
   "metadata": {},
   "outputs": [
    {
     "name": "stdout",
     "output_type": "stream",
     "text": [
      "[ 1  1  1 ... -1 -1 -1]\n",
      "[1 1 1 1 1]\n",
      "[-1 -1 -1 -1 -1]\n"
     ]
    }
   ],
   "source": [
    "y_new = np.where(y_5_3_stacked=='5', 1, -1)\n",
    "print(y_new)\n",
    "print(y_new[:5])\n",
    "print(y_new[-5:])"
   ]
  },
  {
   "cell_type": "code",
   "execution_count": 28,
   "metadata": {},
   "outputs": [
    {
     "data": {
      "text/plain": [
       "Perceptron(alpha=1, max_iter=100, random_state=42)"
      ]
     },
     "execution_count": 28,
     "metadata": {},
     "output_type": "execute_result"
    }
   ],
   "source": [
    "from sklearn.linear_model import Perceptron\n",
    "pcpc = Perceptron(alpha=1, max_iter=100, shuffle=True, fit_intercept=True, penalty=None, random_state=42)\n",
    "pcpc"
   ]
  },
  {
   "cell_type": "code",
   "execution_count": 29,
   "metadata": {},
   "outputs": [
    {
     "data": {
      "text/plain": [
       "Perceptron(alpha=1, max_iter=100, random_state=42)"
      ]
     },
     "execution_count": 29,
     "metadata": {},
     "output_type": "execute_result"
    }
   ],
   "source": [
    "pcpc.fit(X_5_3_stacked, y_new)"
   ]
  },
  {
   "cell_type": "code",
   "execution_count": 30,
   "metadata": {},
   "outputs": [
    {
     "data": {
      "text/plain": [
       "(863, 1032)"
      ]
     },
     "execution_count": 30,
     "metadata": {},
     "output_type": "execute_result"
    }
   ],
   "source": [
    "len(X_5), len(X_3)"
   ]
  },
  {
   "cell_type": "code",
   "execution_count": 31,
   "metadata": {},
   "outputs": [
    {
     "data": {
      "text/plain": [
       "((381, 784), (381,))"
      ]
     },
     "execution_count": 31,
     "metadata": {},
     "output_type": "execute_result"
    }
   ],
   "source": [
    "idx_5_test = np.where(y_test == '5')\n",
    "idx_3_test = np.where(y_test == '3')\n",
    "\n",
    "X_5_test = X_test[idx_5_test]\n",
    "X_3_test = X_test[idx_3_test]\n",
    "\n",
    "y_5_test = y_test[idx_5_test]\n",
    "y_3_test = y_test[idx_3_test]\n",
    "\n",
    "X_5_3_stacked_test = np.concatenate((X_5_test, X_3_test), axis = 0)\n",
    "y_5_3_stacked_test = np.concatenate((y_5_test, y_3_test), axis = 0)\n",
    "\n",
    "X_5_3_stacked_test.shape, y_5_3_stacked_test.shape"
   ]
  },
  {
   "cell_type": "code",
   "execution_count": 32,
   "metadata": {},
   "outputs": [
    {
     "data": {
      "text/plain": [
       "381"
      ]
     },
     "execution_count": 32,
     "metadata": {},
     "output_type": "execute_result"
    }
   ],
   "source": [
    "y_test_new = np.where(y_5_3_stacked_test=='5', 1, -1)\n",
    "len(y_test_new)"
   ]
  },
  {
   "cell_type": "code",
   "execution_count": 33,
   "metadata": {},
   "outputs": [
    {
     "data": {
      "text/plain": [
       "(array([1, 1, 1, 1, 1]), array([-1, -1, -1, -1, -1]))"
      ]
     },
     "execution_count": 33,
     "metadata": {},
     "output_type": "execute_result"
    }
   ],
   "source": [
    "y_test_new[:5], y_test_new[-5:]"
   ]
  },
  {
   "cell_type": "code",
   "execution_count": 34,
   "metadata": {},
   "outputs": [
    {
     "data": {
      "text/plain": [
       "array([[190,   6],\n",
       "       [ 12, 173]], dtype=int64)"
      ]
     },
     "execution_count": 34,
     "metadata": {},
     "output_type": "execute_result"
    }
   ],
   "source": [
    "from sklearn.metrics import confusion_matrix\n",
    "cm = confusion_matrix(y_test_new, pcpc.predict(X_5_3_stacked_test))\n",
    "cm"
   ]
  },
  {
   "cell_type": "code",
   "execution_count": 40,
   "metadata": {},
   "outputs": [
    {
     "name": "stdout",
     "output_type": "stream",
     "text": [
      "              precision    recall  f1-score   support\n",
      "\n",
      "          -1       0.94      0.97      0.95       196\n",
      "           1       0.97      0.94      0.95       185\n",
      "\n",
      "    accuracy                           0.95       381\n",
      "   macro avg       0.95      0.95      0.95       381\n",
      "weighted avg       0.95      0.95      0.95       381\n",
      "\n"
     ]
    }
   ],
   "source": [
    "from matplotlib.pyplot import cla\n",
    "from sklearn.metrics import classification_report\n",
    "cr = classification_report(y_test_new, pcpc.predict(X_5_3_stacked_test))\n",
    "print(cr)"
   ]
  },
  {
   "cell_type": "code",
   "execution_count": 35,
   "metadata": {},
   "outputs": [
    {
     "data": {
      "text/plain": [
       "Perceptron(alpha=1, max_iter=100, random_state=42, shuffle=False)"
      ]
     },
     "execution_count": 35,
     "metadata": {},
     "output_type": "execute_result"
    }
   ],
   "source": [
    "pcpc_6 = Perceptron(alpha=1, \n",
    "                    max_iter=100, \n",
    "                    shuffle=False, \n",
    "                    fit_intercept=True, \n",
    "                    penalty=None, \n",
    "                    random_state=42)\n",
    "pcpc_6.fit(X_5_3_stacked, y_new)"
   ]
  },
  {
   "cell_type": "code",
   "execution_count": 36,
   "metadata": {},
   "outputs": [
    {
     "data": {
      "text/plain": [
       "array([[196,   0],\n",
       "       [172,  13]], dtype=int64)"
      ]
     },
     "execution_count": 36,
     "metadata": {},
     "output_type": "execute_result"
    }
   ],
   "source": [
    "from sklearn.metrics import confusion_matrix\n",
    "cm6 = confusion_matrix(y_test_new, pcpc_6.predict(X_5_3_stacked_test))\n",
    "cm6"
   ]
  },
  {
   "cell_type": "code",
   "execution_count": 41,
   "metadata": {},
   "outputs": [
    {
     "name": "stdout",
     "output_type": "stream",
     "text": [
      "              precision    recall  f1-score   support\n",
      "\n",
      "          -1       0.53      1.00      0.70       196\n",
      "           1       1.00      0.07      0.13       185\n",
      "\n",
      "    accuracy                           0.55       381\n",
      "   macro avg       0.77      0.54      0.41       381\n",
      "weighted avg       0.76      0.55      0.42       381\n",
      "\n"
     ]
    }
   ],
   "source": [
    "cr6 = classification_report(y_test_new, pcpc_6.predict(X_5_3_stacked_test))\n",
    "print(cr6)"
   ]
  },
  {
   "cell_type": "markdown",
   "metadata": {},
   "source": [
    "For remaining questions, see ga5_mlp.ipynb file in 'graded' github repo.  "
   ]
  }
 ],
 "metadata": {
  "kernelspec": {
   "display_name": "Python 3.9.12 ('tf')",
   "language": "python",
   "name": "python3"
  },
  "language_info": {
   "codemirror_mode": {
    "name": "ipython",
    "version": 3
   },
   "file_extension": ".py",
   "mimetype": "text/x-python",
   "name": "python",
   "nbconvert_exporter": "python",
   "pygments_lexer": "ipython3",
   "version": "3.9.12"
  },
  "orig_nbformat": 4,
  "vscode": {
   "interpreter": {
    "hash": "78ddfc3686b8b7161f2836984651df038ec9a0366954334fc42499f59ad2b3c8"
   }
  }
 },
 "nbformat": 4,
 "nbformat_minor": 2
}
