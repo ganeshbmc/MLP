{
 "cells": [
  {
   "cell_type": "markdown",
   "metadata": {},
   "source": [
    "# PA6 practice for OPPE2  \n",
    "\n",
    "`All the answers are wrong!`"
   ]
  },
  {
   "cell_type": "code",
   "execution_count": 6,
   "metadata": {},
   "outputs": [],
   "source": [
    "import numpy as np\n",
    "import pandas as pd\n",
    "np.random.seed(42)"
   ]
  },
  {
   "cell_type": "code",
   "execution_count": 1,
   "metadata": {},
   "outputs": [
    {
     "data": {
      "text/plain": [
       "sklearn.utils.Bunch"
      ]
     },
     "execution_count": 1,
     "metadata": {},
     "output_type": "execute_result"
    }
   ],
   "source": [
    "from sklearn.datasets import fetch_openml\n",
    "data = fetch_openml('mnist_784', version=1)\n",
    "type(data)"
   ]
  },
  {
   "cell_type": "code",
   "execution_count": 2,
   "metadata": {},
   "outputs": [
    {
     "data": {
      "text/plain": [
       "dict_keys(['data', 'target', 'frame', 'categories', 'feature_names', 'target_names', 'DESCR', 'details', 'url'])"
      ]
     },
     "execution_count": 2,
     "metadata": {},
     "output_type": "execute_result"
    }
   ],
   "source": [
    "data.keys()"
   ]
  },
  {
   "cell_type": "code",
   "execution_count": 4,
   "metadata": {},
   "outputs": [
    {
     "data": {
      "text/plain": [
       "((70000, 784), (70000,))"
      ]
     },
     "execution_count": 4,
     "metadata": {},
     "output_type": "execute_result"
    }
   ],
   "source": [
    "X = data.data.to_numpy()\n",
    "y = data.target.to_numpy()\n",
    "\n",
    "X.shape, y.shape"
   ]
  },
  {
   "cell_type": "code",
   "execution_count": 7,
   "metadata": {},
   "outputs": [
    {
     "data": {
      "text/plain": [
       "((49000, 784), (21000, 784), (49000,), (21000,))"
      ]
     },
     "execution_count": 7,
     "metadata": {},
     "output_type": "execute_result"
    }
   ],
   "source": [
    "from sklearn.model_selection import train_test_split\n",
    "X_train, X_test, y_train, y_test = train_test_split(X, y, train_size=0.7)\n",
    "X_train.shape, X_test.shape, y_train.shape, y_test.shape"
   ]
  },
  {
   "cell_type": "code",
   "execution_count": 8,
   "metadata": {},
   "outputs": [
    {
     "data": {
      "text/plain": [
       "'0'"
      ]
     },
     "execution_count": 8,
     "metadata": {},
     "output_type": "execute_result"
    }
   ],
   "source": [
    "y_train[-1]"
   ]
  },
  {
   "cell_type": "code",
   "execution_count": 23,
   "metadata": {},
   "outputs": [],
   "source": [
    "# Function to pick required digits\n",
    "def pick(X, y, digit):\n",
    "    i = np.where(y == str(digit))\n",
    "    return X[i], y[i]"
   ]
  },
  {
   "cell_type": "code",
   "execution_count": 10,
   "metadata": {},
   "outputs": [
    {
     "data": {
      "text/plain": [
       "((4788, 784), (4868, 784), (4788,), (4868,))"
      ]
     },
     "execution_count": 10,
     "metadata": {},
     "output_type": "execute_result"
    }
   ],
   "source": [
    "# i6 = np.where(y_train == '6')\n",
    "# i9 = np.where(y_train == '9')\n",
    "\n",
    "# x6 = X_train[i6]\n",
    "# x9 = X_train[i9]\n",
    "\n",
    "# y6 = y_train[i6]\n",
    "# y9 = y_train[i9]\n",
    "\n",
    "# x6.shape, x9.shape, y6.shape, y9.shape"
   ]
  },
  {
   "cell_type": "code",
   "execution_count": 24,
   "metadata": {},
   "outputs": [
    {
     "data": {
      "text/plain": [
       "((4788, 784), (4868, 784), (4788,), (4868,))"
      ]
     },
     "execution_count": 24,
     "metadata": {},
     "output_type": "execute_result"
    }
   ],
   "source": [
    "# prepare training data\n",
    "x6, y6 = pick(X_train, y_train, 6)\n",
    "x9, y9 = pick(X_train, y_train, 9)\n",
    "x6.shape, x9.shape, y6.shape, y9.shape"
   ]
  },
  {
   "cell_type": "code",
   "execution_count": 22,
   "metadata": {},
   "outputs": [
    {
     "data": {
      "text/plain": [
       "((9656, 784), (9656,))"
      ]
     },
     "execution_count": 22,
     "metadata": {},
     "output_type": "execute_result"
    }
   ],
   "source": [
    "x69_stack = np.concatenate((x6, x9), axis=0)\n",
    "y69_stack = np.concatenate((y6, y9), axis=0)\n",
    "x69_stack.shape, y69_stack.shape"
   ]
  },
  {
   "cell_type": "code",
   "execution_count": 25,
   "metadata": {},
   "outputs": [
    {
     "data": {
      "text/plain": [
       "array([1, 1, 1, ..., 0, 0, 0])"
      ]
     },
     "execution_count": 25,
     "metadata": {},
     "output_type": "execute_result"
    }
   ],
   "source": [
    "# relabel \n",
    "y69_new = np.where(y69_stack == '6', 1, 0)\n",
    "y69_new"
   ]
  },
  {
   "cell_type": "code",
   "execution_count": 26,
   "metadata": {},
   "outputs": [],
   "source": [
    "from sklearn.utils import shuffle\n",
    "x69_shuffled = shuffle(x69_stack, random_state=1729)\n",
    "y69_shuffled = shuffle(y69_stack, random_state=1729)"
   ]
  },
  {
   "cell_type": "code",
   "execution_count": 27,
   "metadata": {},
   "outputs": [],
   "source": [
    "# prepare test data\n",
    "x6_test, y6_test = pick(X_test, y_test, 6)\n",
    "x9_test, y9_test = pick(X_test, y_test, 9)\n",
    "x69_stack_test = np.concatenate((x6_test, x9_test), axis=0)\n",
    "y69_stack_test = np.concatenate((y6_test, y9_test), axis=0)"
   ]
  },
  {
   "cell_type": "code",
   "execution_count": 29,
   "metadata": {},
   "outputs": [
    {
     "data": {
      "text/plain": [
       "array([1, 1, 1, ..., 0, 0, 0])"
      ]
     },
     "execution_count": 29,
     "metadata": {},
     "output_type": "execute_result"
    }
   ],
   "source": [
    "# relabel\n",
    "y69_test_new = np.where(y69_stack_test=='6', 1, 0)\n",
    "y69_test_new"
   ]
  },
  {
   "cell_type": "code",
   "execution_count": 33,
   "metadata": {},
   "outputs": [
    {
     "data": {
      "text/plain": [
       "72540"
      ]
     },
     "execution_count": 33,
     "metadata": {},
     "output_type": "execute_result"
    }
   ],
   "source": [
    "np.sum(y69_stack.astype(int))"
   ]
  },
  {
   "cell_type": "code",
   "execution_count": 34,
   "metadata": {},
   "outputs": [
    {
     "data": {
      "text/plain": [
       "31338"
      ]
     },
     "execution_count": 34,
     "metadata": {},
     "output_type": "execute_result"
    }
   ],
   "source": [
    "np.sum(y69_stack_test.astype(int))"
   ]
  },
  {
   "cell_type": "code",
   "execution_count": 42,
   "metadata": {},
   "outputs": [],
   "source": [
    "from sklearn.preprocessing import StandardScaler\n",
    "ss = StandardScaler()\n",
    "x69_tf = ss.fit_transform(x69_stack)"
   ]
  },
  {
   "cell_type": "code",
   "execution_count": 43,
   "metadata": {},
   "outputs": [
    {
     "data": {
      "text/plain": [
       "(9656, 784)"
      ]
     },
     "execution_count": 43,
     "metadata": {},
     "output_type": "execute_result"
    }
   ],
   "source": [
    "x69_tf.shape"
   ]
  },
  {
   "cell_type": "code",
   "execution_count": 45,
   "metadata": {},
   "outputs": [
    {
     "data": {
      "text/plain": [
       "(784,)"
      ]
     },
     "execution_count": 45,
     "metadata": {},
     "output_type": "execute_result"
    }
   ],
   "source": [
    "x69_tf[0, :].shape"
   ]
  },
  {
   "cell_type": "code",
   "execution_count": 47,
   "metadata": {},
   "outputs": [
    {
     "data": {
      "text/plain": [
       "(0.11681636987110701, 1.1416511440001913)"
      ]
     },
     "execution_count": 47,
     "metadata": {},
     "output_type": "execute_result"
    }
   ],
   "source": [
    "x69_tf[0].mean(), x69_tf[0].std()"
   ]
  },
  {
   "cell_type": "code",
   "execution_count": 49,
   "metadata": {},
   "outputs": [],
   "source": [
    "from sklearn.linear_model import SGDClassifier\n",
    "sgdc = SGDClassifier(max_iter=10, random_state=10, penalty=None, warm_start=True)\n",
    "# sgdc.fit(x69_shuffled, y69_new)"
   ]
  },
  {
   "cell_type": "code",
   "execution_count": 76,
   "metadata": {},
   "outputs": [],
   "source": [
    "from sklearn.model_selection import learning_curve\n",
    "import seaborn as sns\n",
    "\n",
    "def plot(X, y, alpha, iter=10, inv=False):\n",
    "    sgdc = SGDClassifier(alpha = alpha, max_iter=10, random_state=10, penalty=None, warm_start=True)\n",
    "    if inv:\n",
    "        power_t = 1\n",
    "        sgdc = SGDClassifier(max_iter=10, random_state=10, penalty=None, learning_rate='invscaling', eta0=1, power_t = power_t, warm_start=True)\n",
    "    iterations = list(range(10))\n",
    "    loss = []\n",
    "    sgdc.partial_fit(X, y, classes=[1,0])\n",
    "    for _ in range(iter):\n",
    "        sgdc.partial_fit(X, y)\n",
    "        loss.append(sgdc.score(X, y))\n",
    "    print(sns.lineplot(iterations, loss))"
   ]
  },
  {
   "cell_type": "code",
   "execution_count": 66,
   "metadata": {},
   "outputs": [
    {
     "name": "stdout",
     "output_type": "stream",
     "text": [
      "AxesSubplot(0.125,0.125;0.775x0.755)\n"
     ]
    },
    {
     "name": "stderr",
     "output_type": "stream",
     "text": [
      "c:\\ProgramData\\Anaconda3\\envs\\tf\\lib\\site-packages\\seaborn\\_decorators.py:36: FutureWarning: Pass the following variables as keyword args: x, y. From version 0.12, the only valid positional argument will be `data`, and passing other arguments without an explicit keyword will result in an error or misinterpretation.\n",
      "  warnings.warn(\n"
     ]
    },
    {
     "data": {
      "image/png": "[encoded data removed]",
      "text/plain": [
       "<Figure size 432x288 with 1 Axes>"
      ]
     },
     "metadata": {
      "needs_background": "light"
     },
     "output_type": "display_data"
    }
   ],
   "source": [
    "plot(x69_shuffled, y69_new, 0.01)"
   ]
  },
  {
   "cell_type": "code",
   "execution_count": 67,
   "metadata": {},
   "outputs": [
    {
     "name": "stdout",
     "output_type": "stream",
     "text": [
      "AxesSubplot(0.125,0.125;0.775x0.755)\n"
     ]
    },
    {
     "name": "stderr",
     "output_type": "stream",
     "text": [
      "c:\\ProgramData\\Anaconda3\\envs\\tf\\lib\\site-packages\\seaborn\\_decorators.py:36: FutureWarning: Pass the following variables as keyword args: x, y. From version 0.12, the only valid positional argument will be `data`, and passing other arguments without an explicit keyword will result in an error or misinterpretation.\n",
      "  warnings.warn(\n"
     ]
    },
    {
     "data": {
      "image/png": "[encoded data removed]",
      "text/plain": [
       "<Figure size 432x288 with 1 Axes>"
      ]
     },
     "metadata": {
      "needs_background": "light"
     },
     "output_type": "display_data"
    }
   ],
   "source": [
    "plot(x69_shuffled, y69_new, 0.000001)"
   ]
  },
  {
   "cell_type": "code",
   "execution_count": 68,
   "metadata": {},
   "outputs": [
    {
     "name": "stdout",
     "output_type": "stream",
     "text": [
      "AxesSubplot(0.125,0.125;0.775x0.755)\n"
     ]
    },
    {
     "name": "stderr",
     "output_type": "stream",
     "text": [
      "c:\\ProgramData\\Anaconda3\\envs\\tf\\lib\\site-packages\\seaborn\\_decorators.py:36: FutureWarning: Pass the following variables as keyword args: x, y. From version 0.12, the only valid positional argument will be `data`, and passing other arguments without an explicit keyword will result in an error or misinterpretation.\n",
      "  warnings.warn(\n"
     ]
    },
    {
     "data": {
      "image/png": "[encoded data removed]",
      "text/plain": [
       "<Figure size 432x288 with 1 Axes>"
      ]
     },
     "metadata": {
      "needs_background": "light"
     },
     "output_type": "display_data"
    }
   ],
   "source": [
    "plot(x69_tf, y69_new, 0.01)\n"
   ]
  },
  {
   "cell_type": "code",
   "execution_count": 77,
   "metadata": {},
   "outputs": [
    {
     "name": "stdout",
     "output_type": "stream",
     "text": [
      "AxesSubplot(0.125,0.125;0.775x0.755)\n"
     ]
    },
    {
     "name": "stderr",
     "output_type": "stream",
     "text": [
      "c:\\ProgramData\\Anaconda3\\envs\\tf\\lib\\site-packages\\seaborn\\_decorators.py:36: FutureWarning: Pass the following variables as keyword args: x, y. From version 0.12, the only valid positional argument will be `data`, and passing other arguments without an explicit keyword will result in an error or misinterpretation.\n",
      "  warnings.warn(\n"
     ]
    },
    {
     "data": {
      "image/png": "[encoded data removed]",
      "text/plain": [
       "<Figure size 432x288 with 1 Axes>"
      ]
     },
     "metadata": {
      "needs_background": "light"
     },
     "output_type": "display_data"
    }
   ],
   "source": [
    "plot(x69_shuffled, y69_new, 0.01, inv=True)"
   ]
  },
  {
   "cell_type": "code",
   "execution_count": 73,
   "metadata": {},
   "outputs": [
    {
     "name": "stdout",
     "output_type": "stream",
     "text": [
      "\u001b[1;31mType:\u001b[0m        SGDClassifier\n",
      "\u001b[1;31mString form:\u001b[0m SGDClassifier(max_iter=10, penalty=None, random_state=10)\n",
      "\u001b[1;31mFile:\u001b[0m        c:\\programdata\\anaconda3\\envs\\tf\\lib\\site-packages\\sklearn\\linear_model\\_stochastic_gradient.py\n",
      "\u001b[1;31mDocstring:\u001b[0m  \n",
      "Linear classifiers (SVM, logistic regression, etc.) with SGD training.\n",
      "\n",
      "This estimator implements regularized linear models with stochastic\n",
      "gradient descent (SGD) learning: the gradient of the loss is estimated\n",
      "each sample at a time and the model is updated along the way with a\n",
      "decreasing strength schedule (aka learning rate). SGD allows minibatch\n",
      "(online/out-of-core) learning via the `partial_fit` method.\n",
      "For best results using the default learning rate schedule, the data should\n",
      "have zero mean and unit variance.\n",
      "\n",
      "This implementation works with data represented as dense or sparse arrays\n",
      "of floating point values for the features. The model it fits can be\n",
      "controlled with the loss parameter; by default, it fits a linear support\n",
      "vector machine (SVM).\n",
      "\n",
      "The regularizer is a penalty added to the loss function that shrinks model\n",
      "parameters towards the zero vector using either the squared euclidean norm\n",
      "L2 or the absolute norm L1 or a combination of both (Elastic Net). If the\n",
      "parameter update crosses the 0.0 value because of the regularizer, the\n",
      "update is truncated to 0.0 to allow for learning sparse models and achieve\n",
      "online feature selection.\n",
      "\n",
      "Read more in the :ref:`User Guide <sgd>`.\n",
      "\n",
      "Parameters\n",
      "----------\n",
      "loss : str, default='hinge'\n",
      "    The loss function to be used. Defaults to 'hinge', which gives a\n",
      "    linear SVM.\n",
      "\n",
      "    The possible options are 'hinge', 'log', 'modified_huber',\n",
      "    'squared_hinge', 'perceptron', or a regression loss: 'squared_error',\n",
      "    'huber', 'epsilon_insensitive', or 'squared_epsilon_insensitive'.\n",
      "\n",
      "    The 'log' loss gives logistic regression, a probabilistic classifier.\n",
      "    'modified_huber' is another smooth loss that brings tolerance to\n",
      "    outliers as well as probability estimates.\n",
      "    'squared_hinge' is like hinge but is quadratically penalized.\n",
      "    'perceptron' is the linear loss used by the perceptron algorithm.\n",
      "    The other losses are designed for regression but can be useful in\n",
      "    classification as well; see\n",
      "    :class:`~sklearn.linear_model.SGDRegressor` for a description.\n",
      "\n",
      "    More details about the losses formulas can be found in the\n",
      "    :ref:`User Guide <sgd_mathematical_formulation>`.\n",
      "\n",
      "    .. deprecated:: 1.0\n",
      "        The loss 'squared_loss' was deprecated in v1.0 and will be removed\n",
      "        in version 1.2. Use `loss='squared_error'` which is equivalent.\n",
      "\n",
      "penalty : {'l2', 'l1', 'elasticnet'}, default='l2'\n",
      "    The penalty (aka regularization term) to be used. Defaults to 'l2'\n",
      "    which is the standard regularizer for linear SVM models. 'l1' and\n",
      "    'elasticnet' might bring sparsity to the model (feature selection)\n",
      "    not achievable with 'l2'.\n",
      "\n",
      "alpha : float, default=0.0001\n",
      "    Constant that multiplies the regularization term. The higher the\n",
      "    value, the stronger the regularization.\n",
      "    Also used to compute the learning rate when set to `learning_rate` is\n",
      "    set to 'optimal'.\n",
      "\n",
      "l1_ratio : float, default=0.15\n",
      "    The Elastic Net mixing parameter, with 0 <= l1_ratio <= 1.\n",
      "    l1_ratio=0 corresponds to L2 penalty, l1_ratio=1 to L1.\n",
      "    Only used if `penalty` is 'elasticnet'.\n",
      "\n",
      "fit_intercept : bool, default=True\n",
      "    Whether the intercept should be estimated or not. If False, the\n",
      "    data is assumed to be already centered.\n",
      "\n",
      "max_iter : int, default=1000\n",
      "    The maximum number of passes over the training data (aka epochs).\n",
      "    It only impacts the behavior in the ``fit`` method, and not the\n",
      "    :meth:`partial_fit` method.\n",
      "\n",
      "    .. versionadded:: 0.19\n",
      "\n",
      "tol : float, default=1e-3\n",
      "    The stopping criterion. If it is not None, training will stop\n",
      "    when (loss > best_loss - tol) for ``n_iter_no_change`` consecutive\n",
      "    epochs.\n",
      "    Convergence is checked against the training loss or the\n",
      "    validation loss depending on the `early_stopping` parameter.\n",
      "\n",
      "    .. versionadded:: 0.19\n",
      "\n",
      "shuffle : bool, default=True\n",
      "    Whether or not the training data should be shuffled after each epoch.\n",
      "\n",
      "verbose : int, default=0\n",
      "    The verbosity level.\n",
      "\n",
      "epsilon : float, default=0.1\n",
      "    Epsilon in the epsilon-insensitive loss functions; only if `loss` is\n",
      "    'huber', 'epsilon_insensitive', or 'squared_epsilon_insensitive'.\n",
      "    For 'huber', determines the threshold at which it becomes less\n",
      "    important to get the prediction exactly right.\n",
      "    For epsilon-insensitive, any differences between the current prediction\n",
      "    and the correct label are ignored if they are less than this threshold.\n",
      "\n",
      "n_jobs : int, default=None\n",
      "    The number of CPUs to use to do the OVA (One Versus All, for\n",
      "    multi-class problems) computation.\n",
      "    ``None`` means 1 unless in a :obj:`joblib.parallel_backend` context.\n",
      "    ``-1`` means using all processors. See :term:`Glossary <n_jobs>`\n",
      "    for more details.\n",
      "\n",
      "random_state : int, RandomState instance, default=None\n",
      "    Used for shuffling the data, when ``shuffle`` is set to ``True``.\n",
      "    Pass an int for reproducible output across multiple function calls.\n",
      "    See :term:`Glossary <random_state>`.\n",
      "\n",
      "learning_rate : str, default='optimal'\n",
      "    The learning rate schedule:\n",
      "\n",
      "    - 'constant': `eta = eta0`\n",
      "    - 'optimal': `eta = 1.0 / (alpha * (t + t0))`\n",
      "      where t0 is chosen by a heuristic proposed by Leon Bottou.\n",
      "    - 'invscaling': `eta = eta0 / pow(t, power_t)`\n",
      "    - 'adaptive': eta = eta0, as long as the training keeps decreasing.\n",
      "      Each time n_iter_no_change consecutive epochs fail to decrease the\n",
      "      training loss by tol or fail to increase validation score by tol if\n",
      "      early_stopping is True, the current learning rate is divided by 5.\n",
      "\n",
      "        .. versionadded:: 0.20\n",
      "            Added 'adaptive' option\n",
      "\n",
      "eta0 : float, default=0.0\n",
      "    The initial learning rate for the 'constant', 'invscaling' or\n",
      "    'adaptive' schedules. The default value is 0.0 as eta0 is not used by\n",
      "    the default schedule 'optimal'.\n",
      "\n",
      "power_t : float, default=0.5\n",
      "    The exponent for inverse scaling learning rate [default 0.5].\n",
      "\n",
      "early_stopping : bool, default=False\n",
      "    Whether to use early stopping to terminate training when validation\n",
      "    score is not improving. If set to True, it will automatically set aside\n",
      "    a stratified fraction of training data as validation and terminate\n",
      "    training when validation score returned by the `score` method is not\n",
      "    improving by at least tol for n_iter_no_change consecutive epochs.\n",
      "\n",
      "    .. versionadded:: 0.20\n",
      "        Added 'early_stopping' option\n",
      "\n",
      "validation_fraction : float, default=0.1\n",
      "    The proportion of training data to set aside as validation set for\n",
      "    early stopping. Must be between 0 and 1.\n",
      "    Only used if `early_stopping` is True.\n",
      "\n",
      "    .. versionadded:: 0.20\n",
      "        Added 'validation_fraction' option\n",
      "\n",
      "n_iter_no_change : int, default=5\n",
      "    Number of iterations with no improvement to wait before stopping\n",
      "    fitting.\n",
      "    Convergence is checked against the training loss or the\n",
      "    validation loss depending on the `early_stopping` parameter.\n",
      "\n",
      "    .. versionadded:: 0.20\n",
      "        Added 'n_iter_no_change' option\n",
      "\n",
      "class_weight : dict, {class_label: weight} or \"balanced\", default=None\n",
      "    Preset for the class_weight fit parameter.\n",
      "\n",
      "    Weights associated with classes. If not given, all classes\n",
      "    are supposed to have weight one.\n",
      "\n",
      "    The \"balanced\" mode uses the values of y to automatically adjust\n",
      "    weights inversely proportional to class frequencies in the input data\n",
      "    as ``n_samples / (n_classes * np.bincount(y))``.\n",
      "\n",
      "warm_start : bool, default=False\n",
      "    When set to True, reuse the solution of the previous call to fit as\n",
      "    initialization, otherwise, just erase the previous solution.\n",
      "    See :term:`the Glossary <warm_start>`.\n",
      "\n",
      "    Repeatedly calling fit or partial_fit when warm_start is True can\n",
      "    result in a different solution than when calling fit a single time\n",
      "    because of the way the data is shuffled.\n",
      "    If a dynamic learning rate is used, the learning rate is adapted\n",
      "    depending on the number of samples already seen. Calling ``fit`` resets\n",
      "    this counter, while ``partial_fit`` will result in increasing the\n",
      "    existing counter.\n",
      "\n",
      "average : bool or int, default=False\n",
      "    When set to True, computes the averaged SGD weights across all\n",
      "    updates and stores the result in the ``coef_`` attribute. If set to\n",
      "    an int greater than 1, averaging will begin once the total number of\n",
      "    samples seen reaches `average`. So ``average=10`` will begin\n",
      "    averaging after seeing 10 samples.\n",
      "\n",
      "Attributes\n",
      "----------\n",
      "coef_ : ndarray of shape (1, n_features) if n_classes == 2 else             (n_classes, n_features)\n",
      "    Weights assigned to the features.\n",
      "\n",
      "intercept_ : ndarray of shape (1,) if n_classes == 2 else (n_classes,)\n",
      "    Constants in decision function.\n",
      "\n",
      "n_iter_ : int\n",
      "    The actual number of iterations before reaching the stopping criterion.\n",
      "    For multiclass fits, it is the maximum over every binary fit.\n",
      "\n",
      "loss_function_ : concrete ``LossFunction``\n",
      "\n",
      "classes_ : array of shape (n_classes,)\n",
      "\n",
      "t_ : int\n",
      "    Number of weight updates performed during training.\n",
      "    Same as ``(n_iter_ * n_samples)``.\n",
      "\n",
      "n_features_in_ : int\n",
      "    Number of features seen during :term:`fit`.\n",
      "\n",
      "    .. versionadded:: 0.24\n",
      "\n",
      "feature_names_in_ : ndarray of shape (`n_features_in_`,)\n",
      "    Names of features seen during :term:`fit`. Defined only when `X`\n",
      "    has feature names that are all strings.\n",
      "\n",
      "    .. versionadded:: 1.0\n",
      "\n",
      "See Also\n",
      "--------\n",
      "sklearn.svm.LinearSVC : Linear support vector classification.\n",
      "LogisticRegression : Logistic regression.\n",
      "Perceptron : Inherits from SGDClassifier. ``Perceptron()`` is equivalent to\n",
      "    ``SGDClassifier(loss=\"perceptron\", eta0=1, learning_rate=\"constant\",\n",
      "    penalty=None)``.\n",
      "\n",
      "Examples\n",
      "--------\n",
      ">>> import numpy as np\n",
      ">>> from sklearn.linear_model import SGDClassifier\n",
      ">>> from sklearn.preprocessing import StandardScaler\n",
      ">>> from sklearn.pipeline import make_pipeline\n",
      ">>> X = np.array([[-1, -1], [-2, -1], [1, 1], [2, 1]])\n",
      ">>> Y = np.array([1, 1, 2, 2])\n",
      ">>> # Always scale the input. The most convenient way is to use a pipeline.\n",
      ">>> clf = make_pipeline(StandardScaler(),\n",
      "...                     SGDClassifier(max_iter=1000, tol=1e-3))\n",
      ">>> clf.fit(X, Y)\n",
      "Pipeline(steps=[('standardscaler', StandardScaler()),\n",
      "                ('sgdclassifier', SGDClassifier())])\n",
      ">>> print(clf.predict([[-0.8, -1]]))\n",
      "[1]\n"
     ]
    }
   ],
   "source": [
    "?sgdc"
   ]
  }
 ],
 "metadata": {
  "kernelspec": {
   "display_name": "Python 3.9.12 ('tf')",
   "language": "python",
   "name": "python3"
  },
  "language_info": {
   "codemirror_mode": {
    "name": "ipython",
    "version": 3
   },
   "file_extension": ".py",
   "mimetype": "text/x-python",
   "name": "python",
   "nbconvert_exporter": "python",
   "pygments_lexer": "ipython3",
   "version": "3.9.12"
  },
  "orig_nbformat": 4,
  "vscode": {
   "interpreter": {
    "hash": "78ddfc3686b8b7161f2836984651df038ec9a0366954334fc42499f59ad2b3c8"
   }
  }
 },
 "nbformat": 4,
 "nbformat_minor": 2
}
