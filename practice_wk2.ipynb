{
 "cells": [
  {
   "cell_type": "markdown",
   "metadata": {},
   "source": [
    "# Week 2 practice for quiz  "
   ]
  },
  {
   "cell_type": "markdown",
   "metadata": {},
   "source": [
    "## Feature selection  \n",
    "\n",
    "> Filter based  \n",
    "* VarianceThreshold\n",
    "* SelectKBest  \n",
    "* SelectPercentile  \n",
    "* GenericUnivariateSelect   \n",
    "\n",
    "> Wrapper based  \n",
    "* RFE\n",
    "* RFECV  \n",
    "* SelectFromModel  \n",
    "* SequentialFeatureSelector  "
   ]
  }
 ],
 "metadata": {
  "language_info": {
   "name": "python"
  },
  "orig_nbformat": 4
 },
 "nbformat": 4,
 "nbformat_minor": 2
}
